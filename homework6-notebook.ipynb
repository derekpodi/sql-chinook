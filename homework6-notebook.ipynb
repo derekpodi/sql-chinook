{
    "metadata": {
        "kernelspec": {
            "name": "SQL",
            "display_name": "SQL",
            "language": "sql"
        },
        "language_info": {
            "name": "sql",
            "version": ""
        }
    },
    "nbformat_minor": 2,
    "nbformat": 4,
    "cells": [
        {
            "cell_type": "code",
            "source": [
                "USE master\n",
                "IF DB_ID('MyDB_DerekPodimatis') IS NOT NULL\n",
                "BEGIN\n",
                "    ALTER DATABASE MyDB_DerekPodimatis SET OFFLINE WITH ROLLBACK IMMEDIATE;\n",
                "    ALTER DATABASE MyDB_DerekPodimatis SET ONLINE;\n",
                "    DROP DATABASE MyDB_DerekPodimatis;\n",
                "END"
            ],
            "metadata": {
                "azdata_cell_guid": "4392641d-86f8-4cbe-83da-1c65a1df2eb6",
                "language": "sql"
            },
            "outputs": [],
            "execution_count": null
        },
        {
            "cell_type": "code",
            "source": [
                "--1\n",
                "CREATE DATABASE MyDB_DerekPodimatis\n",
                "GO\n",
                "USE MyDB_DerekPodimatis"
            ],
            "metadata": {
                "azdata_cell_guid": "7f6c1aba-1a6b-40f8-b3aa-882705ca4610",
                "language": "sql"
            },
            "outputs": [],
            "execution_count": null
        },
        {
            "cell_type": "code",
            "source": [
                "--2\n",
                "SELECT *\n",
                "INTO Users\n",
                "FROM Chinook.dbo.Customer\n",
                "USE MyDB_DerekPodimatis"
            ],
            "metadata": {
                "azdata_cell_guid": "7809281e-56f0-423b-a680-cc2d51990b8c",
                "language": "sql"
            },
            "outputs": [],
            "execution_count": null
        },
        {
            "cell_type": "code",
            "source": [
                "--3\n",
                "DELETE Users\n",
                "WHERE CustomerId % 2 != 0"
            ],
            "metadata": {
                "azdata_cell_guid": "25f7bd0d-40d1-4626-bb6e-c58341ba2134",
                "language": "sql"
            },
            "outputs": [],
            "execution_count": null
        },
        {
            "cell_type": "code",
            "source": [
                "--4\n",
                "UPDATE Users\n",
                "SET Company = CASE\n",
                "    WHEN Email LIKE '%gmail%' THEN 'Google'\n",
                "    WHEN Email LIKE '%yahoo%' THEN 'Yahoo!'\n",
                "    ELSE Company\n",
                "    END\n",
                ""
            ],
            "metadata": {
                "azdata_cell_guid": "bee030b7-9f26-49e9-8b7b-007c9a0f72df",
                "language": "sql"
            },
            "outputs": [],
            "execution_count": null
        },
        {
            "cell_type": "code",
            "source": [
                "--5\n",
                "EXEC sp_rename 'Users.CustomerId', 'UserId', 'COLUMN'"
            ],
            "metadata": {
                "azdata_cell_guid": "4f5b3484-1f36-42c0-afaf-7c361581b677",
                "language": "sql"
            },
            "outputs": [],
            "execution_count": null
        },
        {
            "cell_type": "code",
            "source": [
                "--6\n",
                "--ALTER TABLE Users\n",
                "--DROP CONSTRAINT pk_Users\n",
                "\n",
                "ALTER TABLE Users\n",
                "ADD CONSTRAINT pk_Users PRIMARY KEY (UserId)"
            ],
            "metadata": {
                "azdata_cell_guid": "ed23b8e3-4bc0-42e1-8ca9-9225a3f7661b",
                "language": "sql"
            },
            "outputs": [],
            "execution_count": null
        },
        {
            "cell_type": "code",
            "source": [
                "--7\n",
                "CREATE TABLE Address (\n",
                "    AddressId int IDENTITY(1,1) PRIMARY KEY\n",
                "    ,AddressType varchar(10)\n",
                "    ,AddressLine1 varchar(50)\n",
                "    ,City varchar(30)\n",
                "    ,State varchar(2)\n",
                "    ,UserId int\n",
                "    ,CreateDate datetime DEFAULT GETDATE()\n",
                ")"
            ],
            "metadata": {
                "azdata_cell_guid": "fb19b3cd-49e9-4995-afed-6a4e95528796",
                "language": "sql"
            },
            "outputs": [],
            "execution_count": null
        },
        {
            "cell_type": "code",
            "source": [
                "--8\n",
                "ALTER TABLE Address\n",
                "ADD CONSTRAINT uc_AddressType UNIQUE (UserId, AddressType)"
            ],
            "metadata": {
                "azdata_cell_guid": "6f712a01-88b8-4f78-b9e9-aab173457667",
                "language": "sql"
            },
            "outputs": [],
            "execution_count": null
        },
        {
            "cell_type": "code",
            "source": [
                "--9\n",
                "ALTER TABLE Address\n",
                "ADD CONSTRAINT fk_UserAddress FOREIGN KEY (UserId)\n",
                "    REFERENCES Users(UserId)"
            ],
            "metadata": {
                "azdata_cell_guid": "1a963541-ab8b-4697-94e7-60dcb7846c88",
                "language": "sql"
            },
            "outputs": [],
            "execution_count": null
        },
        {
            "cell_type": "code",
            "source": [
                "--10\n",
                "INSERT INTO Address (AddressType, AddressLine1, City, State, UserId)\n",
                "VALUES ('home', '111 Elm St.', 'Los Angeles', 'CA', 2)\n",
                ",('home', '222 Palm Ave.', 'San Diego', 'CA', 4)\n",
                ",('work', '333 Oak Ln.', 'La Jolla', 'CA', 4)"
            ],
            "metadata": {
                "azdata_cell_guid": "95fa70bc-6ebc-4bd5-b684-bef15d4df126",
                "language": "sql"
            },
            "outputs": [],
            "execution_count": null
        },
        {
            "cell_type": "code",
            "source": [
                "--11\n",
                "SELECT *\n",
                "FROM Users\n",
                "\n",
                "SELECT *\n",
                "FROM Address"
            ],
            "metadata": {
                "azdata_cell_guid": "70d915e7-18f5-4dc8-bdfe-6fb761369c27",
                "language": "sql"
            },
            "outputs": [],
            "execution_count": null
        }
    ]
}