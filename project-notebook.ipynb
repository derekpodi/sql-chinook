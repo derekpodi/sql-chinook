{
    "metadata": {
        "kernelspec": {
            "name": "SQL",
            "display_name": "SQL",
            "language": "sql"
        },
        "language_info": {
            "name": "sql",
            "version": ""
        }
    },
    "nbformat_minor": 2,
    "nbformat": 4,
    "cells": [
        {
            "cell_type": "code",
            "source": [
                "-- #1 \n",
                "SELECT TOP (10) WITH TIES\n",
                "    A.Name AS [Artist Name]\n",
                "    ,COUNT(A.Name) * T.UnitPrice AS [Total Sales]\n",
                "FROM Artist A\n",
                "JOIN Album Al\n",
                "    ON Al.ArtistId = A.ArtistId\n",
                "JOIN Track T\n",
                "    ON T.AlbumId = Al.AlbumId\n",
                "JOIN InvoiceLine IL\n",
                "    ON IL.TrackId = T.TrackId\n",
                "JOIN Invoice I\n",
                "    ON I.InvoiceId = IL.InvoiceId\n",
                "WHERE I.InvoiceDate BETWEEN '7/1/2011' AND '6/30/2012'\n",
                "    AND T.MediaTypeId != 3\n",
                "GROUP BY A.Name, T.UnitPrice\n",
                "ORDER BY [Total Sales] DESC"
            ],
            "metadata": {
                "azdata_cell_guid": "be05793c-2058-4cd3-9e6e-6c9d8331caed",
                "language": "sql"
            },
            "outputs": [],
            "execution_count": null
        },
        {
            "cell_type": "code",
            "source": [
                ""
            ],
            "metadata": {
                "azdata_cell_guid": "3859cddc-46d1-4d40-85d8-0e78eae7dac8",
                "language": "sql"
            },
            "outputs": [],
            "execution_count": null
        }
    ]
}