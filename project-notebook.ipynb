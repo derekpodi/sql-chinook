{
    "metadata": {
        "kernelspec": {
            "name": "SQL",
            "display_name": "SQL",
            "language": "sql"
        },
        "language_info": {
            "name": "sql",
            "version": ""
        }
    },
    "nbformat_minor": 2,
    "nbformat": 4,
    "cells": [
        {
            "cell_type": "code",
            "source": [
                "-- #1 \n",
                "SELECT TOP (10) WITH TIES\n",
                "    A.Name AS [Artist Name]\n",
                "    ,COUNT(A.Name) * T.UnitPrice AS [Total Sales]\n",
                "FROM Artist A\n",
                "JOIN Album Al\n",
                "    ON Al.ArtistId = A.ArtistId\n",
                "JOIN Track T\n",
                "    ON T.AlbumId = Al.AlbumId\n",
                "JOIN InvoiceLine IL\n",
                "    ON IL.TrackId = T.TrackId\n",
                "JOIN Invoice I\n",
                "    ON I.InvoiceId = IL.InvoiceId\n",
                "WHERE I.InvoiceDate BETWEEN '7/1/2011' AND '6/30/2012'\n",
                "    AND T.MediaTypeId != 3\n",
                "GROUP BY A.Name, T.UnitPrice\n",
                "ORDER BY [Total Sales] DESC"
            ],
            "metadata": {
                "azdata_cell_guid": "be05793c-2058-4cd3-9e6e-6c9d8331caed",
                "language": "sql"
            },
            "outputs": [],
            "execution_count": null
        },
        {
            "cell_type": "code",
            "source": [
                "-- #2 \n",
                "SELECT\n",
                "    CONCAT(E.FirstName, ' ', E.LastName) AS [Employee Name]\n",
                "    ,YEAR(I.InvoiceDate) AS [Calendar Year]\n",
                "    ,CASE \n",
                "        WHEN DATENAME(quarter,I.InvoiceDate) = 1\n",
                "            THEN 'First'\n",
                "        WHEN DATENAME(quarter,I.InvoiceDate) = 2            \n",
                "            THEN 'Second'\n",
                "        WHEN DATENAME(quarter,I.InvoiceDate) = 3\n",
                "            THEN 'Third'\n",
                "        ELSE\n",
                "            'Fourth'\n",
                "    END AS [Sales Quarter]\n",
                "    ,MAX(I.Total) AS [Highest Sale]\n",
                "    ,COUNT(C.SupportRepId) AS [Number of Sales]\n",
                "    ,SUM(I.Total) AS [Total Sales]\n",
                "FROM Employee E\n",
                "JOIN Customer C\n",
                "    ON C.SupportRepId = E.EmployeeId\n",
                "JOIN Invoice I\n",
                "    ON I.CustomerId = C.CustomerId\n",
                "WHERE E.Title = 'Sales Support Agent'\n",
                "    AND I.InvoiceDate BETWEEN '1/1/2010' AND '6/30/2012'\n",
                "GROUP BY YEAR(I.InvoiceDate), DATENAME(quarter,I.InvoiceDate), E.FirstName, E.LastName\n",
                "ORDER BY [Employee Name], [Calendar Year], DATENAME(quarter,I.InvoiceDate)"
            ],
            "metadata": {
                "azdata_cell_guid": "3859cddc-46d1-4d40-85d8-0e78eae7dac8",
                "language": "sql"
            },
            "outputs": [],
            "execution_count": null
        },
        {
            "cell_type": "code",
            "source": [
                ""
            ],
            "metadata": {
                "azdata_cell_guid": "95feb464-ff4d-4651-8445-66c0777ae1bd",
                "language": "sql"
            },
            "outputs": [],
            "execution_count": null
        }
    ]
}