{
    "metadata": {
        "kernelspec": {
            "name": "SQL",
            "display_name": "SQL",
            "language": "sql"
        },
        "language_info": {
            "name": "sql",
            "version": ""
        }
    },
    "nbformat_minor": 2,
    "nbformat": 4,
    "cells": [
        {
            "cell_type": "code",
            "source": [
                "--1\n",
                "SELECT TOP (10) WITH TIES\n",
                "    A.Name AS [Artist Name]\n",
                "    ,SUM(IL.UnitPrice * IL.Quantity) AS [Total Sales]\n",
                "FROM Artist A\n",
                "JOIN Album Al\n",
                "    ON Al.ArtistId = A.ArtistId\n",
                "JOIN Track T\n",
                "    ON T.AlbumId = Al.AlbumId\n",
                "JOIN InvoiceLine IL\n",
                "    ON IL.TrackId = T.TrackId\n",
                "JOIN Invoice I\n",
                "    ON I.InvoiceId = IL.InvoiceId\n",
                "WHERE (I.InvoiceDate BETWEEN '7/1/2011' AND '6/30/2012')\n",
                "    AND T.MediaTypeId != 3\n",
                "GROUP BY A.Name\n",
                "ORDER BY [Total Sales] DESC"
            ],
            "metadata": {
                "azdata_cell_guid": "be05793c-2058-4cd3-9e6e-6c9d8331caed",
                "language": "sql"
            },
            "outputs": [],
            "execution_count": null
        },
        {
            "cell_type": "code",
            "source": [
                "--2 \n",
                "SELECT\n",
                "    CONCAT(E.FirstName, ' ', E.LastName) AS [Employee Name]\n",
                "    ,YEAR(I.InvoiceDate) AS [Calendar Year]\n",
                "    ,CASE DATEPART(QUARTER, I.InvoiceDate)\n",
                "        WHEN 1 THEN 'First'\n",
                "        WHEN 2 THEN 'Second'\n",
                "        WHEN 3 THEN 'Third'\n",
                "        WHEN 4 THEN 'Fourth'\n",
                "        END AS [Sales Quarter]\n",
                "    ,MAX(I.Total) AS [Highest Sale]\n",
                "    ,COUNT(I.Total) AS [Number of Sales]\n",
                "    ,SUM(I.Total) AS [Total Sales]\n",
                "FROM Employee E\n",
                "JOIN Customer C\n",
                "    ON C.SupportRepId = E.EmployeeId\n",
                "JOIN Invoice I\n",
                "    ON I.CustomerId = C.CustomerId\n",
                "WHERE I.InvoiceDate BETWEEN '1/1/2010' AND '6/30/2012'\n",
                "GROUP BY E.FirstName, E.LastName, YEAR(I.InvoiceDate), DATEPART(QUARTER, I.InvoiceDate)\n",
                "ORDER BY [Employee Name], [Calendar Year], DATEPART(QUARTER, I.InvoiceDate)"
            ],
            "metadata": {
                "azdata_cell_guid": "3859cddc-46d1-4d40-85d8-0e78eae7dac8",
                "language": "sql"
            },
            "outputs": [],
            "execution_count": null
        },
        {
            "cell_type": "code",
            "source": [
                "--3\n",
                "SELECT\n",
                "    P.Name AS [Playlist Name]\n",
                "    ,P.PlaylistId AS [Playlist ID]\n",
                "    ,PT.TrackId AS [Track ID]\n",
                "FROM Playlist P\n",
                "LEFT JOIN PlaylistTrack PT                      --Include Nulls\n",
                "    ON PT.PlaylistId = P.PlaylistId\n",
                "WHERE EXISTS(\n",
                "    SELECT *\n",
                "    FROM Playlist P2\n",
                "    GROUP BY P2.Name\n",
                "    HAVING COUNT(*) > 1                         --Duplicates\n",
                "    AND MAX(P2.PlaylistId) = P.PlaylistId       --Higher duplicate PlaylistIds \n",
                ") \n",
                ""
            ],
            "metadata": {
                "azdata_cell_guid": "95feb464-ff4d-4651-8445-66c0777ae1bd",
                "language": "sql"
            },
            "outputs": [],
            "execution_count": null
        },
        {
            "cell_type": "code",
            "source": [
                "--4\n",
                "SELECT \n",
                "    C.Country AS Country\n",
                "    ,A.Name AS [Artist Name]\n",
                "    ,COUNT(T.Name) AS [Track Count]\n",
                "    ,COUNT(DISTINCT T.Name) AS [Unique Track Count]\n",
                "    ,COUNT(T.Name) - COUNT(DISTINCT T.Name) AS [Count Difference]\n",
                "    ,SUM(IL.UnitPrice * IL.Quantity) AS [Total Revenue]\n",
                "    ,IIF(T.MediaTypeId =3, 'Video', 'Audio') AS [Media Type]\n",
                "FROM Customer C\n",
                "JOIN Invoice I\n",
                "    ON I.CustomerId = C.CustomerId\n",
                "JOIN InvoiceLine IL\n",
                "    ON IL.InvoiceId = I.InvoiceId\n",
                "JOIN Track T\n",
                "    ON T.TrackId = IL.TrackId\n",
                "JOIN Album AL\n",
                "    ON AL.AlbumId = T.AlbumId\n",
                "JOIN Artist A\n",
                "    ON A.ArtistId = AL.ArtistId\n",
                "WHERE I.InvoiceDate BETWEEN '7/1/2009' AND '6/30/2013'\n",
                "GROUP BY C.Country, A.Name, IIF(T.MediaTypeId =3, 'Video', 'Audio')\n",
                "ORDER BY C.Country, [Track Count] DESC, A.Name\n",
                ""
            ],
            "metadata": {
                "azdata_cell_guid": "006aa5d5-482f-4362-b0c9-eaf5404ffa23",
                "language": "sql"
            },
            "outputs": [],
            "execution_count": null
        },
        {
            "cell_type": "code",
            "source": [
                "--5\n",
                "SELECT\n",
                "    CONCAT(E.FirstName, ' ', E.LastName) AS [Full Name]\n",
                "    ,CONVERT(varchar, E.BirthDate, 101) AS [Birth Date]\n",
                "    ,CONVERT(varchar, CAST(CONCAT(MONTH(E.BirthDate),'/',DAY(E.BirthDate),'/','2016') AS date), 101) AS [Birth Day 2016]\n",
                "    ,DATENAME(WEEKDAY, CAST(CONCAT(MONTH(E.BirthDate),'/',DAY(E.BirthDate),'/','2016') AS date)) AS [Birth Day of Week]\n",
                "    ,CASE\n",
                "        WHEN DATENAME(WEEKDAY, CAST(CONCAT(MONTH(E.BirthDate),'/',DAY(E.BirthDate),'/','2016') AS date)) = 'Saturday' \n",
                "            THEN CONVERT(varchar, DATEADD(DAY, 2, CAST(CONCAT(MONTH(E.BirthDate),'/',DAY(E.BirthDate),'/','2016') AS date)), 101)\n",
                "        WHEN DATENAME(WEEKDAY, CAST(CONCAT(MONTH(E.BirthDate),'/',DAY(E.BirthDate),'/','2016') AS date)) = 'Sunday' \n",
                "            THEN CONVERT(varchar, DATEADD(DAY, 1, CAST(CONCAT(MONTH(E.BirthDate),'/',DAY(E.BirthDate),'/','2016') AS date)), 101)\n",
                "        ELSE CONVERT(varchar, CAST(CONCAT(MONTH(E.BirthDate),'/',DAY(E.BirthDate),'/','2016') AS date), 101)\n",
                "        END AS [Celebration Date]\n",
                "    ,CASE\n",
                "        WHEN DATENAME(WEEKDAY, CAST(CONCAT(MONTH(E.BirthDate),'/',DAY(E.BirthDate),'/','2016') AS date)) = 'Saturday' \n",
                "            THEN DATENAME(WEEKDAY, CONVERT(varchar, DATEADD(DAY, 2, CAST(CONCAT(MONTH(E.BirthDate),'/',DAY(E.BirthDate),'/','2016') AS date)), 101))\n",
                "        WHEN DATENAME(WEEKDAY, CAST(CONCAT(MONTH(E.BirthDate),'/',DAY(E.BirthDate),'/','2016') AS date)) = 'Sunday' \n",
                "            THEN DATENAME(WEEKDAY, CONVERT(varchar, DATEADD(DAY, 1, CAST(CONCAT(MONTH(E.BirthDate),'/',DAY(E.BirthDate),'/','2016') AS date)), 101))\n",
                "        ELSE DATENAME(WEEKDAY, CONVERT(varchar, CAST(CONCAT(MONTH(E.BirthDate),'/',DAY(E.BirthDate),'/','2016') AS date), 101))\n",
                "        END AS [Celebration Day of Week]\n",
                "FROM Employee E\n",
                "\n",
                "\n",
                "--Solution with Datefromparts\n",
                "SELECT\n",
                "    FirstName + ' ' + LastName AS [Full Name]\n",
                "    --Converts the birth date to U.S. standard.\n",
                "    ,CONVERT(varchar,BirthDate,101) AS [Birth Date]\n",
                "    --Breaks out the Day and Month from BirthDate and merges them back together with 2016 using\n",
                "    DATEFROMPARTS.\n",
                "    ,CONVERT(varchar,DATEFROMPARTS(2016,Month(BirthDate),Day(BirthDate)),101) AS [Birth Day 2016]\n",
                "    --Finds the day of week in 2016 using DATENAME.\n",
                "    ,DATENAME(weekday,DATEFROMPARTS(2016,Month(BirthDate),Day(BirthDate))) AS [Birth Day of Week]\n",
                "    -- Checks for weekend dates using DATEPART and if found moves them to Monday using DATEADD.\n",
                "    --Conerts the birth date to U.S. standard.\n",
                "    ,CONVERT(varchar,(CASE\n",
                "    WHEN DATEPART(weekday,DATEFROMPARTS(2016,Month(BirthDate),Day(BirthDate))) = 1\n",
                "    THEN DATEADD(DAY,1,DATEFROMPARTS(2016,Month(BirthDate),Day(BirthDate)))\n",
                "    WHEN DATEPART(weekday,DATEFROMPARTS(2016,Month(BirthDate),Day(BirthDate))) = 7\n",
                "    THEN DATEADD(DAY,2,DATEFROMPARTS(2016,Month(BirthDate),Day(BirthDate)))\n",
                "    ELSE DATEFROMPARTS(2016,Month(BirthDate),Day(BirthDate))\n",
                "    END),101) AS [Celebration Date]\n",
                "    --A copy of the above CASE statement encapsulated in a DATENAME function.\n",
                "    ,DATENAME(weekday,(CASE\n",
                "    WHEN DATEPART(weekday,DATEFROMPARTS(2016,Month(BirthDate),Day(BirthDate))) = 1\n",
                "    THEN DATEADD(DAY,1,DATEFROMPARTS(2016,Month(BirthDate),Day(BirthDate)))\n",
                "    WHEN DATEPART(weekday,DATEFROMPARTS(2016,Month(BirthDate),Day(BirthDate))) = 7\n",
                "    THEN DATEADD(DAY,2,DATEFROMPARTS(2016,Month(BirthDate),Day(BirthDate)))\n",
                "    ELSE DATEFROMPARTS(2016,Month(BirthDate),Day(BirthDate))\n",
                "    END )) AS [Celebration Day of Week]\n",
                "FROM Employee"
            ],
            "metadata": {
                "azdata_cell_guid": "eede1432-d621-4bbc-9632-9451d568aa89",
                "language": "sql"
            },
            "outputs": [],
            "execution_count": null
        }
    ]
}