{
    "metadata": {
        "kernelspec": {
            "name": "SQL",
            "display_name": "SQL",
            "language": "sql"
        },
        "language_info": {
            "name": "sql",
            "version": ""
        }
    },
    "nbformat_minor": 2,
    "nbformat": 4,
    "cells": [
        {
            "cell_type": "code",
            "source": [
                "--Derek Podimatis\n",
                "\n",
                "--cd ./Documents/UCSD Extension/Advanced Sql/Lesson 5\n",
                "--sudo docker exec -it azuresqledge  mkdir /var/opt/mssql/backup\n",
                "--sudo docker cp StackOverFlow.bak azuresqledge:/var/opt/mssql/backup\n",
                "\n",
                "/*\n",
                "\n",
                "SQL Server caches the results of a query in memory after you run it the first time. This means the 2nd time you run it the results may display faster. This is a trick. SQL will have to work just as hard to pull the results once the memory cache clears itself. You can manually clear the memory cache yourself by executing the following code:\n",
                "CHECKPOINT\n",
                "DBCC DROPCLEANBUFFERS\n",
                "This will force the server to pull the data from disk, and allow you to see the true performance of your queries.\n",
                "I didn’t cover this in class but executing the following code will give you additional statistics on the queries you executed. It’s another way of seeing the before and after results from your index creation.\n",
                "SET STATISTICS IO ON\n",
                "*/\n",
                "SET STATISTICS IO ON\n",
                "CHECKPOINT\n",
                "DBCC DROPCLEANBUFFERS\n",
                "\n",
                "--https://database.guide/how-to-view-the-query-execution-plan-in-azure-data-studio-sql-server/\n",
                "\n",
                "USE stackoverflow;"
            ],
            "metadata": {
                "azdata_cell_guid": "e2169ac7-88de-46eb-91cb-c4c8f66c41e9",
                "language": "sql"
            },
            "outputs": [],
            "execution_count": null
        },
        {
            "cell_type": "code",
            "source": [
                "/*\n",
                "1. Optimize query for Votes on July 4th, 2009\n",
                "       Estimated Subtree Cost Before: 45.6269\n",
                "       Estimated Subtree Cost After:0.026038\n",
                "*/\n",
                "SELECT Id, CreationDate\n",
                "FROM Votes\n",
                "WHERE CreationDate = '7/4/2009'\n",
                "\n",
                "\n",
                "--1\n",
                "CREATE NONCLUSTERED INDEX ix_Votes_CreationDate\n",
                "       ON Votes(CreationDate)\n",
                ""
            ],
            "metadata": {
                "azdata_cell_guid": "bfdca60d-9665-4582-8146-b2a3f4560636",
                "language": "sql"
            },
            "outputs": [],
            "execution_count": null
        },
        {
            "cell_type": "code",
            "source": [
                "/*\n",
                "2. Display users from San Diego with a reputation greater than 10,000.\n",
                "       Estimated Subtree Cost Before: 5.79558\n",
                "       Estimated Subtree Cost After:  0.0032946\n",
                "*/\n",
                "SELECT Id, DisplayName, Reputation, Location\n",
                "FROM Users\n",
                "WHERE Reputation > 10000\n",
                "       AND Location = 'San Diego, CA'\n",
                "\n",
                "--2\n",
                "CREATE NONCLUSTERED INDEX ix_Users_Reputation_Location\n",
                "       ON Users(Reputation, Location)\n",
                "       INCLUDE(DisplayName)"
            ],
            "metadata": {
                "azdata_cell_guid": "b222b8d8-fdea-4b63-8d90-58d657efbfcb",
                "language": "sql"
            },
            "outputs": [],
            "execution_count": null
        },
        {
            "cell_type": "code",
            "source": [
                "/*\n",
                "3. Display posts tagged with \"sql\" that have more than 1,000,000 views.\n",
                "       Restriction: The Body column cannot be used in an INCLUDE clause.\n",
                "       Estimated Subtree Cost Before: 81.3454\n",
                "       Estimated Subtree Cost After:   0.190825\n",
                "*/\n",
                "SELECT Id, Title, Body, CreationDate, Tags, ViewCount\n",
                "FROM Posts\n",
                "WHERE Tags LIKE '%sql%'\n",
                "       AND ViewCount > 1000000\n",
                "\n",
                "--3\n",
                "CREATE NONCLUSTERED INDEX ix_Posts_ViewCount_Tags\n",
                "       ON Posts(ViewCount, Tags)"
            ],
            "metadata": {
                "azdata_cell_guid": "c3600d2b-5abf-4f1f-9174-8e72423f4777",
                "language": "sql"
            },
            "outputs": [],
            "execution_count": null
        },
        {
            "cell_type": "code",
            "source": [
                "/*\n",
                "4. Display posts by Justin Grant ordered by creation date.\n",
                "       Show whether they are questions or answers.\n",
                "       Estimated Subtree Cost Before: 107.552\n",
                "       Estimated Subtree Cost After:    0.0420264\n",
                "*/\n",
                "SELECT U.DisplayName, U.Location, P.Title, P.CreationDate, PT.Type\n",
                "FROM Posts P\n",
                "JOIN PostTypes PT ON PT.ID = P.PostTypeId\n",
                "JOIN Users U ON U.ID = P.OwnerUserId\n",
                "WHERE U.DisplayName = 'Justin Grant'\n",
                "ORDER BY P.CreationDate\n",
                "\n",
                "--4\n",
                "CREATE NONCLUSTERED INDEX ix_Posts_OwnerUserId_CreationDate\n",
                "       ON Posts(OwnerUserId, CreationDate)\n",
                "       INCLUDE(Title, PostTypeId)\n",
                "\n",
                "CREATE NONCLUSTERED INDEX ix_Users_DisplayName_Location\n",
                "       ON Users(DisplayName, Location)"
            ],
            "metadata": {
                "azdata_cell_guid": "b881dfda-07db-4fe1-b8d0-775c5a139c09",
                "language": "sql"
            },
            "outputs": [],
            "execution_count": null
        },
        {
            "cell_type": "code",
            "source": [
                "/*\n",
                "5. Display badges for Justin Grant. Group by badge name and order by count. Estimated Subtree Cost Before: 17.0679\n",
                "       Estimated Subtree Cost After:   0.0300365\n",
                "*/\n",
                "SELECT U.DisplayName, U.Location, B.Name AS BadgeName, COUNT(B.Name) AS Total\n",
                "FROM Users U\n",
                "JOIN Badges B ON B.UserId = U.Id\n",
                "WHERE U.DisplayName = 'Justin Grant'\n",
                "GROUP BY U.DisplayName, U.Location, B.Name\n",
                "ORDER BY Total DESC, BadgeName\n",
                "\n",
                "\n",
                "--5\n",
                "--USE ix_Users_DisplayName_Location from question 4\n",
                "CREATE NONCLUSTERED INDEX ix_Badges_UserId_Name\n",
                "       ON Badges(UserId, Name)"
            ],
            "metadata": {
                "azdata_cell_guid": "8e6e9889-33ec-4010-82f5-34541d854214",
                "language": "sql"
            },
            "outputs": [],
            "execution_count": null
        },
        {
            "cell_type": "code",
            "source": [
                "/*\n",
                "6. Display TOP 100 comments by score.\n",
                "       Restriction: The Text column cannot be used in an INCLUDE clause.\n",
                "       Estimated Subtree Cost Before: 763.553\n",
                "       Estimated Subtree Cost After:    0.335262\n",
                "*/\n",
                "SELECT TOP 100 *\n",
                "FROM Comments\n",
                "ORDER BY Score DESC\n",
                "\n",
                "\n",
                "--6\n",
                "CREATE NONCLUSTERED INDEX ix_Comments_Score\n",
                "       ON Comments(Score)"
            ],
            "metadata": {
                "azdata_cell_guid": "7f52053f-ca8a-43c7-be1c-094d42945c4c",
                "language": "sql"
            },
            "outputs": [],
            "execution_count": null
        },
        {
            "cell_type": "code",
            "source": [
                "/*\n",
                "7. Display posts with a LastActivityDate greater than 1/1/2018.\n",
                "       Restriction: The index can only contain dates greater than 1/1/2018.\n",
                "       Estimated Subtree Cost Before: 86.5618\n",
                "       Estimated Subtree Cost After:   0.0684346\n",
                "*/\n",
                "SELECT ID, Body, Title, CreationDate, LastActivityDate\n",
                "FROM Posts\n",
                "WHERE LastActivityDate > '1/1/2018'\n",
                "ORDER BY LastActivityDate\n",
                "\n",
                "\n",
                "--7\n",
                "CREATE NONCLUSTERED INDEX filter_ix_Posts_LastActivityDate\n",
                "       ON Posts(LastActivityDate)\n",
                "       INCLUDE(Body, Title, CreationDate)\n",
                "       WHERE LastActivityDate >= '1/1/2018'"
            ],
            "metadata": {
                "azdata_cell_guid": "f063f711-109d-46ab-bc87-e30410923ef2",
                "language": "sql"
            },
            "outputs": [],
            "execution_count": null
        },
        {
            "cell_type": "code",
            "source": [
                "/*\n",
                "8. Pull all posts by Justin Grant. Include the parent title for all answers.\n",
                "       Note: You can use Body and Title in an INCLUDE,\n",
                "       see if the performance improvement is worth the space used.\n",
                "       Estimated Subtree Cost Before: 112.094\n",
                "       Estimated Subtree Cost After:    0.565453\n",
                "*/\n",
                "SELECT U.DisplayName, P.Id, PT.Type, COALESCE(P.Title,PP.Title) AS Title, P.CreationDate\n",
                ", P.Body\n",
                "FROM Posts P\n",
                "LEFT JOIN Posts PP ON PP.Id = P.ParentId\n",
                "JOIN Users U ON U.ID = P.OwnerUserId\n",
                "JOIN PostTypes PT ON PT.Id = P.PostTypeId\n",
                "WHERE U.DisplayName = 'Justin Grant'\n",
                "\n",
                "\n",
                "--8\n",
                "CREATE NONCLUSTERED INDEX ix_Posts_OwnerUserId\n",
                "       ON Posts(OwnerUserId)\n",
                "       --INCLUDE(Title, Body, CreationDate, PostTypeId, ParentId)\n",
                "-- Performance likely not worth the space used with the included columns"
            ],
            "metadata": {
                "azdata_cell_guid": "73be86a2-8a81-4d83-9aee-6a388f9f49f9",
                "language": "sql"
            },
            "outputs": [],
            "execution_count": null
        },
        {
            "cell_type": "code",
            "source": [
                "/*\n",
                "9. Display titles of posts that have been linked to more than 100 times by other posts.\n",
                "       Estimated Subtree Cost Before: 90.7207\n",
                "       Estimated Subtree Cost After:  10.19\n",
                "*/\n",
                "SELECT P.Title AS SourceTitle, count(*) AS TotalLinks\n",
                "FROM PostLinks PL\n",
                "JOIN Posts P ON  P.Id = PL.RelatedPostId\n",
                "       AND P.PostTypeId = 1 --Only questions have titles.\n",
                "GROUP BY P.Title\n",
                "HAVING count(*) > 100\n",
                "ORDER BY count(*) DESC\n",
                "\n",
                "\n",
                "--9\n",
                "CREATE NONCLUSTERED INDEX ix_PostLinks_RelatedPostId\n",
                "       ON PostLinks(RelatedPostId)\n",
                "\n",
                "CREATE NONCLUSTERED INDEX ix_Posts_PostTypeId\n",
                "       ON Posts(PostTypeId)\n",
                "       INCLUDE(Title)\n",
                ""
            ],
            "metadata": {
                "azdata_cell_guid": "7c0ed23a-75ed-4e51-bd60-c84eb27d2087",
                "language": "sql"
            },
            "outputs": [],
            "execution_count": null
        },
        {
            "cell_type": "code",
            "source": [
                "/*\n",
                "10. Find posts by Justin Grant that had someone vote as a \"Favorite\".\n",
                "       Estimated Subtree Cost Before: 203.804\n",
                "       Estimated Subtree Cost After: 0.341001\n",
                "*/\n",
                "SELECT P.Title, U.DisplayName\n",
                "FROM Posts P\n",
                "JOIN Users U ON U.Id = P.OwnerUserId\n",
                "WHERE U.DisplayName = 'Justin Grant'\n",
                "AND EXISTS(SELECT *\n",
                "    FROM Votes V\n",
                "    JOIN VoteTypes VT ON VT.Id = V.VoteTypeId\n",
                "    WHERE VT.Name = 'Favorite'\n",
                "    AND P.Id = V.PostId)\n",
                "\n",
                "\n",
                "--10\n",
                "CREATE NONCLUSTERED INDEX ix_Votes_PostId\n",
                "       ON Votes(PostId)\n",
                "       INCLUDE(VoteTypeId)"
            ],
            "metadata": {
                "azdata_cell_guid": "7c1b0ee0-0c8a-42eb-81e5-6221ccb25ef8",
                "language": "sql"
            },
            "outputs": [],
            "execution_count": null
        },
        {
            "cell_type": "code",
            "source": [
                "/*\n",
                "11. BONUS QUESTION: Can this query be optimized? Why or why not?\n",
                "       I didn’t cover this in the lecture, so an internet search may help you find the answer.\n",
                "*/\n",
                "SELECT Title\n",
                "FROM Posts\n",
                "WHERE Title LIKE '%sql%'\n",
                "\n",
                "\n",
                "--11\n",
                "--No, the wildcard '%' will indicate a full text scan, not a seek. "
            ],
            "metadata": {
                "azdata_cell_guid": "e3107fb9-9932-48bf-baa2-930eb09a9c83",
                "language": "sql"
            },
            "outputs": [],
            "execution_count": null
        },
        {
            "cell_type": "code",
            "source": [
                "/*\n",
                "Code for dropping the indexes created from questions 1-10.\n",
                "*/\n",
                "/*\n",
                "--1\n",
                "DROP INDEX IX_Votes_CreationDate ON Votes\n",
                "--2\n",
                "DROP INDEX IX_Users_Location_Reputation ON Users\n",
                "--3\n",
                "DROP INDEX IX_Posts_ViewCount_Tags ON Posts\n",
                "--4\n",
                "DROP INDEX IX_Posts_OwnerUserId_CreationDate ON Posts\n",
                "DROP INDEX IX_Users_DisplayName_Location ON Users\n",
                "--5\n",
                "DROP INDEX IX_Badges_UserId_Name ON Badges\n",
                "--6\n",
                "DROP INDEX IX_Comments_Score ON Comments\n",
                "--7\n",
                "DROP INDEX FIX_Posts_LastActivityDate_2018 ON Posts\n",
                "--8\n",
                "DROP INDEX IX_Posts_OwnerUserId ON Posts\n",
                "--9\n",
                "DROP INDEX IX_PostLinks_RelatedPostId ON PostLinks\n",
                "DROP INDEX IX_Posts_PostTypeId ON Posts\n",
                "--10\n",
                "DROP INDEX IX_Votes_PostId ON Votes\n",
                "*/\n",
                "\n",
                "\n",
                ""
            ],
            "metadata": {
                "azdata_cell_guid": "2885f002-6b39-4d99-9008-a5079573eeda",
                "language": "sql",
                "tags": []
            },
            "outputs": [],
            "execution_count": null
        },
        {
            "cell_type": "code",
            "source": [
                ""
            ],
            "metadata": {
                "azdata_cell_guid": "fbd9409b-cadb-4b51-9949-93aa856012bb",
                "language": "sql"
            },
            "outputs": [],
            "execution_count": null
        }
    ]
}