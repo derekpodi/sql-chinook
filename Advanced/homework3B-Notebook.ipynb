{
    "metadata": {
        "kernelspec": {
            "name": "SQL",
            "display_name": "SQL",
            "language": "sql"
        },
        "language_info": {
            "name": "sql",
            "version": ""
        }
    },
    "nbformat_minor": 2,
    "nbformat": 4,
    "cells": [
        {
            "cell_type": "code",
            "source": [
                "USE Chinook\n",
                "\n",
                "\n",
                "--1\n",
                "PRINT('First Statement')\n",
                "RETURN\n",
                "PRINT('Second Statement')\n",
                "PRINT('Third Statement')\n",
                "GO"
            ],
            "metadata": {
                "azdata_cell_guid": "a3b312a7-7f38-4486-bf5b-252d70a209c0",
                "language": "sql"
            },
            "outputs": [],
            "execution_count": null
        },
        {
            "cell_type": "code",
            "source": [
                "--2\n",
                "DECLARE @Counter int = 0\n",
                "IF @Counter = 1\n",
                "BEGIN\n",
                "SELECT TOP 1 * FROM Artist\n",
                "SELECT TOP 1 * FROM Genre\n",
                "END\n",
                "SELECT TOP 1 * FROM MediaType\n",
                "GO"
            ],
            "metadata": {
                "azdata_cell_guid": "0583435f-9811-4aac-b6e6-86134fb4ce3d",
                "language": "sql"
            },
            "outputs": [],
            "execution_count": null
        },
        {
            "cell_type": "code",
            "source": [
                "--3\n",
                "DECLARE @Counter int = 1\n",
                "IF @Counter = 1\n",
                "BEGIN\n",
                "SELECT TOP 1 * FROM Artist\n",
                "END\n",
                "ELSE\n",
                "BEGIN\n",
                "SELECT TOP 1 * FROM Genre\n",
                "END\n",
                "SELECT TOP 1 * FROM MediaType\n",
                "GO"
            ],
            "metadata": {
                "azdata_cell_guid": "9074f1d2-921d-433e-8ab4-ab54e611288c",
                "language": "sql"
            },
            "outputs": [],
            "execution_count": null
        },
        {
            "cell_type": "code",
            "source": [
                "--4\n",
                "DECLARE @Counter int = 1\n",
                "WHILE @Counter <= 5\n",
                "BEGIN\n",
                "PRINT CONCAT('Counter Number: ', @Counter)\n",
                "SET @Counter += 1\n",
                "END\n",
                "PRINT('End of Loop.')\n",
                "GO"
            ],
            "metadata": {
                "azdata_cell_guid": "38c8704a-12d7-47bc-8564-faeebbf77c77",
                "language": "sql"
            },
            "outputs": [],
            "execution_count": null
        },
        {
            "cell_type": "code",
            "source": [
                "--5\n",
                "DECLARE @EmployeeName AS table (FullName nvarchar(50))\n",
                "DECLARE @FullName AS nvarchar(50)\n",
                "DECLARE @Counter int = 1\n",
                "DECLARE @MaxId int\n",
                "SELECT @MaxId = COUNT(*) FROM Employee\n",
                "WHILE (@Counter <= @MaxId)\n",
                "BEGIN\n",
                "SELECT\n",
                "    @FullName = CONCAT(FirstName, ' ', LastName)\n",
                "FROM Employee\n",
                "WHERE EmployeeId = @Counter\n",
                "INSERT INTO @EmployeeName\n",
                "VALUES(@FullName)\n",
                "SET @Counter += 1\n",
                "END\n",
                "SELECT * FROM @EmployeeName\n",
                "GO"
            ],
            "metadata": {
                "azdata_cell_guid": "2b361c0c-eb3d-4421-88f8-632c261f15c2",
                "language": "sql"
            },
            "outputs": [],
            "execution_count": null
        },
        {
            "cell_type": "code",
            "source": [
                "--6\n",
                "DECLARE @SumTotal numeric(9,2) = 0\n",
                "DECLARE @Counter int = 1\n",
                "DECLARE @MaxId int\n",
                "SELECT @MaxId = COUNT(*) FROM Invoice\n",
                "WHILE (@Counter <= @MaxId)\n",
                "BEGIN\n",
                "SELECT \n",
                "    @SumTotal += Total \n",
                "FROM Invoice\n",
                "WHERE Total < 1.00 AND InvoiceId = @Counter\n",
                "SET @Counter += 1\n",
                "END\n",
                "SELECT @SumTotal AS [Sum Total of Invoices less than a Dollar]\n",
                "GO"
            ],
            "metadata": {
                "azdata_cell_guid": "9be9068e-a8a9-45ac-838b-f0a8cc3d86d3",
                "language": "sql"
            },
            "outputs": [],
            "execution_count": null
        },
        {
            "cell_type": "code",
            "source": [
                "--7\n",
                "DECLARE @RunningTable AS table (Amount numeric(9,2), RollingTotal numeric(9,2), Note nvarchar(50))\n",
                "DECLARE @Amount numeric(9,2) = 0\n",
                "DECLARE @RollingTotal numeric(9,2) = 0\n",
                "DECLARE @Note nvarchar(50)\n",
                "DECLARE @Counter int = 1\n",
                "DECLARE @MaxId int\n",
                "SELECT @MaxId = COUNT(*) FROM Invoice\n",
                "WHILE (@Counter <= @MaxId)\n",
                "BEGIN\n",
                "SELECT\n",
                "    @Amount = Total\n",
                "    ,@RollingTotal += Total\n",
                "    ,@Note = CONCAT('InvoiceId: ', @Counter)\n",
                "FROM Invoice I\n",
                "WHERE InvoiceId = @Counter\n",
                "IF @RollingTotal >= 50\n",
                "    BEGIN\n",
                "    INSERT INTO @RunningTable\n",
                "    VALUES(@Amount, @RollingTotal, 'Total greater than 50.')\n",
                "    BREAK\n",
                "    END\n",
                "INSERT INTO @RunningTable\n",
                "VALUES(@Amount, @RollingTotal, @Note)\n",
                "SET @Counter += 1\n",
                "END\n",
                "SELECT * FROM @RunningTable\n",
                "GO"
            ],
            "metadata": {
                "azdata_cell_guid": "a50984fb-533f-4419-a4fe-01b16bc4bd1b",
                "language": "sql"
            },
            "outputs": [],
            "execution_count": null
        },
        {
            "cell_type": "code",
            "source": [
                "--8\n",
                "DECLARE @RandomArtist nvarchar(250)\n",
                "SELECT TOP 1 @RandomArtist = Name FROM Artist ORDER BY NEWID()\n",
                "PRINT(@RandomArtist)\n",
                "GO 7"
            ],
            "metadata": {
                "azdata_cell_guid": "042f3e16-62b5-4c55-a7f8-10bbfc84b565",
                "language": "sql"
            },
            "outputs": [],
            "execution_count": null
        },
        {
            "cell_type": "code",
            "source": [
                "--9\n",
                "PRINT('First Statement')\n",
                "\n",
                "GOTO Third\n",
                "\n",
                "Third:\n",
                "PRINT('Third Statement')\n",
                "GOTO SECOND\n",
                "\n",
                "Second:\n",
                "PRINT('Second Statement')\n",
                "RETURN\n",
                "GO"
            ],
            "metadata": {
                "azdata_cell_guid": "f7ded874-9be1-4ebb-a285-08eab6a98554",
                "language": "sql"
            },
            "outputs": [],
            "execution_count": null
        },
        {
            "cell_type": "code",
            "source": [
                "--10\n",
                "DECLARE @EmployeeT AS table (FirstName nvarchar(50),LastName nvarchar(50),EmployeeId int,City nvarchar(50))\n",
                "DECLARE @FirstName AS nvarchar(50)\n",
                "DECLARE @LastName AS nvarchar(50)\n",
                "DECLARE @EmployeeId AS int\n",
                "DECLARE @City AS nvarchar(50)\n",
                "DECLARE @Counter int = 1\n",
                "DECLARE @MaxId int\n",
                "SELECT @MaxId = COUNT(*) FROM Employee\n",
                "WHILE (@Counter <= @MaxId)\n",
                "BEGIN\n",
                "SELECT\n",
                "    @FirstName = FirstName\n",
                "    ,@LastName = LastName\n",
                "    ,@EmployeeId = EmployeeId\n",
                "    ,@City = City\n",
                "FROM Employee\n",
                "WHERE EmployeeId = @Counter\n",
                "INSERT INTO @EmployeeT\n",
                "VALUES(@FirstName, @LastName, @EmployeeId, @City)\n",
                "RAISERROR('%s %s has and ID of %d and lives in the city of %s.', 10, 1, @FirstName, @LastName, @EmployeeId, @City) WITH NOWAIT\n",
                "SET @Counter += 1\n",
                "END"
            ],
            "metadata": {
                "azdata_cell_guid": "93a06917-f147-4fa5-9a43-23cc7aaf4978",
                "language": "sql"
            },
            "outputs": [],
            "execution_count": null
        },
        {
            "cell_type": "code",
            "source": [
                "/*\n",
                "Bonus Question.\n",
                "Shows how RAISERROR can be used to track the progress of long query with multiple statements.\n",
                "Using WAITFOR DELAY to simulate a time delay.\n",
                "Click on the Messages tab immediately after starting the query to see the messages print as they are\n",
                "executed.\n",
                "*/\n",
                "DECLARE @StartTime varchar(50) = CAST(GETDATE() AS Time(0))\n",
                "DECLARE @EndTime varchar(50)\n",
                "DECLARE @Duration int\n",
                "--1st pass\n",
                "RAISERROR('1st Query StartTime: %s',10,1,@StartTime) WITH NOWAIT\n",
                "WAITFOR DELAY '00:00:05'\n",
                "SET @EndTime = CAST(GETDATE() AS Time(0))\n",
                "SET @Duration = DATEDIFF(s,@StartTime,@EndTime)\n",
                "RAISERROR('1st Query EndTime:   %s; Duration %d seconds',10,1, @EndTime, @Duration) WITH NOWAIT\n",
                "--2nd pass\n",
                "SET @StartTime = @EndTime\n",
                "RAISERROR('2nd Query StartTime: %s',10,1,@StartTime) WITH NOWAIT\n",
                "WAITFOR DELAY '00:00:03'\n",
                "SET @EndTime = CAST(GETDATE() AS Time(0))\n",
                "SET @Duration = DATEDIFF(s,@StartTime,@EndTime)\n",
                "RAISERROR('2nd Query EndTime:   %s; Duration %d seconds',10,1, @EndTime, @Duration) WITH NOWAIT\n",
                "--3rd pass\n",
                "SET @StartTime = @EndTime\n",
                "RAISERROR('3rd Query StartTime: %s',10,1,@StartTime) WITH NOWAIT\n",
                "WAITFOR DELAY '00:00:02'\n",
                "SET @EndTime = CAST(GETDATE() AS Time(0))\n",
                "SET @Duration = DATEDIFF(s,@StartTime,@EndTime)\n",
                "RAISERROR('3rd Query EndTime:   %s; Duration %d seconds',10,1, @EndTime, @Duration) WITH NOWAIT\n",
                "GO"
            ],
            "metadata": {
                "azdata_cell_guid": "e28961e2-deb0-4bac-9cf0-56221febb10d",
                "language": "sql"
            },
            "outputs": [],
            "execution_count": null
        },
        {
            "cell_type": "code",
            "source": [
                ""
            ],
            "metadata": {
                "azdata_cell_guid": "c1d6fd04-5858-4f92-b7d6-f388ed888b0b",
                "language": "sql"
            },
            "outputs": [],
            "execution_count": null
        }
    ]
}