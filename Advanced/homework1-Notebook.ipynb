{
    "metadata": {
        "kernelspec": {
            "name": "SQL",
            "display_name": "SQL",
            "language": "sql"
        },
        "language_info": {
            "name": "sql",
            "version": ""
        }
    },
    "nbformat_minor": 2,
    "nbformat": 4,
    "cells": [
        {
            "cell_type": "code",
            "source": [
                "--Derek Podimatis\n",
                "\n",
                "USE Chinook;\n",
                "\n",
                "\n",
                "--1\n",
                "WITH CTE AS \n",
                "(\n",
                "SELECT\n",
                "    AlbumId\n",
                "    ,Name as TrackName\n",
                "    ,CONCAT('Track',ROW_NUMBER() OVER (PARTITION BY AlbumId ORDER BY TrackId)) AS TrackNumber\n",
                "FROM Track\n",
                ")\n",
                "SELECT\n",
                "    A.Name AS ArtistName\n",
                "    ,AL.Title AS AlbumTitle\n",
                "    ,MAX(CASE WHEN T.TrackNumber = 'Track1' THEN T.TrackName END) AS Track1\n",
                "    ,MAX(CASE WHEN T.TrackNumber = 'Track2' THEN T.TrackName END) AS Track2\n",
                "    ,MAX(CASE WHEN T.TrackNumber = 'Track3' THEN T.TrackName END) AS Track3\n",
                "FROM Artist A\n",
                "JOIN Album AL ON AL.ArtistId = A.ArtistId\n",
                "JOIN CTE T ON T.AlbumId = AL.AlbumId\n",
                "GROUP BY A.Name, AL.Title\n",
                "ORDER BY A.Name"
            ],
            "metadata": {
                "azdata_cell_guid": "446c5c79-b04c-4453-b2a1-013bc5525f64",
                "language": "sql"
            },
            "outputs": [],
            "execution_count": null
        },
        {
            "cell_type": "code",
            "source": [
                "--2\n",
                ";WITH CTE AS \n",
                "(\n",
                "SELECT\n",
                "    AlbumId\n",
                "    ,Name as TrackName\n",
                "    ,Milliseconds AS TrackLength\n",
                "    ,CONCAT('Track',ROW_NUMBER() OVER (PARTITION BY AlbumId ORDER BY TrackId)) AS TrackNumber\n",
                "FROM Track\n",
                ")\n",
                "SELECT\n",
                "    A.Name AS ArtistName\n",
                "    ,AL.Title AS AlbumTitle\n",
                "    ,MAX(CASE WHEN T.TrackNumber = 'Track1' THEN T.TrackName END) AS Track1\n",
                "    ,MAX(CASE WHEN T.TrackNumber = 'Track1' THEN T.TrackLength END) AS Track1\n",
                "\n",
                "    ,MAX(CASE WHEN T.TrackNumber = 'Track2' THEN T.TrackName END) AS Track2\n",
                "    ,MAX(CASE WHEN T.TrackNumber = 'Track2' THEN T.TrackLength END) AS Track2\n",
                "\n",
                "    ,MAX(CASE WHEN T.TrackNumber = 'Track3' THEN T.TrackName END) AS Track3\n",
                "    ,MAX(CASE WHEN T.TrackNumber = 'Track3' THEN T.TrackLength END) AS Track3\n",
                "\n",
                "FROM Artist A\n",
                "JOIN Album AL ON AL.ArtistId = A.ArtistId\n",
                "JOIN CTE T ON T.AlbumId = AL.AlbumId\n",
                "GROUP BY A.Name, AL.Title\n",
                "ORDER BY A.Name\n",
                ""
            ],
            "metadata": {
                "azdata_cell_guid": "814e457e-c3d6-452a-bd29-ba79f4b32e96",
                "language": "sql"
            },
            "outputs": [],
            "execution_count": null
        },
        {
            "cell_type": "code",
            "source": [
                "\n",
                "--3\n",
                ";WITH CTE AS\n",
                "(\n",
                "SELECT\n",
                "    A.Name AS ArtistName\n",
                "    ,AL.Title AS AlbumTitle\n",
                "    ,T.Name AS TrackName\n",
                "    ,COUNT(*) OVER (Partition By T.AlbumId) AS TrackCount\n",
                "    ,CONCAT('Track', ROW_NUMBER() OVER (PARTITION BY T.AlbumId ORDER BY T.TrackId)) AS TrackNumber\n",
                "FROM Track T\n",
                "JOIN Album AL ON AL.AlbumId = T.AlbumId\n",
                "JOIN Artist A ON A.ArtistId = AL.ArtistId\n",
                ")\n",
                "SELECT\n",
                "    ArtistName\n",
                "    ,AlbumTitle\n",
                "    ,TrackCount\n",
                "    ,Track1 , Track2, Track3, Track4, Track5, Track6, Track7, Track8, Track9, Track10, Track11, Track12, Track13, Track14, Track15, Track16, Track17, Track18, Track19, Track20\n",
                "FROM CTE\n",
                "PIVOT(\n",
                "    MAX(TrackName)\n",
                "    FOR TrackNumber IN (Track1 , Track2, Track3, Track4, Track5, Track6, Track7, Track8, Track9, Track10, Track11, Track12, Track13, Track14, Track15, Track16, Track17, Track18, Track19, Track20)\n",
                ") AS P\n",
                "WHERE TrackCount >= 20\n",
                "ORDER By TrackCount, ArtistName, AlbumTitle\n",
                "\n",
                ""
            ],
            "metadata": {
                "azdata_cell_guid": "0b2a6f01-5248-43d6-961f-ffe6c91a15fe",
                "language": "sql"
            },
            "outputs": [],
            "execution_count": null
        },
        {
            "cell_type": "code",
            "source": [
                "--4\n",
                ";WITH CTE AS\n",
                "(\n",
                "SELECT\n",
                "    C.CustomerId\n",
                "    ,C.LastName\n",
                "    ,YEAR(I.InvoiceDate) AS Year\n",
                "    ,I.Total \n",
                "    ,ROW_NUMBER() OVER (PARTITION BY YEAR(I.InvoiceDate) ORDER BY I.InvoiceId) AS InvoiceNumber\n",
                "FROM Customer C\n",
                "JOIN Invoice I ON I.CustomerId = C.CustomerId\n",
                "WHERE YEAR(I.InvoiceDate) IN (2009, 2011)\n",
                ")\n",
                "SELECT\n",
                "    CustomerId\n",
                "    ,LastName\n",
                "    ,SUM(CASE WHEN Year = 2009 THEN CTE.Total ELSE 0 END) AS Total2009\n",
                "    ,SUM(CASE WHEN Year = 2011 THEN CTE.Total ELSE 0 END) AS Total2011\n",
                "FROM CTE AS CTE\n",
                "GROUP BY CustomerId, LastName\n",
                "\n",
                ""
            ],
            "metadata": {
                "azdata_cell_guid": "e8ac3df5-b947-4aaf-9e2e-f84b67f8ebad",
                "language": "sql"
            },
            "outputs": [],
            "execution_count": null
        },
        {
            "cell_type": "code",
            "source": [
                "--5\n",
                "SELECT\n",
                "    C.Country\n",
                "    ,SUM(CASE WHEN YEAR(I.InvoiceDate) = 2011 THEN I.Total ELSE 0 END) AS Total2011\n",
                "    ,SUM(CASE WHEN YEAR(I.InvoiceDate) = 2012 THEN I.Total ELSE 0 END) AS Total2012\n",
                "    ,SUM(CASE WHEN YEAR(I.InvoiceDate) = 2013 THEN I.Total ELSE 0 END) AS Total2013\n",
                "    ,COUNT(DISTINCT C.CustomerId) AS UniqueCustomers\n",
                "    ,COUNT(I.InvoiceId) AS OrdersByCountry\n",
                "FROM Customer C\n",
                "JOIN Invoice I ON I.CustomerId = C.CustomerId\n",
                "WHERE YEAR(I.InvoiceDate) IN (2011, 2012, 2013)\n",
                "GROUP BY C.Country\n",
                "\n",
                ""
            ],
            "metadata": {
                "azdata_cell_guid": "9e7fd50b-0b67-4268-9e55-f14cde3377dd",
                "language": "sql"
            },
            "outputs": [],
            "execution_count": null
        },
        {
            "cell_type": "code",
            "source": [
                "\n",
                "--6\n",
                "SELECT\n",
                "    EmployeeId\n",
                "    ,'BirthDate' AS Field\n",
                "    ,CONVERT(nvarchar(50),BirthDate,101) AS Value\n",
                "FROM Employee\n",
                "\n",
                "UNION ALL \n",
                "\n",
                "SELECT\n",
                "    EmployeeId\n",
                "    ,'FirstName'\n",
                "    ,FirstName\n",
                "FROM Employee\n",
                "\n",
                "UNION ALL\n",
                "\n",
                "SELECT\n",
                "    EmployeeId\n",
                "    ,'LastName'\n",
                "    ,LastName\n",
                "FROM Employee\n",
                "ORDER BY EmployeeId\n",
                "\n",
                "\n",
                ""
            ],
            "metadata": {
                "azdata_cell_guid": "9b2bc9a2-7a6f-4cd5-abba-7b87d364ee0e",
                "language": "sql"
            },
            "outputs": [],
            "execution_count": null
        },
        {
            "cell_type": "code",
            "source": [
                "--7\n",
                "SELECT E.EmployeeId, U.Field, U.Value\n",
                "FROM Employee E \n",
                "CROSS APPLY \n",
                "    (VALUES\n",
                "        ('BirthDate', CONVERT(nvarchar(50),BirthDate,101))\n",
                "        ,('FirstName', E.FirstName)\n",
                "        ,('LastName', E.LastName)\n",
                ") U (Field, Value)\n",
                "\n",
                ""
            ],
            "metadata": {
                "azdata_cell_guid": "ca6e4d0f-6f51-409e-9f88-b44bfb9e3894",
                "language": "sql"
            },
            "outputs": [],
            "execution_count": null
        },
        {
            "cell_type": "code",
            "source": [
                "--8\n",
                "SELECT EmployeeId, Field, Value\n",
                "FROM (\n",
                "    SELECT\n",
                "        EmployeeId\n",
                "        ,CONVERT(nvarchar(50),BirthDate,101) AS BirthDate\n",
                "        ,CAST(FirstName AS nvarchar(50)) AS FirstName\n",
                "        ,Cast(LastName AS nvarchar(50)) AS LastName\n",
                "    From Employee\n",
                "    ) AS E\n",
                "UNPIVOT\n",
                "    (Value FOR Field IN (BirthDate, FirstName, LastName)) U\n",
                "\n",
                "\n",
                ""
            ],
            "metadata": {
                "azdata_cell_guid": "6ab5e675-8f06-419f-bc03-bfe737268d7b",
                "language": "sql"
            },
            "outputs": [],
            "execution_count": null
        },
        {
            "cell_type": "code",
            "source": [
                "--9\n",
                ";WITH CTE AS \n",
                "(\n",
                "SELECT E.EmployeeId, U.Field, U.Value\n",
                "FROM Employee E \n",
                "CROSS APPLY \n",
                "    (VALUES\n",
                "        ('BirthDate', CONVERT(nvarchar(50),BirthDate,101))\n",
                "        ,('FirstName', E.FirstName)\n",
                "        ,('LastName', E.LastName)\n",
                ") U (Field, Value) \n",
                ")\n",
                "SELECT\n",
                "    E.EmployeeId\n",
                "    ,MAX(CASE WHEN E.Field = 'FirstName' THEN E.Value END) AS FirstName\n",
                "    ,MAX(CASE WHEN E.Field = 'LastName' THEN E.Value END) AS LastName\n",
                "    ,MAX(CASE WHEN E.Field = 'BirthDate' THEN E.Value END) AS BirthDate\n",
                "FROM CTE E\n",
                "GROUP BY E.EmployeeId\n",
                ""
            ],
            "metadata": {
                "azdata_cell_guid": "fa4b2e68-15e9-405b-8ed6-2c04ce2a2d94",
                "language": "sql"
            },
            "outputs": [],
            "execution_count": null
        },
        {
            "cell_type": "code",
            "source": [
                "--10\n",
                ";WITH CTE AS\n",
                "(\n",
                "    SELECT\n",
                "        C.LastName\n",
                "        ,I.InvoiceDate\n",
                "        ,A.Name\n",
                "        ,ROW_NUMBER() OVER (PARTITION BY C.LastName, I.InvoiceDate ORDER BY I.InvoiceDate, A.Name) AS ArtistOrder\n",
                "        ,CONCAT('Purchase',DENSE_RANK() OVER (PARTITION BY C.LastName ORDER BY I.InvoiceDate)) AS PurchaseOrder\n",
                "    FROM Customer C\n",
                "    JOIN Invoice I ON I.CustomerId = C.CustomerId\n",
                "    JOIN InvoiceLine IL ON IL.InvoiceId = I.InvoiceId\n",
                "    JOIN Track T ON T.TrackId = IL.TrackId\n",
                "    JOIN Album AL ON AL.AlbumId = T.AlbumId\n",
                "    JOIN Artist A ON A.ArtistId = AL.ArtistId\n",
                "    Where C.Country = 'India'\n",
                "    GROUP BY C.LastName, I.InvoiceDate, A.Name\n",
                ")\n",
                "SELECT\n",
                "    LastName AS Customer\n",
                "    ,ArtistOrder\n",
                "    ,MAX(CASE WHEN PurchaseOrder = 'Purchase1' THEN Name ELSE '' END) AS Purchase1\n",
                "    ,MAX(CASE WHEN PurchaseOrder = 'Purchase2' THEN Name ELSE '' END) AS Purchase2\n",
                "    ,MAX(CASE WHEN PurchaseOrder = 'Purchase3' THEN Name ELSE '' END) AS Purchase3\n",
                "    ,MAX(CASE WHEN PurchaseOrder = 'Purchase4' THEN Name ELSE '' END) AS Purchase4\n",
                "    ,MAX(CASE WHEN PurchaseOrder = 'Purchase5' THEN Name ELSE '' END) AS Purchase5\n",
                "    ,MAX(CASE WHEN PurchaseOrder = 'Purchase6' THEN Name ELSE '' END) AS Purchase6\n",
                "    ,MAX(CASE WHEN PurchaseOrder = 'Purchase7' THEN Name ELSE '' END) AS Purchase7\n",
                "FROM CTE \n",
                "GROUP BY LastName, ArtistOrder\n",
                "ORDER By LastName"
            ],
            "metadata": {
                "azdata_cell_guid": "d1071f33-bf93-46cd-9943-632e72923baa",
                "language": "sql"
            },
            "outputs": [],
            "execution_count": null
        },
        {
            "cell_type": "code",
            "source": [
                ""
            ],
            "metadata": {
                "azdata_cell_guid": "0db3b6a5-abd3-4cee-a9c2-dcaade20f416",
                "language": "sql"
            },
            "outputs": [],
            "execution_count": null
        },
        {
            "cell_type": "code",
            "source": [
                ""
            ],
            "metadata": {
                "azdata_cell_guid": "b90a10fc-c8ee-446c-b2ee-2aeb86fa5272",
                "language": "sql"
            },
            "outputs": [],
            "execution_count": null
        },
        {
            "cell_type": "code",
            "source": [
                ""
            ],
            "metadata": {
                "azdata_cell_guid": "b18bf3cb-9fcd-4f69-9497-db98149da7cb",
                "language": "sql"
            },
            "outputs": [],
            "execution_count": null
        },
        {
            "cell_type": "code",
            "source": [
                ""
            ],
            "metadata": {
                "azdata_cell_guid": "08bb9362-cebc-4218-b606-92ee11c41dea",
                "language": "sql"
            },
            "outputs": [],
            "execution_count": null
        }
    ]
}