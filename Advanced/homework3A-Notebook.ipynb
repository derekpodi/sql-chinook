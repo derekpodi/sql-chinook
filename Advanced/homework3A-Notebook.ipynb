{
    "metadata": {
        "kernelspec": {
            "name": "SQL",
            "display_name": "SQL",
            "language": "sql"
        },
        "language_info": {
            "name": "sql",
            "version": ""
        }
    },
    "nbformat_minor": 2,
    "nbformat": 4,
    "cells": [
        {
            "cell_type": "code",
            "source": [
                "USE Chinook\n",
                "\n",
                "\n",
                "--1\n",
                "DECLARE @Country AS varchar(25) = 'Canada'\n",
                "SELECT @Country AS Country\n",
                ""
            ],
            "metadata": {
                "azdata_cell_guid": "dfd3b12b-6f62-4e76-a8aa-18cc0e4ce614",
                "language": "sql"
            },
            "outputs": [],
            "execution_count": null
        },
        {
            "cell_type": "code",
            "source": [
                "--2\n",
                "GO\n",
                "DECLARE @Country AS varchar(25) = 'Canada'\n",
                "SELECT @Country AS Country1\n",
                "SET @Country = 'Mexico'\n",
                "SELECT @Country AS Country2"
            ],
            "metadata": {
                "azdata_cell_guid": "85eb5ca1-794a-485d-8412-6ba50f3e6064",
                "language": "sql"
            },
            "outputs": [],
            "execution_count": null
        },
        {
            "cell_type": "code",
            "source": [
                "--3\n",
                "DECLARE @FirstName AS varchar(25)\n",
                "        ,@LastName AS varchar(25)\n",
                "        ,@FullName AS varchar(50)\n",
                "\n",
                "SELECT @FirstName = FirstName, @LastName = LastName\n",
                "FROM Employee\n",
                "WHERE EmployeeId = 1\n",
                "\n",
                "SET @FullName = CONCAT(@FirstName, ' ', @LastName)\n",
                "\n",
                "SELECT @FullName AS FullName"
            ],
            "metadata": {
                "azdata_cell_guid": "6f8cc099-2233-44ba-8456-1ce3b46b7b13",
                "language": "sql"
            },
            "outputs": [],
            "execution_count": null
        },
        {
            "cell_type": "code",
            "source": [
                "--4\n",
                "GO\n",
                "DECLARE @FirstName AS varchar(25)\n",
                "        ,@LastName AS varchar(25)\n",
                "        ,@FullName AS varchar(50)\n",
                "\n",
                "SELECT @FirstName = FirstName, @LastName = LastName\n",
                "FROM Employee\n",
                "WHERE EmployeeId = 1\n",
                "\n",
                "SET @FullName = CONCAT(@FirstName, ' ', @LastName)\n",
                "\n",
                "PRINT @FullName"
            ],
            "metadata": {
                "azdata_cell_guid": "e020380d-9124-470b-9631-e631d65304d5",
                "language": "sql"
            },
            "outputs": [],
            "execution_count": null
        },
        {
            "cell_type": "code",
            "source": [
                "--5\n",
                "DECLARE @TrackName AS varchar(300)\n",
                "        ,@Composer AS varchar(50)\n",
                "\n",
                "SELECT @TrackName = Name, @Composer = Composer\n",
                "FROM Track\n",
                "WHERE TrackId = 3485\n",
                "\n",
                "SELECT @TrackName AS TrackName, @Composer AS Composer"
            ],
            "metadata": {
                "azdata_cell_guid": "df07059b-41f5-41ce-b43f-c15a4d04bfa5",
                "language": "sql"
            },
            "outputs": [],
            "execution_count": null
        },
        {
            "cell_type": "code",
            "source": [
                "--6\n",
                "DECLARE @Answer AS decimal(9,2) = 1\n",
                "SET @Answer += 10\n",
                "SET @Answer -=2\n",
                "SET @Answer *=12\n",
                "SET @Answer %= 50\n",
                "SET @Answer /= 5\n",
                "SELECT @Answer AS Answer"
            ],
            "metadata": {
                "azdata_cell_guid": "879c3ab6-a5f0-4faa-abd6-d9ce2fb7e8c0",
                "language": "sql"
            },
            "outputs": [],
            "execution_count": null
        },
        {
            "cell_type": "code",
            "source": [
                "--7\n",
                "DECLARE @Filter AS varchar(50) = 'Hendrix'\n",
                "SELECT *\n",
                "FROM Track\n",
                "WHERE Composer LIKE CONCAT('%',@Filter,'%')"
            ],
            "metadata": {
                "azdata_cell_guid": "66fd1c18-ed1b-4bdc-9f4b-299e47937549",
                "language": "sql"
            },
            "outputs": [],
            "execution_count": null
        },
        {
            "cell_type": "code",
            "source": [
                "--8\n",
                "DECLARE @Country AS varchar(25) = 'USA'\n",
                "DECLARE @CustomerIds AS table\n",
                "        (\n",
                "            ID int \n",
                "        )\n",
                "\n",
                "INSERT INTO @CustomerIds\n",
                "SELECT CustomerId\n",
                "FROM Customer\n",
                "WHERE Country = @Country\n",
                "\n",
                "SELECT \n",
                "    COUNT(CustomerId) AS NumberOfCustomers\n",
                "FROM Customer \n",
                "WHERE CustomerId IN (SELECT * FROM @CustomerIds)\n",
                "\n",
                "SELECT \n",
                "    COUNT(InvoiceId) AS NumberOfInvoices\n",
                "FROM Invoice \n",
                "WHERE CustomerId IN (SELECT * FROM @CustomerIds)\n",
                "\n",
                "SELECT \n",
                "    MAX(Total) AS HighestInvoice\n",
                "FROM Invoice \n",
                "WHERE CustomerId IN (SELECT * FROM @CustomerIds)"
            ],
            "metadata": {
                "azdata_cell_guid": "e78d0508-f3e0-4548-8bf9-1cf3dcd276bc",
                "language": "sql"
            },
            "outputs": [],
            "execution_count": null
        },
        {
            "cell_type": "code",
            "source": [
                "--9\n",
                "DECLARE @CustomerOrders AS table\n",
                "        (\n",
                "            CustomerId int\n",
                "            ,CustomerName varchar(50)\n",
                "            ,InvoiceDate DATE\n",
                "            ,Total DECIMAL(9,2)\n",
                "        )\n",
                "\n",
                "INSERT INTO @CustomerOrders\n",
                "SELECT \n",
                "    C.CustomerId\n",
                "    ,CONCAT(C.FirstName, ' ', C.LastName) AS CustomerName\n",
                "    ,I.InvoiceDate\n",
                "    ,I.Total\n",
                "FROM Customer C\n",
                "JOIN Invoice I ON I.CustomerId = C.CustomerId\n",
                "WHERE C.Country = 'Portugal'\n",
                "\n",
                "SELECT *\n",
                "FROM @CustomerOrders\n",
                "ORDER BY InvoiceDate"
            ],
            "metadata": {
                "azdata_cell_guid": "44a0c60a-7209-4d5f-8be1-d8a3a75e32df",
                "language": "sql"
            },
            "outputs": [],
            "execution_count": null
        },
        {
            "cell_type": "code",
            "source": [
                "--10\n",
                "GO\n",
                "DECLARE @SQL AS nvarchar(300)\n",
                "DECLARE @Columns AS varchar(50) = 'InvoiceId, InvoiceDate, BillingCountry'\n",
                "DECLARE @Table AS varchar(50) = 'Invoice'\n",
                "DECLARE @Filter AS varchar(50) = 'BillingCountry = ''Italy'''\n",
                "\n",
                "SET @SQL = 'SELECT ' + @Columns + ' FROM ' + @Table + ' WHERE ' + @Filter\n",
                "\n",
                "PRINT @SQL\n",
                "EXEC(@SQL)"
            ],
            "metadata": {
                "azdata_cell_guid": "caacbb07-4b04-4ce3-a480-60fd4ea3fca1",
                "language": "sql"
            },
            "outputs": [],
            "execution_count": null
        },
        {
            "cell_type": "code",
            "source": [
                ""
            ],
            "metadata": {
                "azdata_cell_guid": "81dfe92a-e495-42bc-a74f-8df371224856",
                "language": "sql"
            },
            "outputs": [],
            "execution_count": null
        },
        {
            "cell_type": "code",
            "source": [
                ""
            ],
            "metadata": {
                "azdata_cell_guid": "ed346d0d-b199-4a49-8041-76d55acb84cc",
                "language": "sql"
            },
            "outputs": [],
            "execution_count": null
        },
        {
            "cell_type": "code",
            "source": [
                ""
            ],
            "metadata": {
                "azdata_cell_guid": "e1b5eb92-9c7d-477b-a895-9f9b9397b568",
                "language": "sql"
            },
            "outputs": [],
            "execution_count": null
        }
    ]
}