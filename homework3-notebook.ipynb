{
    "metadata": {
        "kernelspec": {
            "name": "SQL",
            "display_name": "SQL",
            "language": "sql"
        },
        "language_info": {
            "name": "sql",
            "version": ""
        }
    },
    "nbformat_minor": 2,
    "nbformat": 4,
    "cells": [
        {
            "cell_type": "code",
            "source": [
                "USE Chinook\n",
                "\n",
                "--1\n",
                "Select\n",
                "    Name\n",
                "    ,REPLACE(Name, ' & ', ' and ') AS NewName\n",
                "FROM Genre\n",
                "WHERE Name LIKE '%&%'"
            ],
            "metadata": {
                "azdata_cell_guid": "2e813c92-7525-460c-beb4-0db8a69d7780",
                "language": "sql",
                "tags": []
            },
            "outputs": [
                {
                    "output_type": "display_data",
                    "data": {
                        "text/html": "Commands completed successfully."
                    },
                    "metadata": {}
                },
                {
                    "output_type": "display_data",
                    "data": {
                        "text/html": "Total execution time: 00:00:00.007"
                    },
                    "metadata": {}
                }
            ],
            "execution_count": 2
        },
        {
            "cell_type": "code",
            "source": [
                "USE Chinook\n",
                "\n",
                "--2\n",
                "SELECT\n",
                "    CONCAT(FirstName, ' ', LastName) AS FullName\n",
                "    --,FirstName\n",
                "    --,LastName\n",
                "    --,BirthDate\n",
                "    ,DAY(BirthDate) AS Day\n",
                "    ,DATENAME(month, BirthDate) AS Month\n",
                "    ,YEAR(BirthDate) AS Year\n",
                "FROM Employee"
            ],
            "metadata": {
                "azdata_cell_guid": "3b6bce9e-3067-48ba-86b0-d1866ad0d2c7",
                "language": "sql"
            },
            "outputs": [],
            "execution_count": null
        },
        {
            "cell_type": "code",
            "source": [
                "USE Chinook\n",
                "\n",
                "--3\n",
                "SELECT\n",
                "    --Title\n",
                "    REPLACE(Title, ' ', '') AS TitleNoSpaces\n",
                "    ,UPPER(Title) AS TitleUpperCase\n",
                "    ,REVERSE(Title) AS TitleReverse\n",
                "    ,LEN(Title) AS TitleLength\n",
                "    ,CHARINDEX(' ', Title) AS SpaceLocation\n",
                "FROM Album"
            ],
            "metadata": {
                "azdata_cell_guid": "92cd6b5e-e3c7-4732-91e1-fcf44723abe9",
                "language": "sql"
            },
            "outputs": [],
            "execution_count": null
        },
        {
            "cell_type": "code",
            "source": [
                "USE Chinook\n",
                "\n",
                "--4\n",
                "SELECT\n",
                "    FirstName\n",
                "    ,LastName\n",
                "    ,BirthDate\n",
                "    ,DATEDIFF(day, Birthdate,GETDATE())/365 AS Age\n",
                "FROM Employee"
            ],
            "metadata": {
                "azdata_cell_guid": "ee26070b-d3ee-424b-9ea8-056b2132bdf5",
                "language": "sql"
            },
            "outputs": [],
            "execution_count": null
        },
        {
            "cell_type": "code",
            "source": [
                "USE Chinook\n",
                "\n",
                "--5\n",
                "SELECT \n",
                "    Title\n",
                "    ,SUBSTRING(Title, CHARINDEX(' ', Title)+1, LEN(Title)) AS ShortTitle\n",
                "FROM Employee"
            ],
            "metadata": {
                "azdata_cell_guid": "612f425a-9caa-4b46-898c-401d83d41ff8",
                "language": "sql"
            },
            "outputs": [],
            "execution_count": null
        },
        {
            "cell_type": "code",
            "source": [
                "USE Chinook\n",
                "\n",
                "--6\n",
                "SELECT\n",
                "    FirstName\n",
                "    ,LastName\n",
                "    ,CONCAT(Left(TRIM(FirstName),1), Left(TRIM(LastName), 1)) AS Initials\n",
                "FROM Customer\n",
                "ORDER BY Initials"
            ],
            "metadata": {
                "azdata_cell_guid": "dd437940-053c-40c3-990e-25993c5e2d6a",
                "language": "sql"
            },
            "outputs": [],
            "execution_count": null
        },
        {
            "cell_type": "code",
            "source": [
                "USE Chinook\n",
                "\n",
                "--7\n",
                "SELECT \n",
                "    CONCAT(FirstName, ' ', LastName) AS Name\n",
                "    --,Phone\n",
                "    ,TRIM(REPLACE(REPLACE(Phone, '+1', ''), '-', ' ')) AS Phone\n",
                "    --,Fax\n",
                "    --,TRIM(REPLACE(REPLACE(Fax,'+1', ''), '-', ' '))\n",
                "    ,ISNULL(TRIM(REPLACE(REPLACE(Fax,'+1', ''), '-', ' ')), 'Unknown') AS Fax\n",
                "FROM Customer\n",
                "WHERE Country = 'USA'\n",
                "ORDER BY LastName"
            ],
            "metadata": {
                "azdata_cell_guid": "aad19db3-0dfd-4c7e-8783-cdabd12a4ffb",
                "language": "sql"
            },
            "outputs": [],
            "execution_count": null
        },
        {
            "cell_type": "code",
            "source": [
                "USE Chinook\n",
                "\n",
                "--8\n",
                "SELECT\n",
                "    UPPER(CONCAT(LastName, ', ', FirstName)) AS CustomerName\n",
                "    ,ISNULL(Company,'N/A')\n",
                "FROM Customer\n",
                "WHERE LastName LIKE '[A-M]%'\n",
                "--ORDER BY LastName\n",
                ""
            ],
            "metadata": {
                "azdata_cell_guid": "5a4658b8-787e-4546-a9b6-7daaa32643b1",
                "language": "sql"
            },
            "outputs": [],
            "execution_count": null
        },
        {
            "cell_type": "code",
            "source": [
                "USE Chinook\n",
                "\n",
                "--9\n",
                "SELECT\n",
                "    InvoiceId\n",
                "    ,CustomerId\n",
                "    ,Total\n",
                "    ,CONVERT(varchar, InvoiceDate, 101) AS InvoiceDate\n",
                "    ,CONCAT('FY', IIF(MONTH(InvoiceDate) <=6, YEAR(InvoiceDate), YEAR(InvoiceDate)+1)) AS FiscalYear\n",
                "FROM Invoice\n",
                "ORDER BY YEAR(InvoiceDate) DESC,MONTH(InvoiceDate) DESC, DAY(InvoiceDate) DESC"
            ],
            "metadata": {
                "azdata_cell_guid": "d7b18a7f-3bca-46e2-9aaf-5e5da67c1c93",
                "language": "sql"
            },
            "outputs": [],
            "execution_count": null
        },
        {
            "cell_type": "code",
            "source": [
                "USE Chinook\n",
                "\n",
                "--10\n",
                "SELECT \n",
                "    IIF(Country = 'USA' OR Country = 'Canada', 'Domestic', 'International') AS CustomerType\n",
                "    ,FirstName\n",
                "    ,LastName\n",
                "    ,Country\n",
                "FROM Customer\n",
                "ORDER BY CustomerType, LastName"
            ],
            "metadata": {
                "azdata_cell_guid": "43e0cb3c-f095-413e-8374-c1f34e8ff849",
                "language": "sql"
            },
            "outputs": [],
            "execution_count": null
        }
    ]
}