{
    "metadata": {
        "kernelspec": {
            "name": "SQL",
            "display_name": "SQL",
            "language": "sql"
        },
        "language_info": {
            "name": "sql",
            "version": ""
        }
    },
    "nbformat_minor": 2,
    "nbformat": 4,
    "cells": [
        {
            "cell_type": "code",
            "source": [
                "--1\n",
                "SELECT\n",
                "    column1 AS Zipcode\n",
                "    ,CONCAT(column2, column3) AS ZipType\n",
                "    ,column4 AS City\n",
                "    ,LEFT(column5,2) AS State\n",
                "    ,SUBSTRING(column5,3,LEN(column5)) AS County\n",
                "    ,column6 AS Country\n",
                "    ,column7 AS Latitude\n",
                "    ,column8 AS Longitude\n",
                "    ,column9 AS Population\n",
                "FROM zip_code_ragged_right\n",
                "WHERE LEFT(column5,2) = 'CA' AND column9 > 50000\n",
                "ORDER BY column9 DESC\n",
                "\n",
                "\n",
                "SELECT\n",
                "    COUNT(*)\n",
                "FROM zip_code_ragged_right\n",
                "WHERE LEFT(column5,2) = 'CA' AND column9 > 50000\n",
                "        --169   \n",
                "\n",
                ""
            ],
            "metadata": {
                "azdata_cell_guid": "4bc74810-747e-41c6-a5cb-29cb48842296",
                "language": "sql"
            },
            "outputs": [],
            "execution_count": null
        },
        {
            "cell_type": "code",
            "source": [
                "--2\n",
                "SELECT TOP 1\n",
                "    column1 AS Zipcode\n",
                "    ,column4 AS City\n",
                "    ,LEFT(column5,2) AS State\n",
                "    ,SUBSTRING(column5,3,LEN(column5)) AS County\n",
                "    ,column6 AS Country\n",
                "    ,column9 AS Population\n",
                "FROM zip_code_ragged_right\n",
                "ORDER BY column9 DESC\n",
                "\n",
                "\n",
                "SELECT TOP 1\n",
                "    column1 AS Zipcode\n",
                "FROM zip_code_ragged_right\n",
                "ORDER BY column9 DESC\n",
                "        --60629\n",
                ""
            ],
            "metadata": {
                "azdata_cell_guid": "556d58b4-41a2-4d0f-9335-687d7b928997",
                "language": "sql"
            },
            "outputs": [],
            "execution_count": null
        },
        {
            "cell_type": "code",
            "source": [
                ""
            ],
            "metadata": {
                "azdata_cell_guid": "f871b80f-fb00-458f-8aee-2a0c52dce342",
                "language": "sql"
            },
            "outputs": [],
            "execution_count": null
        },
        {
            "cell_type": "code",
            "source": [
                ""
            ],
            "metadata": {
                "azdata_cell_guid": "8dddd091-9dd3-4d70-9b28-105fddde50dc",
                "language": "sql"
            },
            "outputs": [],
            "execution_count": null
        },
        {
            "cell_type": "code",
            "source": [
                ""
            ],
            "metadata": {
                "azdata_cell_guid": "cdc485cd-61ed-4d69-9716-463dee5186d1",
                "language": "sql"
            },
            "outputs": [],
            "execution_count": null
        },
        {
            "cell_type": "code",
            "source": [
                ""
            ],
            "metadata": {
                "azdata_cell_guid": "6793c098-509a-48cc-9077-057a55b460a8",
                "language": "sql"
            },
            "outputs": [],
            "execution_count": null
        }
    ]
}