{
    "metadata": {
        "kernelspec": {
            "name": "SQL",
            "display_name": "SQL",
            "language": "sql"
        },
        "language_info": {
            "name": "sql",
            "version": ""
        }
    },
    "nbformat_minor": 2,
    "nbformat": 4,
    "cells": [
        {
            "cell_type": "code",
            "source": [
                "--1\n",
                "SELECT CEILING(RAND()*100) + 100 AS RandomNumber\n",
                ""
            ],
            "metadata": {
                "azdata_cell_guid": "34bada3e-1314-4bc4-b82a-2c9c1386587a",
                "language": "sql"
            },
            "outputs": [],
            "execution_count": null
        },
        {
            "cell_type": "code",
            "source": [
                "--2\n",
                "SELECT\n",
                "    T.TrackId\n",
                "    ,T.Name\n",
                "    ,CEILING(RAND(CAST(NEWID() AS varbinary))*3000) AS RandomByRow\n",
                "FROM Track T\n",
                "ORDER BY RandomByRow DESC"
            ],
            "metadata": {
                "azdata_cell_guid": "040dff38-d9ec-41a4-aabc-cf576ae70dd1",
                "language": "sql"
            },
            "outputs": [],
            "execution_count": null
        },
        {
            "cell_type": "code",
            "source": [
                "--3\n",
                "SELECT\n",
                "    *\n",
                "    ,ROW_NUMBER() OVER (ORDER BY NEWID()) AS RandomUniqueID\n",
                "FROM Artist;"
            ],
            "metadata": {
                "azdata_cell_guid": "d76a79f7-2b35-4109-a171-c3d74ac57213",
                "language": "sql"
            },
            "outputs": [],
            "execution_count": null
        },
        {
            "cell_type": "code",
            "source": [
                "--4\n",
                "WITH CTE AS\n",
                "(\n",
                " SELECT\n",
                "    A.Name AS ArtistName\n",
                "    ,AL.Title AS AlbumTitle\n",
                "    ,SUM(IL.UnitPrice * IL.Quantity) AS TotalSales\n",
                "    ,CASE\n",
                "        WHEN MT.MediaTypeId = 3 THEN 'Video'\n",
                "        ELSE 'Audio'\n",
                "        END AS Media\n",
                "FROM Artist A \n",
                "JOIN Album AL \n",
                "    ON AL.ArtistId = A.ArtistId\n",
                "JOIN Track T \n",
                "    ON T.AlbumId = AL.AlbumId\n",
                "JOIN MediaType MT \n",
                "    ON MT.MediaTypeId = T.MediaTypeId\n",
                "JOIN InvoiceLine IL \n",
                "    ON IL.TrackId = T.TrackId\n",
                "GROUP BY A.Name, AL.Title, MT.MediaTypeId\n",
                "HAVING SUM(IL.UnitPrice * IL.Quantity) > 15\n",
                ")\n",
                "SELECT\n",
                "    ArtistName\n",
                "    ,AlbumTitle\n",
                "    ,TotalSales \n",
                "    ,Media \n",
                "    ,RANK() OVER (PARTITION BY Media ORDER BY TotalSales DESC) AS Ranking\n",
                "    ,DENSE_RANK() OVER (PARTITION BY Media ORDER BY TotalSales DESC) AS DenseRanking\n",
                "FROM CTE;"
            ],
            "metadata": {
                "language": "sql",
                "azdata_cell_guid": "1f3126b0-c582-4ca4-a3aa-f0d8a60b824e"
            },
            "outputs": [],
            "execution_count": null
        },
        {
            "cell_type": "code",
            "source": [
                "--5\n",
                "WITH CTE AS\n",
                "(\n",
                "SELECT\n",
                "    G.Name AS GenreName\n",
                "    ,AL.Title AS AlbumTitle\n",
                "    ,SUM(IL.UnitPrice * IL.Quantity) AS TotalSales\n",
                "    ,RANK() OVER (PARTITION BY G.Name ORDER BY SUM(IL.UnitPrice * IL.Quantity) DESC) AS Ranking\n",
                "FROM Album AL\n",
                "JOIN Track T \n",
                "    ON T.AlbumId = AL.AlbumId\n",
                "JOIN Genre G \n",
                "    ON G.GenreId = T.GenreId\n",
                "JOIN InvoiceLine IL\n",
                "    ON IL.TrackId = T.TrackId\n",
                "GROUP BY AL.Title, G.Name\n",
                "HAVING SUM(IL.UnitPrice * IL.Quantity) > 15\n",
                ")\n",
                "SELECT\n",
                "    GenreName\n",
                "    ,AlbumTitle\n",
                "    ,TotalSales\n",
                "    ,Ranking\n",
                "FROM CTE\n",
                "WHERE Ranking <=3;"
            ],
            "metadata": {
                "language": "sql",
                "azdata_cell_guid": "d8cf6f2d-95e2-4106-af1a-53fa11101422"
            },
            "outputs": [],
            "execution_count": null
        },
        {
            "cell_type": "code",
            "source": [
                "--6\n",
                "WITH CTE AS\n",
                "(\n",
                "SELECT \n",
                "    A.Name AS ArtistName\n",
                "    ,SUM(IL.UnitPrice * IL.Quantity) TotalPrice\n",
                "FROM Artist A \n",
                "JOIN Album AL\n",
                "    ON AL.ArtistId = A.ArtistId\n",
                "JOIN Track T \n",
                "    ON T.AlbumId = AL.AlbumId \n",
                "JOIN InvoiceLine IL \n",
                "    ON IL.TrackId = T.TrackId\n",
                "GROUP BY A.Name\n",
                ")\n",
                "SELECT \n",
                "    ArtistName\n",
                "    ,TotalPrice\n",
                "    ,SUM(TotalPrice) OVER (ORDER BY ArtistName) AS RunningTotal\n",
                "FROM CTE;"
            ],
            "metadata": {
                "language": "sql",
                "azdata_cell_guid": "e842262b-3cac-4169-a423-e4cc5d497103"
            },
            "outputs": [],
            "execution_count": null
        },
        {
            "cell_type": "code",
            "source": [
                "--7\n",
                "WITH CTE AS \n",
                "(\n",
                "SELECT\n",
                "    I.BillingCountry\n",
                "    ,SUM(IL.UnitPrice * IL.Quantity) TotalSales\n",
                "FROM InvoiceLine IL \n",
                "JOIN Invoice I \n",
                "    ON I.InvoiceId = IL.InvoiceId\n",
                "GROUP BY I.BillingCountry\n",
                ")\n",
                "SELECT\n",
                "    BillingCountry\n",
                "    ,TotalSales\n",
                "    ,NTILE(5) OVER (ORDER BY TotalSales DESC, BillingCountry) AS Quintile\n",
                "FROM CTE;\n",
                ""
            ],
            "metadata": {
                "azdata_cell_guid": "03c763be-9c50-4350-95a0-1f1dcfcb7052",
                "language": "sql"
            },
            "outputs": [],
            "execution_count": null
        },
        {
            "cell_type": "code",
            "source": [
                "--8\n",
                "WITH CTE AS\n",
                "(\n",
                "SELECT\n",
                "    C.FirstName\n",
                "    ,C.LastName\n",
                "    ,C.Country\n",
                "    ,C.CustomerId\n",
                "    ,CAST(I.InvoiceDate AS Date) AS InvoiceDate\n",
                "    ,SUM(IL.UnitPrice * IL.Quantity) AS Total\n",
                "FROM Customer C\n",
                "Join Invoice I \n",
                "    ON I.CustomerId = C.CustomerId\n",
                "Join InvoiceLine IL \n",
                "    ON IL.InvoiceId = I.InvoiceId\n",
                "GROUP BY C.FirstName, C.LastName, C.Country, C.CustomerId, I.InvoiceDate\n",
                ")\n",
                "SELECT\n",
                "    FirstName\n",
                "    ,LastName\n",
                "    ,Country\n",
                "    ,InvoiceDate\n",
                "    ,Total\n",
                "    ,SUM(Total) OVER (PARTITION BY CustomerId) AS TotalByCustomer\n",
                "    ,SUM(Total) OVER (PARTITION BY Country) AS TotalByCountry\n",
                "FROM CTE\n",
                "ORDER BY Country, LastName, Total;\n",
                ""
            ],
            "metadata": {
                "azdata_cell_guid": "70296de2-25af-4584-b59b-b73f739e4410",
                "language": "sql"
            },
            "outputs": [],
            "execution_count": null
        },
        {
            "cell_type": "code",
            "source": [
                "--9\n",
                "WITH CTE AS \n",
                "(\n",
                "SELECT\n",
                "    AL.Title AS AlbumTitle\n",
                "    ,T.Name AS TrackName\n",
                "    ,T.Milliseconds\n",
                "    ,T.TrackId\n",
                "FROM Album AL \n",
                "JOIN Track T \n",
                "    ON T.AlbumId = AL.AlbumId\n",
                "JOIN Artist A \n",
                "    ON A.ArtistId = AL.ArtistId\n",
                "WHERE A.Name = 'Green Day'\n",
                ")\n",
                "SELECT\n",
                "    AlbumTitle\n",
                "    ,CONVERT(varchar, DATEADD(ms, SUM(Milliseconds) OVER (PARTITION BY AlbumTitle), 0), 108) AS AlbumTime\n",
                "    ,ROW_NUMBER() OVER (PARTITION BY AlbumTitle ORDER BY Milliseconds DESC) AS TrackNumber\n",
                "    ,TrackName\n",
                "    ,COUNT(TrackId) OVER (PARTITION BY AlbumTitle) AS TrackCount\n",
                "    ,CONVERT(varchar, DATEADD(ms, Milliseconds, 0), 108) AS TrackTime\n",
                "FROM CTE;"
            ],
            "metadata": {
                "azdata_cell_guid": "f5c33c4c-01c0-48dc-a458-9c1a36db361d",
                "language": "sql"
            },
            "outputs": [],
            "execution_count": null
        },
        {
            "cell_type": "code",
            "source": [
                "--10\n",
                "WITH CTE AS\n",
                "(\n",
                "SELECT\n",
                "    I.BillingCountry\n",
                "    ,YEAR(I.InvoiceDate) AS BillingYear\n",
                "    ,SUM(I.Total) AS Total\n",
                "FROM Invoice I\n",
                "WHERE I.BillingCountry IN (\n",
                "    SELECT I.BillingCountry\n",
                "    FROM Invoice I\n",
                "    WHERE I.BillingCountry IN ('USA', 'Canada')\n",
                ")\n",
                "GROUP BY I.BillingCountry, YEAR(I.InvoiceDate)\n",
                ")\n",
                "SELECT\n",
                "    BillingCountry\n",
                "    ,BillingYear\n",
                "    ,LAG(Total,0,0) OVER (PARTITION BY BillingCountry ORDER BY BillingCountry, BillingYear) AS CurrentYear\n",
                "    ,LAG(Total,1,0) OVER (PARTITION BY BillingCountry ORDER BY BillingCountry, BillingYear) AS PriorYear\n",
                "    ,LAG(Total,0,0) OVER (PARTITION BY BillingCountry ORDER BY BillingCountry, BillingYear) - LAG(Total,1,0) OVER (PARTITION BY BillingCountry ORDER BY BillingCountry, BillingYear) AS YearDifference\n",
                "FROM CTE;\n",
                ""
            ],
            "metadata": {
                "azdata_cell_guid": "2b18d2f7-5ac3-44d3-81b0-3e326689d3fd",
                "language": "sql"
            },
            "outputs": [],
            "execution_count": null
        },
        {
            "cell_type": "code",
            "source": [
                ""
            ],
            "metadata": {
                "azdata_cell_guid": "4b26f204-daf2-42a9-914d-7cc643d4683a",
                "language": "sql"
            },
            "outputs": [],
            "execution_count": null
        },
        {
            "cell_type": "code",
            "source": [
                ""
            ],
            "metadata": {
                "azdata_cell_guid": "dc9a8a28-9076-48e7-97b9-8575ddb67688",
                "language": "sql"
            },
            "outputs": [],
            "execution_count": null
        },
        {
            "cell_type": "code",
            "source": [
                ""
            ],
            "metadata": {
                "azdata_cell_guid": "d95bc0c9-bd8b-4202-a936-16e995055da8",
                "language": "sql"
            },
            "outputs": [],
            "execution_count": null
        }
    ]
}