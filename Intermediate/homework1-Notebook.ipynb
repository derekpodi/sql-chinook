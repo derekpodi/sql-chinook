{
    "metadata": {
        "kernelspec": {
            "name": "SQL",
            "display_name": "SQL",
            "language": "sql"
        },
        "language_info": {
            "name": "sql",
            "version": ""
        }
    },
    "nbformat_minor": 2,
    "nbformat": 4,
    "cells": [
        {
            "cell_type": "code",
            "source": [
                "--Derek Podimatis\n",
                "\n",
                "USE master\n",
                "IF DB_ID('MyDB_DerekPodimatis') IS NOT NULL\n",
                "BEGIN\n",
                "    ALTER DATABASE MyDB_DerekPodimatis SET OFFLINE WITH ROLLBACK IMMEDIATE;\n",
                "    ALTER DATABASE MyDB_DerekPodimatis SET ONLINE;\n",
                "    DROP DATABASE MyDB_DerekPodimatis;\n",
                "END\n",
                ""
            ],
            "metadata": {
                "azdata_cell_guid": "c4e666da-6487-4455-b6a1-b6a8fb38fffd",
                "language": "sql"
            },
            "outputs": [],
            "execution_count": null
        },
        {
            "cell_type": "code",
            "source": [
                "--1\n",
                "CREATE DATABASE MyDB_DerekPodimatis\n",
                "GO\n",
                "USE MyDB_DerekPodimatis\n",
                ""
            ],
            "metadata": {
                "azdata_cell_guid": "b59014c9-94e3-45ad-968d-8d0d7c61a553",
                "language": "sql"
            },
            "outputs": [],
            "execution_count": null
        },
        {
            "cell_type": "code",
            "source": [
                "--2\n",
                "SELECT *\n",
                "INTO Users\n",
                "FROM Chinook.dbo.Customer"
            ],
            "metadata": {
                "azdata_cell_guid": "7096197e-ee7b-4a52-821d-8059f2362945",
                "language": "sql"
            },
            "outputs": [],
            "execution_count": null
        },
        {
            "cell_type": "code",
            "source": [
                "--3\n",
                "DELETE Users\n",
                "WHERE CustomerId % 2 != 0\n",
                ""
            ],
            "metadata": {
                "azdata_cell_guid": "37a16497-075f-4a7e-9deb-b4c7c04ca7f6",
                "language": "sql"
            },
            "outputs": [],
            "execution_count": null
        },
        {
            "cell_type": "code",
            "source": [
                "--4\n",
                " UPDATE Users\n",
                " SET Company = CASE\n",
                "    WHEN Email LIKE '%gmail%' THEN 'Google'\n",
                "    WHEN Email LIKE '%yahoo%' THEN 'Yahoo!'\n",
                "    ELSE Company\n",
                "    END"
            ],
            "metadata": {
                "azdata_cell_guid": "e66e5603-a4f2-4a5b-a072-3c9ebb9623cc",
                "language": "sql"
            },
            "outputs": [],
            "execution_count": null
        },
        {
            "cell_type": "code",
            "source": [
                "--5\n",
                "EXEC sp_rename 'Users.CustomerId', 'UserId', 'COLUMN'\n",
                ""
            ],
            "metadata": {
                "azdata_cell_guid": "8da7e995-4d05-4ea8-b53d-de26adf07bd4",
                "language": "sql"
            },
            "outputs": [],
            "execution_count": null
        },
        {
            "cell_type": "code",
            "source": [
                "--6\n",
                "ALTER TABLE Users\n",
                "ADD CONSTRAINT pk_Users PRIMARY KEY (UserId)"
            ],
            "metadata": {
                "azdata_cell_guid": "2044058f-a688-450f-8d6d-63e8dfa67fbd",
                "language": "sql"
            },
            "outputs": [],
            "execution_count": null
        },
        {
            "cell_type": "code",
            "source": [
                "--7\n",
                "CREATE TABLE Address(\n",
                "    AddressId int IDENTITY(1,1) PRIMARY KEY\n",
                "    ,AddressType varchar(10)\n",
                "    ,AddressLine1 varchar(50)\n",
                "    ,City varchar(30)\n",
                "    ,State varchar(2)\n",
                "    ,UserId int\n",
                "    ,CreateDate datetime DEFAULT GETDATE()\n",
                "    )\n",
                ""
            ],
            "metadata": {
                "azdata_cell_guid": "51ed5fc4-94fc-4e44-b992-572c2dd6b2a6",
                "language": "sql"
            },
            "outputs": [],
            "execution_count": null
        },
        {
            "cell_type": "code",
            "source": [
                "--8\n",
                "ALTER TABLE Address\n",
                "ADD CONSTRAINT uc_AddressType UNIQUE (UserId, AddressType)\n",
                ""
            ],
            "metadata": {
                "azdata_cell_guid": "3c98d4b0-da28-4b6d-959f-be372b708d00",
                "language": "sql"
            },
            "outputs": [],
            "execution_count": null
        },
        {
            "cell_type": "code",
            "source": [
                "--9\n",
                "ALTER TABLE Address\n",
                "ADD CONSTRAINT fk_UserAddress FOREIGN KEY (UserId)\n",
                "    REFERENCES Users(UserId) \n",
                ""
            ],
            "metadata": {
                "azdata_cell_guid": "25a5c50b-86e6-4c7d-99cc-df333140b3da",
                "language": "sql"
            },
            "outputs": [],
            "execution_count": null
        },
        {
            "cell_type": "code",
            "source": [
                "--10\n",
                "INSERT INTO Address (AddressType, AddressLine1, City, State, UserId)\n",
                "VALUES ('home', '111 Elm St.', 'Los Angeles', 'CA', 2)\n",
                ",('home', '222 Palm Ave.', 'San Diego', 'CA', 4)\n",
                ",('work', '333 Oak Ln.', 'La Jolla', 'CA', 4)\n",
                ""
            ],
            "metadata": {
                "azdata_cell_guid": "b63c857a-d828-4685-b714-3d190ac6df26",
                "language": "sql"
            },
            "outputs": [],
            "execution_count": null
        },
        {
            "cell_type": "code",
            "source": [
                "--11\n",
                "SELECT *\n",
                "FROM Users\n",
                "\n",
                "SELECT *\n",
                "FROM Address"
            ],
            "metadata": {
                "azdata_cell_guid": "7cc2a7aa-02ff-4cbd-b7b9-3af80395d34e",
                "language": "sql"
            },
            "outputs": [],
            "execution_count": null
        },
        {
            "cell_type": "code",
            "source": [
                ""
            ],
            "metadata": {
                "azdata_cell_guid": "fd883090-9d50-41c8-9e9a-e9b0bf820aaf",
                "language": "sql"
            },
            "outputs": [],
            "execution_count": null
        }
    ]
}