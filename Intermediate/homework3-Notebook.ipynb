{
    "metadata": {
        "kernelspec": {
            "name": "SQL",
            "display_name": "SQL",
            "language": "sql"
        },
        "language_info": {
            "name": "sql",
            "version": ""
        }
    },
    "nbformat_minor": 2,
    "nbformat": 4,
    "cells": [
        {
            "cell_type": "code",
            "source": [
                "USE Chinook;\n",
                "\n",
                "--1\n",
                "WITH AA AS\n",
                "(\n",
                "SELECT\n",
                "    A.ArtistId\n",
                "    ,A.Name AS ArtistName\n",
                "    ,AL.AlbumId\n",
                "    ,AL.Title AS AlbumTitle\n",
                "FROM Artist A\n",
                "JOIN Album AL\n",
                "    ON AL.ArtistId = A.ArtistId\n",
                "WHERE A.Name = 'AudioSlave'\n",
                ")\n",
                "SELECT\n",
                "    AA.ArtistName\n",
                "    ,AA.AlbumTitle\n",
                "    ,T.Name AS TrackName\n",
                "FROM AA\n",
                "JOIN Track T\n",
                "    ON T.AlbumId = AA.AlbumId"
            ],
            "metadata": {
                "azdata_cell_guid": "f4ad7237-00b5-4ac5-aa48-8624b7acc821",
                "language": "sql"
            },
            "outputs": [],
            "execution_count": null
        },
        {
            "cell_type": "code",
            "source": [
                "--2\n",
                "SELECT\n",
                "    ArtistName\n",
                "    ,AlbumTitle\n",
                "    ,T.Name AS TrackName\n",
                "FROM\n",
                "(\n",
                "    SELECT\n",
                "        A.ArtistId\n",
                "        ,A.NAME AS ArtistName\n",
                "        ,AL.AlbumId\n",
                "        ,AL.Title AS AlbumTitle\n",
                "    FROM Artist A\n",
                "    JOIN ALBUM AL\n",
                "        ON AL.ArtistId = A.ArtistId\n",
                "    WHERE A.NAME = 'Kiss'\n",
                ") AS AA\n",
                "JOIN Track T\n",
                "    ON T.AlbumId = AA.AlbumId\n",
                ""
            ],
            "metadata": {
                "language": "sql",
                "azdata_cell_guid": "0b5f1b68-9616-4800-9195-d7d1380d89a0"
            },
            "outputs": [],
            "execution_count": null
        },
        {
            "cell_type": "code",
            "source": [
                "--3\n",
                "WITH CustomerInvoice AS\n",
                "(\n",
                "SELECT\n",
                "    CONCAT(C.FirstName, ' ', C.LastName) AS CustomerName\n",
                "    ,SUM(I.Total) AS SumTotal\n",
                "    ,C.SupportRepId\n",
                "FROM Customer C\n",
                "JOIN Invoice I\n",
                "    ON I.CustomerId = C.CustomerId\n",
                "GROUP BY C.FirstName, C.LastName, C.SupportRepId\n",
                ")\n",
                "SELECT\n",
                "    E.LastName AS SupportRep\n",
                "    ,CustomerName\n",
                "    ,SumTotal\n",
                "FROM CustomerInvoice\n",
                "JOIN Employee E\n",
                "    ON E.EmployeeId = CustomerInvoice.SupportRepId\n",
                "ORDER BY SumTotal DESC, SupportRep"
            ],
            "metadata": {
                "azdata_cell_guid": "634c3b84-0f17-4377-ac68-c181a4ecee3a",
                "language": "sql"
            },
            "outputs": [],
            "execution_count": null
        },
        {
            "cell_type": "code",
            "source": [
                "--4\n",
                "SELECT\n",
                "    A.Name AS ArtistName\n",
                "    ,AL.Title AS AlbumTitle\n",
                "    ,(\n",
                "        SELECT COUNT(*)\n",
                "        FROM Track T\n",
                "        WHERE T.AlbumId = AL.AlbumId\n",
                "    ) AS TrackCount\n",
                "FROM Artist A\n",
                "JOIN Album AL \n",
                "    ON AL.ArtistId = A.ArtistId\n",
                "WHERE A.Name = 'Iron Maiden'\n",
                "ORDER BY TrackCount"
            ],
            "metadata": {
                "azdata_cell_guid": "e11819e2-81da-4b96-9371-08efea40f504",
                "language": "sql"
            },
            "outputs": [],
            "execution_count": null
        },
        {
            "cell_type": "code",
            "source": [
                "--5\n",
                "WITH TCount AS \n",
                "(\n",
                "SELECT \n",
                "    T.AlbumId\n",
                "    ,COUNT(*) AS TC\n",
                "FROM Track T\n",
                "JOIN Album AL \n",
                "    ON AL.AlbumId = T.AlbumId\n",
                "WHERE T.AlbumId = AL.AlbumId\n",
                "GROUP BY T.AlbumId\n",
                ")\n",
                "SELECT\n",
                "    A.Name AS ArtistName\n",
                "    ,AL.Title AS AlbumTitle\n",
                "    ,TC AS TrackCount\n",
                "FROM TCount\n",
                "JOIN Album AL\n",
                "    ON AL.AlbumId = TCount.AlbumId\n",
                "JOIN Artist A \n",
                "    ON A.ArtistId = AL.ArtistId\n",
                "WHERE A.Name = 'U2'\n",
                "ORDER BY TrackCount"
            ],
            "metadata": {
                "azdata_cell_guid": "5fae34a3-4a7b-497f-877e-99f845ef5e1f",
                "language": "sql"
            },
            "outputs": [],
            "execution_count": null
        },
        {
            "cell_type": "code",
            "source": [
                "--6\n",
                "WITH BD AS\n",
                "(\n",
                "SELECT\n",
                "    E.BirthDate\n",
                "    ,CONVERT(VARCHAR, DATEFROMPARTS(2021,MONTH(E.BirthDate),DAY(E.BirthDate)), 110 ) AS BirthDay2021\n",
                "FROM Employee E\n",
                ")\n",
                ", CD AS\n",
                "(\n",
                "SELECT\n",
                "    E.BirthDate\n",
                "    ,CASE\n",
                "        WHEN DATENAME(WEEKDAY, BD.BirthDay2021) = 'Saturday' THEN CONVERT(VARCHAR, DATEADD(day, 2, BD.BirthDay2021), 110)\n",
                "        WHEN DATENAME(WEEKDAY, BD.BirthDay2021) = 'Sunday' THEN CONVERT(VARCHAR, DATEADD(day, 1, BD.BirthDay2021), 110)\n",
                "        ELSE BD.BirthDay2021 \n",
                "        END AS CelebrationDate\n",
                "FROM Employee E\n",
                "JOIN BD \n",
                "    ON BD.BirthDate = E.BirthDate\n",
                ")\n",
                "SELECT\n",
                "    CONCAT(E.FirstName, ' ', E.LastName) AS FullName\n",
                "    ,CONVERT(VARCHAR, E.BirthDate, 110) AS BirthDate\n",
                "    ,BD.BirthDay2021\n",
                "    ,DATENAME(WEEKDAY, BD.BirthDay2021) AS BirthDayOfWeek2021\n",
                "    ,CD.CelebrationDate\n",
                "    ,DATENAME(WEEKDAY, CD.CelebrationDate) AS CelebrationDayOfWeek\n",
                "FROM Employee E\n",
                "JOIN BD\n",
                "    ON BD.BirthDate = E.BirthDate\n",
                "JOIN CD \n",
                "    ON CD.BirthDate = E.BirthDate"
            ],
            "metadata": {
                "azdata_cell_guid": "2102b6d0-9f03-4b35-a455-b475f4ba8ea9",
                "language": "sql"
            },
            "outputs": [],
            "execution_count": null
        },
        {
            "cell_type": "code",
            "source": [
                "/********************** Trigger Setup ****************************/\n",
                "GO\n",
                "USE master\n",
                "IF DB_ID('MyDB_dp') IS NOT NULL --Execute code below if the database exists.\n",
                "BEGIN\n",
                "    ALTER DATABASE MyDB_dp SET OFFLINE WITH ROLLBACK IMMEDIATE; --Removes connections to database.\n",
                "    ALTER DATABASE MyDB_dp SET ONLINE; --Return online so DROP command will succeed.\n",
                "    DROP DATABASE MyDB_dp; --Drop the database\n",
                "END\n",
                "CREATE DATABASE MyDB_dp\n",
                "GO\n",
                "USE MyDB_dp\n",
                "\n",
                "--Create sample table.\n",
                "SELECT *\n",
                "INTO Staff\n",
                "FROM Chinook.dbo.Employee\n",
                "\n",
                "--Create log table.\n",
                "SELECT\n",
                "    CAST('' AS varchar(20)) AS DMLType\n",
                "    ,sysdatetime() AS DateUpdated\n",
                "    ,SYSTEM_USER AS UpdatedBy\n",
                "    ,*\n",
                "INTO Staff_log\n",
                "FROM Chinook.dbo.Employee\n",
                "WHERE 1=2 --Table creation shortcut. By setting 1=2 the table gets created but no data is inserted.\n",
                "/****************************************************************/"
            ],
            "metadata": {
                "azdata_cell_guid": "6975f779-9496-4fb1-bea3-8c1b63063970",
                "language": "sql"
            },
            "outputs": [],
            "execution_count": null
        },
        {
            "cell_type": "code",
            "source": [
                "--7\n",
                "UPDATE Staff\n",
                "SET Title = 'New General Manager'\n",
                "OUTPUT inserted.EmployeeId, deleted.Title AS TitleBefore, inserted.Title AS TitleAfter\n",
                "WHERE FirstName = 'Nancy' AND LastName = 'Edwards'\n",
                ""
            ],
            "metadata": {
                "azdata_cell_guid": "ab9811b7-5b64-4b51-a5a3-00d05906c66a",
                "language": "sql"
            },
            "outputs": [],
            "execution_count": null
        },
        {
            "cell_type": "code",
            "source": [
                "--8\n",
                "GO\n",
                "CREATE TRIGGER Staff_trg\n",
                "    ON Staff\n",
                "    AFTER UPDATE, DELETE\n",
                "    AS\n",
                "    INSERT INTO Staff_log(DMLType, DateUpdated, UpdatedBy, EmployeeId, LastName, FirstName, Title, ReportsTo, BirthDate, HireDate, Address, City, [State], Country, PostalCode, Phone, Fax, Email)\n",
                "    SELECT\n",
                "    CASE\n",
                "        WHEN EXISTS (SELECT * FROM deleted)\n",
                "            AND NOT EXISTS (SELECT * FROM inserted) THEN 'deleted'\n",
                "        ELSE 'inserted'\n",
                "        END\n",
                "    ,SYSDATETIME()\n",
                "    ,SYSTEM_USER\n",
                "    ,COALESCE(D.EmployeeId, I.EmployeeId)\n",
                "    ,COALESCE(D.LastName, I.LastName)\n",
                "    ,COALESCE(D.FirstName, I.FirstName)\n",
                "    ,COALESCE(D.Title, I.Title)\n",
                "    ,COALESCE(D.ReportsTo, I.ReportsTo)\n",
                "    ,COALESCE(D.BirthDate, I.BirthDate)\n",
                "    ,COALESCE(D.HireDate, I.HireDate)\n",
                "    ,COALESCE(D.Address, I.Address)\n",
                "    ,COALESCE(D.City, I.City)\n",
                "    ,COALESCE(D.State, I.State)\n",
                "    ,COALESCE(D.Country, I.Country)\n",
                "    ,COALESCE(D.PostalCode, I.PostalCode)\n",
                "    ,COALESCE(D.Phone, I.Phone)\n",
                "    ,COALESCE(D.Fax, I.Fax)\n",
                "    ,COALESCE(D.Email, I.Email)\n",
                "    FROM deleted D \n",
                "    FULL JOIN inserted I\n",
                "        ON I.EmployeeId = D.EmployeeId"
            ],
            "metadata": {
                "azdata_cell_guid": "157112fc-ba4e-4e51-a616-c09ca75e4e40",
                "language": "sql"
            },
            "outputs": [],
            "execution_count": null
        },
        {
            "cell_type": "code",
            "source": [
                "--9\n",
                "DELETE Staff\n",
                "WHERE FirstName = 'Andrew' AND LastName = 'Adams'"
            ],
            "metadata": {
                "azdata_cell_guid": "9fa70f90-ecf7-4e42-b089-2b9988cb52cb",
                "language": "sql"
            },
            "outputs": [],
            "execution_count": null
        },
        {
            "cell_type": "code",
            "source": [
                "--10\n",
                "UPDATE Staff\n",
                "SET Title = 'New Sales Manager'\n",
                "WHERE FirstName = 'Jane' AND LastName = 'Peacock'"
            ],
            "metadata": {
                "azdata_cell_guid": "bd3c493e-2bd4-4d0d-a4df-1713c794b1b0",
                "language": "sql"
            },
            "outputs": [],
            "execution_count": null
        },
        {
            "cell_type": "code",
            "source": [
                "--11\n",
                "SELECT *\n",
                "FROM Staff\n",
                "\n",
                "SELECT *\n",
                "FROM Staff_log"
            ],
            "metadata": {
                "azdata_cell_guid": "6faf3468-9b92-4239-b80e-7e155346e637",
                "language": "sql"
            },
            "outputs": [],
            "execution_count": null
        },
        {
            "cell_type": "code",
            "source": [
                ""
            ],
            "metadata": {
                "azdata_cell_guid": "72487774-efff-4680-b278-133d2226a38c",
                "language": "sql"
            },
            "outputs": [],
            "execution_count": null
        },
        {
            "cell_type": "code",
            "source": [
                ""
            ],
            "metadata": {
                "azdata_cell_guid": "99f6e3a0-63db-486c-b2c0-fe144c58d0f0",
                "language": "sql"
            },
            "outputs": [],
            "execution_count": null
        },
        {
            "cell_type": "code",
            "source": [
                ""
            ],
            "metadata": {
                "azdata_cell_guid": "7516f915-f0bf-47bc-915b-d55367f5c19c",
                "language": "sql"
            },
            "outputs": [],
            "execution_count": null
        },
        {
            "cell_type": "code",
            "source": [
                ""
            ],
            "metadata": {
                "azdata_cell_guid": "3c95423c-0a23-4552-9375-2be725cfacbd",
                "language": "sql"
            },
            "outputs": [],
            "execution_count": null
        },
        {
            "cell_type": "code",
            "source": [
                ""
            ],
            "metadata": {
                "azdata_cell_guid": "72df1dc2-e6bb-47b4-be94-6a794ae346d4",
                "language": "sql"
            },
            "outputs": [],
            "execution_count": null
        }
    ]
}