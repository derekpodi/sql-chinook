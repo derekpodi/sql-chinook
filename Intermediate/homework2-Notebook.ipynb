{
    "metadata": {
        "kernelspec": {
            "name": "SQL",
            "display_name": "SQL",
            "language": "sql"
        },
        "language_info": {
            "name": "sql",
            "version": ""
        }
    },
    "nbformat_minor": 2,
    "nbformat": 4,
    "cells": [
        {
            "cell_type": "code",
            "source": [
                "\n",
                "USE Chinook\n",
                "IF OBJECT_ID('Track_v_dp') IS NOT NULL DROP VIEW Track_v_dp\n",
                "IF OBJECT_ID('ArtistAlbum_fn_dp') IS NOT NULL DROP FUNCTION ArtistAlbum_fn_dp\n",
                "IF OBJECT_ID('TracksByArtist_p_dp') IS NOT NULL DROP PROC TracksByArtist_p_dp\n",
                "\n",
                "GO"
            ],
            "metadata": {
                "azdata_cell_guid": "a686cd38-2a9e-49a1-9c94-b6e478a8cac1",
                "language": "sql"
            },
            "outputs": [],
            "execution_count": null
        },
        {
            "cell_type": "code",
            "source": [
                "--1\n",
                "CREATE VIEW Track_v_dp AS\n",
                "SELECT\n",
                "    T.*\n",
                "    ,G.Name AS GenreName\n",
                "    ,MT.Name AS MediaTypeName\n",
                "FROM Track T\n",
                "JOIN Genre G\n",
                "    ON G.GenreId = T.GenreId\n",
                "JOIN MediaType MT\n",
                "    ON MT.MediaTypeId = T.MediaTypeId\n",
                "\n",
                "/*\n",
                "SELECT *\n",
                "FROM Track_v_dp\n",
                "*/\n",
                "\n",
                "GO"
            ],
            "metadata": {
                "azdata_cell_guid": "35b99aef-6329-4252-aac8-aebb04447ab1",
                "language": "sql"
            },
            "outputs": [],
            "execution_count": null
        },
        {
            "cell_type": "code",
            "source": [
                "--2\n",
                "CREATE FUNCTION ArtistAlbum_fn_dp (@TrackId int)\n",
                "RETURNS varchar(100)\n",
                "AS\n",
                "BEGIN\n",
                "DECLARE @ArtistAlbum varchar(100)\n",
                "SELECT\n",
                "    @ArtistAlbum = CONCAT(A.Name, '-', AL.Title)\n",
                "FROM Track T\n",
                "JOIN Album AL\n",
                "    ON AL.AlbumId = T.AlbumId\n",
                "JOIN Artist A\n",
                "    ON A.ArtistId = AL.ArtistId\n",
                "WHERE T.TrackId = @TrackId\n",
                "RETURN\n",
                "    @ArtistAlbum\n",
                "END\n",
                "\n",
                "/*\n",
                "SELECT\n",
                "    dbo.ArtistAlbum_fn_dp(TrackId)\n",
                "FROM Track\n",
                "*/\n",
                "\n",
                "GO\n",
                ""
            ],
            "metadata": {
                "azdata_cell_guid": "157bcfe3-e5f6-4c09-b9b7-4f3ba43b552e",
                "language": "sql"
            },
            "outputs": [],
            "execution_count": null
        },
        {
            "cell_type": "code",
            "source": [
                "--3     --STILL INCORRECT\n",
                "CREATE PROC TracksByArtist_p_dp @ArtistName varchar(100) AS\n",
                "SELECT\n",
                "    A.Name AS ArtistName\n",
                "    ,AL.Title AS AlbumTitle\n",
                "    ,T.Name AS TrackName\n",
                "FROM Artist A\n",
                "JOIN Album AL \n",
                "    ON AL.ArtistId = A.ArtistId\n",
                "JOIN Track T\n",
                "    ON T.AlbumId = AL.AlbumId\n",
                "WHERE A.Name LIKE CONCAT('%',@ArtistName,'%')\n",
                "\n",
                "\n",
                "/*\n",
                "EXEC TracksByArtist_p_dp 'Black'\n",
                "*/\n",
                "\n",
                "GO"
            ],
            "metadata": {
                "azdata_cell_guid": "280920a3-0a1d-44f3-9c20-98505faba619",
                "language": "sql"
            },
            "outputs": [],
            "execution_count": null
        },
        {
            "cell_type": "code",
            "source": [
                "--4\n",
                "SELECT\n",
                "    T.Name\n",
                "    ,T.GenreName\n",
                "    ,T.MediaTypeName\n",
                "FROM Track_v_dp T\n",
                "JOIN Album AL \n",
                "    ON AL.AlbumId = T.AlbumId\n",
                "WHERE T.Name = 'Babylon'\n",
                "\n",
                "\n",
                "GO\n",
                ""
            ],
            "metadata": {
                "language": "sql",
                "azdata_cell_guid": "931b41b5-2a15-489c-a2f1-d3a0d9613ef5"
            },
            "outputs": [],
            "execution_count": null
        },
        {
            "cell_type": "code",
            "source": [
                "--5\n",
                "SELECT\n",
                "    dbo.ArtistAlbum_fn_dp(T.TrackId) AS [Artist and Album]\n",
                "    ,T.Name AS TrackName\n",
                "FROM Track_v_dp T\n",
                "WHERE T.GenreName = 'Opera'\n",
                "\n",
                "\n",
                "GO"
            ],
            "metadata": {
                "language": "sql",
                "azdata_cell_guid": "8fb763f3-9f21-45e4-98e1-7934d5af2717"
            },
            "outputs": [],
            "execution_count": null
        },
        {
            "cell_type": "code",
            "source": [
                "--6     --STILL INCORRECT;--Problem Number 3 is incorrect -> get 54 rows, 0 rows as is currently\n",
                "EXEC TracksByArtist_p_dp 'black'\n",
                "GO\n",
                "EXEC TracksByArtist_p_dp 'white'\n",
                "GO\n",
                "\n",
                ""
            ],
            "metadata": {
                "language": "sql",
                "azdata_cell_guid": "ddb02868-70b0-4579-9749-bdf778d21124"
            },
            "outputs": [],
            "execution_count": null
        },
        {
            "cell_type": "code",
            "source": [
                "--7\n",
                "ALTER PROC [dbo].[TracksByArtist_p_dp] \n",
                "    @ArtistName varchar(100) = 'Scorpions' AS\n",
                "SELECT\n",
                "    A.Name AS ArtistName\n",
                "    ,AL.Title AS AlbumTitle\n",
                "    ,T.Name AS TrackName\n",
                "FROM Artist A\n",
                "JOIN Album AL \n",
                "    ON AL.ArtistId = A.ArtistId\n",
                "JOIN Track T\n",
                "    ON T.AlbumId = AL.AlbumId\n",
                "WHERE A.Name LIKE CONCAT('%',@ArtistName,'%')\n",
                "\n",
                "\n",
                "GO"
            ],
            "metadata": {
                "language": "sql",
                "azdata_cell_guid": "25738bef-8fab-4ef0-aaea-7f9f52126263"
            },
            "outputs": [],
            "execution_count": null
        },
        {
            "cell_type": "code",
            "source": [
                "--8\n",
                "EXEC TracksByArtist_p_dp\n",
                "\n",
                "GO"
            ],
            "metadata": {
                "language": "sql",
                "azdata_cell_guid": "bf644fb5-dbdf-4f0b-9332-0dca54824588"
            },
            "outputs": [],
            "execution_count": null
        },
        {
            "cell_type": "code",
            "source": [
                "--9\n",
                "\n",
                "DROP TABLE IF EXISTS  #Employee_Temp\n",
                "GO\n",
                "\n",
                "SELECT *\n",
                "INTO #Employee_Temp\n",
                "FROM Employee\n",
                "\n",
                "BEGIN TRANSACTION\n",
                "UPDATE #Employee_Temp\n",
                "SET LastName = 'Podimatis'\n",
                "WHERE EmployeeId = 1\n",
                "\n",
                ""
            ],
            "metadata": {
                "language": "sql",
                "azdata_cell_guid": "a5b64cda-a420-4cf7-8c65-3425bcf9f49c",
                "tags": []
            },
            "outputs": [],
            "execution_count": null
        },
        {
            "cell_type": "code",
            "source": [
                "--10\n",
                "SELECT \n",
                "    EmployeeId\n",
                "    ,LastName\n",
                "FROM #Employee_Temp\n",
                "WHERE EmployeeId =1\n",
                "\n",
                "ROLLBACK TRANSACTION\n",
                "\n",
                "SELECT \n",
                "    EmployeeId\n",
                "    ,LastName\n",
                "FROM #Employee_Temp\n",
                "WHERE EmployeeId =1\n",
                ""
            ],
            "metadata": {
                "language": "sql",
                "azdata_cell_guid": "93433d3c-dfeb-43ca-b510-8b647330e497"
            },
            "outputs": [],
            "execution_count": null
        },
        {
            "cell_type": "code",
            "source": [
                ""
            ],
            "metadata": {
                "language": "sql",
                "azdata_cell_guid": "0d3b75e5-d569-4f30-ac2a-68b02ed93a1c"
            },
            "outputs": [],
            "execution_count": null
        }
    ]
}