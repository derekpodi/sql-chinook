{
    "metadata": {
        "kernelspec": {
            "name": "SQL",
            "display_name": "SQL",
            "language": "sql"
        },
        "language_info": {
            "name": "sql",
            "version": ""
        }
    },
    "nbformat_minor": 2,
    "nbformat": 4,
    "cells": [
        {
            "cell_type": "code",
            "source": [
                "--1\n",
                "USE Chinook\n",
                "SELECT *\n",
                "FROM Employee"
            ],
            "metadata": {
                "azdata_cell_guid": "4b039a53-507f-48e7-a08c-58b3f726a86e",
                "language": "sql"
            },
            "outputs": [
                {
                    "output_type": "display_data",
                    "data": {
                        "text/html": "(8 rows affected)"
                    },
                    "metadata": {}
                },
                {
                    "output_type": "display_data",
                    "data": {
                        "text/html": "Total execution time: 00:00:00.009"
                    },
                    "metadata": {}
                },
                {
                    "output_type": "execute_result",
                    "metadata": {},
                    "execution_count": 38,
                    "data": {
                        "application/vnd.dataresource+json": {
                            "schema": {
                                "fields": [
                                    {
                                        "name": "EmployeeId"
                                    },
                                    {
                                        "name": "LastName"
                                    },
                                    {
                                        "name": "FirstName"
                                    },
                                    {
                                        "name": "Title"
                                    },
                                    {
                                        "name": "ReportsTo"
                                    },
                                    {
                                        "name": "BirthDate"
                                    },
                                    {
                                        "name": "HireDate"
                                    },
                                    {
                                        "name": "Address"
                                    },
                                    {
                                        "name": "City"
                                    },
                                    {
                                        "name": "State"
                                    },
                                    {
                                        "name": "Country"
                                    },
                                    {
                                        "name": "PostalCode"
                                    },
                                    {
                                        "name": "Phone"
                                    },
                                    {
                                        "name": "Fax"
                                    },
                                    {
                                        "name": "Email"
                                    }
                                ]
                            },
                            "data": [
                                {
                                    "0": "1",
                                    "1": "Adams",
                                    "2": "Andrew",
                                    "3": "General Manager",
                                    "4": "NULL",
                                    "5": "1962-02-18 00:00:00.000",
                                    "6": "2002-08-14 00:00:00.000",
                                    "7": "11120 Jasper Ave NW",
                                    "8": "Edmonton",
                                    "9": "AB",
                                    "10": "Canada",
                                    "11": "T5K 2N1",
                                    "12": "+1 (780) 428-9482",
                                    "13": "+1 (780) 428-3457",
                                    "14": "andrew@chinookcorp.com"
                                },
                                {
                                    "0": "2",
                                    "1": "Edwards",
                                    "2": "Nancy",
                                    "3": "Sales Manager",
                                    "4": "1",
                                    "5": "1958-12-08 00:00:00.000",
                                    "6": "2002-05-01 00:00:00.000",
                                    "7": "825 8 Ave SW",
                                    "8": "Calgary",
                                    "9": "AB",
                                    "10": "Canada",
                                    "11": "T2P 2T3",
                                    "12": "+1 (403) 262-3443",
                                    "13": "+1 (403) 262-3322",
                                    "14": "nancy@chinookcorp.com"
                                },
                                {
                                    "0": "3",
                                    "1": "Peacock",
                                    "2": "Jane",
                                    "3": "Sales Support Agent",
                                    "4": "2",
                                    "5": "1973-08-29 00:00:00.000",
                                    "6": "2002-04-01 00:00:00.000",
                                    "7": "1111 6 Ave SW",
                                    "8": "Calgary",
                                    "9": "AB",
                                    "10": "Canada",
                                    "11": "T2P 5M5",
                                    "12": "+1 (403) 262-3443",
                                    "13": "+1 (403) 262-6712",
                                    "14": "jane@chinookcorp.com"
                                },
                                {
                                    "0": "4",
                                    "1": "Park",
                                    "2": "Margaret",
                                    "3": "Sales Support Agent",
                                    "4": "2",
                                    "5": "1947-09-19 00:00:00.000",
                                    "6": "2003-05-03 00:00:00.000",
                                    "7": "683 10 Street SW",
                                    "8": "Calgary",
                                    "9": "AB",
                                    "10": "Canada",
                                    "11": "T2P 5G3",
                                    "12": "+1 (403) 263-4423",
                                    "13": "+1 (403) 263-4289",
                                    "14": "margaret@chinookcorp.com"
                                },
                                {
                                    "0": "5",
                                    "1": "Johnson",
                                    "2": "Steve",
                                    "3": "Sales Support Agent",
                                    "4": "2",
                                    "5": "1965-03-03 00:00:00.000",
                                    "6": "2003-10-17 00:00:00.000",
                                    "7": "7727B 41 Ave",
                                    "8": "Calgary",
                                    "9": "AB",
                                    "10": "Canada",
                                    "11": "T3B 1Y7",
                                    "12": "1 (780) 836-9987",
                                    "13": "1 (780) 836-9543",
                                    "14": "steve@chinookcorp.com"
                                },
                                {
                                    "0": "6",
                                    "1": "Mitchell",
                                    "2": "Michael",
                                    "3": "IT Manager",
                                    "4": "1",
                                    "5": "1973-07-01 00:00:00.000",
                                    "6": "2003-10-17 00:00:00.000",
                                    "7": "5827 Bowness Road NW",
                                    "8": "Calgary",
                                    "9": "AB",
                                    "10": "Canada",
                                    "11": "T3B 0C5",
                                    "12": "+1 (403) 246-9887",
                                    "13": "+1 (403) 246-9899",
                                    "14": "michael@chinookcorp.com"
                                },
                                {
                                    "0": "7",
                                    "1": "King",
                                    "2": "Robert",
                                    "3": "IT Staff",
                                    "4": "6",
                                    "5": "1970-05-29 00:00:00.000",
                                    "6": "2004-01-02 00:00:00.000",
                                    "7": "590 Columbia Boulevard West",
                                    "8": "Lethbridge",
                                    "9": "AB",
                                    "10": "Canada",
                                    "11": "T1K 5N8",
                                    "12": "+1 (403) 456-9986",
                                    "13": "+1 (403) 456-8485",
                                    "14": "robert@chinookcorp.com"
                                },
                                {
                                    "0": "8",
                                    "1": "Callahan",
                                    "2": "Laura",
                                    "3": "IT Staff",
                                    "4": "6",
                                    "5": "1968-01-09 00:00:00.000",
                                    "6": "2004-03-04 00:00:00.000",
                                    "7": "923 7 ST NW",
                                    "8": "Lethbridge",
                                    "9": "AB",
                                    "10": "Canada",
                                    "11": "T1H 1Y8",
                                    "12": "+1 (403) 467-3351",
                                    "13": "+1 (403) 467-8772",
                                    "14": "laura@chinookcorp.com"
                                }
                            ]
                        },
                        "text/html": [
                            "<table>",
                            "<tr><th>EmployeeId</th><th>LastName</th><th>FirstName</th><th>Title</th><th>ReportsTo</th><th>BirthDate</th><th>HireDate</th><th>Address</th><th>City</th><th>State</th><th>Country</th><th>PostalCode</th><th>Phone</th><th>Fax</th><th>Email</th></tr>",
                            "<tr><td>1</td><td>Adams</td><td>Andrew</td><td>General Manager</td><td>NULL</td><td>1962-02-18 00:00:00.000</td><td>2002-08-14 00:00:00.000</td><td>11120 Jasper Ave NW</td><td>Edmonton</td><td>AB</td><td>Canada</td><td>T5K 2N1</td><td>+1 (780) 428-9482</td><td>+1 (780) 428-3457</td><td>andrew@chinookcorp.com</td></tr>",
                            "<tr><td>2</td><td>Edwards</td><td>Nancy</td><td>Sales Manager</td><td>1</td><td>1958-12-08 00:00:00.000</td><td>2002-05-01 00:00:00.000</td><td>825 8 Ave SW</td><td>Calgary</td><td>AB</td><td>Canada</td><td>T2P 2T3</td><td>+1 (403) 262-3443</td><td>+1 (403) 262-3322</td><td>nancy@chinookcorp.com</td></tr>",
                            "<tr><td>3</td><td>Peacock</td><td>Jane</td><td>Sales Support Agent</td><td>2</td><td>1973-08-29 00:00:00.000</td><td>2002-04-01 00:00:00.000</td><td>1111 6 Ave SW</td><td>Calgary</td><td>AB</td><td>Canada</td><td>T2P 5M5</td><td>+1 (403) 262-3443</td><td>+1 (403) 262-6712</td><td>jane@chinookcorp.com</td></tr>",
                            "<tr><td>4</td><td>Park</td><td>Margaret</td><td>Sales Support Agent</td><td>2</td><td>1947-09-19 00:00:00.000</td><td>2003-05-03 00:00:00.000</td><td>683 10 Street SW</td><td>Calgary</td><td>AB</td><td>Canada</td><td>T2P 5G3</td><td>+1 (403) 263-4423</td><td>+1 (403) 263-4289</td><td>margaret@chinookcorp.com</td></tr>",
                            "<tr><td>5</td><td>Johnson</td><td>Steve</td><td>Sales Support Agent</td><td>2</td><td>1965-03-03 00:00:00.000</td><td>2003-10-17 00:00:00.000</td><td>7727B 41 Ave</td><td>Calgary</td><td>AB</td><td>Canada</td><td>T3B 1Y7</td><td>1 (780) 836-9987</td><td>1 (780) 836-9543</td><td>steve@chinookcorp.com</td></tr>",
                            "<tr><td>6</td><td>Mitchell</td><td>Michael</td><td>IT Manager</td><td>1</td><td>1973-07-01 00:00:00.000</td><td>2003-10-17 00:00:00.000</td><td>5827 Bowness Road NW</td><td>Calgary</td><td>AB</td><td>Canada</td><td>T3B 0C5</td><td>+1 (403) 246-9887</td><td>+1 (403) 246-9899</td><td>michael@chinookcorp.com</td></tr>",
                            "<tr><td>7</td><td>King</td><td>Robert</td><td>IT Staff</td><td>6</td><td>1970-05-29 00:00:00.000</td><td>2004-01-02 00:00:00.000</td><td>590 Columbia Boulevard West</td><td>Lethbridge</td><td>AB</td><td>Canada</td><td>T1K 5N8</td><td>+1 (403) 456-9986</td><td>+1 (403) 456-8485</td><td>robert@chinookcorp.com</td></tr>",
                            "<tr><td>8</td><td>Callahan</td><td>Laura</td><td>IT Staff</td><td>6</td><td>1968-01-09 00:00:00.000</td><td>2004-03-04 00:00:00.000</td><td>923 7 ST NW</td><td>Lethbridge</td><td>AB</td><td>Canada</td><td>T1H 1Y8</td><td>+1 (403) 467-3351</td><td>+1 (403) 467-8772</td><td>laura@chinookcorp.com</td></tr>",
                            "</table>"
                        ]
                    }
                }
            ],
            "execution_count": 38
        },
        {
            "cell_type": "code",
            "source": [
                "--2\n",
                "USE Chinook\n",
                "SELECT \n",
                "    FirstName\n",
                "    ,LastName\n",
                "    ,Email\n",
                "From Employee"
            ],
            "metadata": {
                "azdata_cell_guid": "93557a4d-130b-4d1d-adbb-9f58fae4a39a",
                "language": "sql"
            },
            "outputs": [
                {
                    "output_type": "display_data",
                    "data": {
                        "text/html": "(8 rows affected)"
                    },
                    "metadata": {}
                },
                {
                    "output_type": "display_data",
                    "data": {
                        "text/html": "Total execution time: 00:00:00.005"
                    },
                    "metadata": {}
                },
                {
                    "output_type": "execute_result",
                    "metadata": {},
                    "execution_count": 39,
                    "data": {
                        "application/vnd.dataresource+json": {
                            "schema": {
                                "fields": [
                                    {
                                        "name": "FirstName"
                                    },
                                    {
                                        "name": "LastName"
                                    },
                                    {
                                        "name": "Email"
                                    }
                                ]
                            },
                            "data": [
                                {
                                    "0": "Andrew",
                                    "1": "Adams",
                                    "2": "andrew@chinookcorp.com"
                                },
                                {
                                    "0": "Nancy",
                                    "1": "Edwards",
                                    "2": "nancy@chinookcorp.com"
                                },
                                {
                                    "0": "Jane",
                                    "1": "Peacock",
                                    "2": "jane@chinookcorp.com"
                                },
                                {
                                    "0": "Margaret",
                                    "1": "Park",
                                    "2": "margaret@chinookcorp.com"
                                },
                                {
                                    "0": "Steve",
                                    "1": "Johnson",
                                    "2": "steve@chinookcorp.com"
                                },
                                {
                                    "0": "Michael",
                                    "1": "Mitchell",
                                    "2": "michael@chinookcorp.com"
                                },
                                {
                                    "0": "Robert",
                                    "1": "King",
                                    "2": "robert@chinookcorp.com"
                                },
                                {
                                    "0": "Laura",
                                    "1": "Callahan",
                                    "2": "laura@chinookcorp.com"
                                }
                            ]
                        },
                        "text/html": [
                            "<table>",
                            "<tr><th>FirstName</th><th>LastName</th><th>Email</th></tr>",
                            "<tr><td>Andrew</td><td>Adams</td><td>andrew@chinookcorp.com</td></tr>",
                            "<tr><td>Nancy</td><td>Edwards</td><td>nancy@chinookcorp.com</td></tr>",
                            "<tr><td>Jane</td><td>Peacock</td><td>jane@chinookcorp.com</td></tr>",
                            "<tr><td>Margaret</td><td>Park</td><td>margaret@chinookcorp.com</td></tr>",
                            "<tr><td>Steve</td><td>Johnson</td><td>steve@chinookcorp.com</td></tr>",
                            "<tr><td>Michael</td><td>Mitchell</td><td>michael@chinookcorp.com</td></tr>",
                            "<tr><td>Robert</td><td>King</td><td>robert@chinookcorp.com</td></tr>",
                            "<tr><td>Laura</td><td>Callahan</td><td>laura@chinookcorp.com</td></tr>",
                            "</table>"
                        ]
                    }
                }
            ],
            "execution_count": 39
        },
        {
            "cell_type": "code",
            "source": [
                "--3\n",
                "USE Chinook\n",
                "SELECT \n",
                "    Name\n",
                "    ,Composer\n",
                "    ,AlbumId\n",
                "From Track\n",
                "WHERE AlbumId=19"
            ],
            "metadata": {
                "language": "sql",
                "azdata_cell_guid": "bb50fb15-b0df-4b50-8ac8-cc1d52fbfd76"
            },
            "outputs": [
                {
                    "output_type": "display_data",
                    "data": {
                        "text/html": "(11 rows affected)"
                    },
                    "metadata": {}
                },
                {
                    "output_type": "display_data",
                    "data": {
                        "text/html": "Total execution time: 00:00:00.024"
                    },
                    "metadata": {}
                },
                {
                    "output_type": "execute_result",
                    "metadata": {},
                    "execution_count": 40,
                    "data": {
                        "application/vnd.dataresource+json": {
                            "schema": {
                                "fields": [
                                    {
                                        "name": "Name"
                                    },
                                    {
                                        "name": "Composer"
                                    },
                                    {
                                        "name": "AlbumId"
                                    }
                                ]
                            },
                            "data": [
                                {
                                    "0": "King In Crimson",
                                    "1": "Roy Z",
                                    "2": "19"
                                },
                                {
                                    "0": "Chemical Wedding",
                                    "1": "Roy Z",
                                    "2": "19"
                                },
                                {
                                    "0": "The Tower",
                                    "1": "Roy Z",
                                    "2": "19"
                                },
                                {
                                    "0": "Killing Floor",
                                    "1": "Adrian Smith",
                                    "2": "19"
                                },
                                {
                                    "0": "Book Of Thel",
                                    "1": "Eddie Casillas/Roy Z",
                                    "2": "19"
                                },
                                {
                                    "0": "Gates Of Urizen",
                                    "1": "Roy Z",
                                    "2": "19"
                                },
                                {
                                    "0": "Jerusalem",
                                    "1": "Roy Z",
                                    "2": "19"
                                },
                                {
                                    "0": "Trupets Of Jericho",
                                    "1": "Roy Z",
                                    "2": "19"
                                },
                                {
                                    "0": "Machine Men",
                                    "1": "Adrian Smith",
                                    "2": "19"
                                },
                                {
                                    "0": "The Alchemist",
                                    "1": "Roy Z",
                                    "2": "19"
                                },
                                {
                                    "0": "Realword",
                                    "1": "Roy Z",
                                    "2": "19"
                                }
                            ]
                        },
                        "text/html": [
                            "<table>",
                            "<tr><th>Name</th><th>Composer</th><th>AlbumId</th></tr>",
                            "<tr><td>King In Crimson</td><td>Roy Z</td><td>19</td></tr>",
                            "<tr><td>Chemical Wedding</td><td>Roy Z</td><td>19</td></tr>",
                            "<tr><td>The Tower</td><td>Roy Z</td><td>19</td></tr>",
                            "<tr><td>Killing Floor</td><td>Adrian Smith</td><td>19</td></tr>",
                            "<tr><td>Book Of Thel</td><td>Eddie Casillas/Roy Z</td><td>19</td></tr>",
                            "<tr><td>Gates Of Urizen</td><td>Roy Z</td><td>19</td></tr>",
                            "<tr><td>Jerusalem</td><td>Roy Z</td><td>19</td></tr>",
                            "<tr><td>Trupets Of Jericho</td><td>Roy Z</td><td>19</td></tr>",
                            "<tr><td>Machine Men</td><td>Adrian Smith</td><td>19</td></tr>",
                            "<tr><td>The Alchemist</td><td>Roy Z</td><td>19</td></tr>",
                            "<tr><td>Realword</td><td>Roy Z</td><td>19</td></tr>",
                            "</table>"
                        ]
                    }
                }
            ],
            "execution_count": 40
        },
        {
            "cell_type": "code",
            "source": [
                "--4\n",
                "USE Chinook\n",
                "SELECT\n",
                "    Name AS [Track Title]\n",
                "    ,Composer\n",
                "    ,AlbumId\n",
                "FROM Track\n",
                "WHERE AlbumId=19\n",
                "ORDER BY Composer, Name"
            ],
            "metadata": {
                "azdata_cell_guid": "b66051b9-519b-47a3-9502-9c6505b8daa5",
                "language": "sql"
            },
            "outputs": [
                {
                    "output_type": "display_data",
                    "data": {
                        "text/html": "(11 rows affected)"
                    },
                    "metadata": {}
                },
                {
                    "output_type": "display_data",
                    "data": {
                        "text/html": "Total execution time: 00:00:00.009"
                    },
                    "metadata": {}
                },
                {
                    "output_type": "execute_result",
                    "metadata": {},
                    "execution_count": 41,
                    "data": {
                        "application/vnd.dataresource+json": {
                            "schema": {
                                "fields": [
                                    {
                                        "name": "Track Title"
                                    },
                                    {
                                        "name": "Composer"
                                    },
                                    {
                                        "name": "AlbumId"
                                    }
                                ]
                            },
                            "data": [
                                {
                                    "0": "Killing Floor",
                                    "1": "Adrian Smith",
                                    "2": "19"
                                },
                                {
                                    "0": "Machine Men",
                                    "1": "Adrian Smith",
                                    "2": "19"
                                },
                                {
                                    "0": "Book Of Thel",
                                    "1": "Eddie Casillas/Roy Z",
                                    "2": "19"
                                },
                                {
                                    "0": "Chemical Wedding",
                                    "1": "Roy Z",
                                    "2": "19"
                                },
                                {
                                    "0": "Gates Of Urizen",
                                    "1": "Roy Z",
                                    "2": "19"
                                },
                                {
                                    "0": "Jerusalem",
                                    "1": "Roy Z",
                                    "2": "19"
                                },
                                {
                                    "0": "King In Crimson",
                                    "1": "Roy Z",
                                    "2": "19"
                                },
                                {
                                    "0": "Realword",
                                    "1": "Roy Z",
                                    "2": "19"
                                },
                                {
                                    "0": "The Alchemist",
                                    "1": "Roy Z",
                                    "2": "19"
                                },
                                {
                                    "0": "The Tower",
                                    "1": "Roy Z",
                                    "2": "19"
                                },
                                {
                                    "0": "Trupets Of Jericho",
                                    "1": "Roy Z",
                                    "2": "19"
                                }
                            ]
                        },
                        "text/html": [
                            "<table>",
                            "<tr><th>Track Title</th><th>Composer</th><th>AlbumId</th></tr>",
                            "<tr><td>Killing Floor</td><td>Adrian Smith</td><td>19</td></tr>",
                            "<tr><td>Machine Men</td><td>Adrian Smith</td><td>19</td></tr>",
                            "<tr><td>Book Of Thel</td><td>Eddie Casillas/Roy Z</td><td>19</td></tr>",
                            "<tr><td>Chemical Wedding</td><td>Roy Z</td><td>19</td></tr>",
                            "<tr><td>Gates Of Urizen</td><td>Roy Z</td><td>19</td></tr>",
                            "<tr><td>Jerusalem</td><td>Roy Z</td><td>19</td></tr>",
                            "<tr><td>King In Crimson</td><td>Roy Z</td><td>19</td></tr>",
                            "<tr><td>Realword</td><td>Roy Z</td><td>19</td></tr>",
                            "<tr><td>The Alchemist</td><td>Roy Z</td><td>19</td></tr>",
                            "<tr><td>The Tower</td><td>Roy Z</td><td>19</td></tr>",
                            "<tr><td>Trupets Of Jericho</td><td>Roy Z</td><td>19</td></tr>",
                            "</table>"
                        ]
                    }
                }
            ],
            "execution_count": 41
        },
        {
            "cell_type": "code",
            "source": [
                "--5\n",
                "USE Chinook\n",
                "SELECT TOP (5)\n",
                "    BillingCountry \n",
                "    ,BillingCity\n",
                "    ,Total\n",
                "FROM Invoice\n",
                "WHERE BillingCountry != 'USA'\n",
                "ORDER BY Total DESC"
            ],
            "metadata": {
                "azdata_cell_guid": "e3dd7c44-8146-4ffb-91aa-4edc41ec48d1",
                "language": "sql"
            },
            "outputs": [
                {
                    "output_type": "display_data",
                    "data": {
                        "text/html": "(5 rows affected)"
                    },
                    "metadata": {}
                },
                {
                    "output_type": "display_data",
                    "data": {
                        "text/html": "Total execution time: 00:00:00.008"
                    },
                    "metadata": {}
                },
                {
                    "output_type": "execute_result",
                    "metadata": {},
                    "execution_count": 42,
                    "data": {
                        "application/vnd.dataresource+json": {
                            "schema": {
                                "fields": [
                                    {
                                        "name": "BillingCountry"
                                    },
                                    {
                                        "name": "BillingCity"
                                    },
                                    {
                                        "name": "Total"
                                    }
                                ]
                            },
                            "data": [
                                {
                                    "0": "Czech Republic",
                                    "1": "Prague",
                                    "2": "25.86"
                                },
                                {
                                    "0": "Hungary",
                                    "1": "Budapest",
                                    "2": "21.86"
                                },
                                {
                                    "0": "Ireland",
                                    "1": "Dublin",
                                    "2": "21.86"
                                },
                                {
                                    "0": "Austria",
                                    "1": "Vienne",
                                    "2": "18.86"
                                },
                                {
                                    "0": "Chile",
                                    "1": "Santiago",
                                    "2": "17.91"
                                }
                            ]
                        },
                        "text/html": [
                            "<table>",
                            "<tr><th>BillingCountry</th><th>BillingCity</th><th>Total</th></tr>",
                            "<tr><td>Czech Republic</td><td>Prague</td><td>25.86</td></tr>",
                            "<tr><td>Hungary</td><td>Budapest</td><td>21.86</td></tr>",
                            "<tr><td>Ireland</td><td>Dublin</td><td>21.86</td></tr>",
                            "<tr><td>Austria</td><td>Vienne</td><td>18.86</td></tr>",
                            "<tr><td>Chile</td><td>Santiago</td><td>17.91</td></tr>",
                            "</table>"
                        ]
                    }
                }
            ],
            "execution_count": 42
        },
        {
            "cell_type": "code",
            "source": [
                "--6\n",
                "USE Chinook\n",
                "SELECT DISTINCT\n",
                "    State\n",
                "    ,Country\n",
                "FROM Customer\n",
                "WHERE Country = 'USA'"
            ],
            "metadata": {
                "azdata_cell_guid": "70fffd34-e558-45da-b616-b4b68b8a0ef9",
                "language": "sql"
            },
            "outputs": [
                {
                    "output_type": "display_data",
                    "data": {
                        "text/html": "(11 rows affected)"
                    },
                    "metadata": {}
                },
                {
                    "output_type": "display_data",
                    "data": {
                        "text/html": "Total execution time: 00:00:00.008"
                    },
                    "metadata": {}
                },
                {
                    "output_type": "execute_result",
                    "metadata": {},
                    "execution_count": 43,
                    "data": {
                        "application/vnd.dataresource+json": {
                            "schema": {
                                "fields": [
                                    {
                                        "name": "State"
                                    },
                                    {
                                        "name": "Country"
                                    }
                                ]
                            },
                            "data": [
                                {
                                    "0": "AZ",
                                    "1": "USA"
                                },
                                {
                                    "0": "CA",
                                    "1": "USA"
                                },
                                {
                                    "0": "FL",
                                    "1": "USA"
                                },
                                {
                                    "0": "IL",
                                    "1": "USA"
                                },
                                {
                                    "0": "MA",
                                    "1": "USA"
                                },
                                {
                                    "0": "NV",
                                    "1": "USA"
                                },
                                {
                                    "0": "NY",
                                    "1": "USA"
                                },
                                {
                                    "0": "TX",
                                    "1": "USA"
                                },
                                {
                                    "0": "UT",
                                    "1": "USA"
                                },
                                {
                                    "0": "WA",
                                    "1": "USA"
                                },
                                {
                                    "0": "WI",
                                    "1": "USA"
                                }
                            ]
                        },
                        "text/html": [
                            "<table>",
                            "<tr><th>State</th><th>Country</th></tr>",
                            "<tr><td>AZ</td><td>USA</td></tr>",
                            "<tr><td>CA</td><td>USA</td></tr>",
                            "<tr><td>FL</td><td>USA</td></tr>",
                            "<tr><td>IL</td><td>USA</td></tr>",
                            "<tr><td>MA</td><td>USA</td></tr>",
                            "<tr><td>NV</td><td>USA</td></tr>",
                            "<tr><td>NY</td><td>USA</td></tr>",
                            "<tr><td>TX</td><td>USA</td></tr>",
                            "<tr><td>UT</td><td>USA</td></tr>",
                            "<tr><td>WA</td><td>USA</td></tr>",
                            "<tr><td>WI</td><td>USA</td></tr>",
                            "</table>"
                        ]
                    }
                }
            ],
            "execution_count": 43
        },
        {
            "cell_type": "code",
            "source": [
                "--7\n",
                "USE Chinook\n",
                "SELECT\n",
                "    CustomerId\n",
                "    ,BillingCity\n",
                "    ,BillingPostalCode\n",
                "    ,Total\n",
                "FROM Invoice\n",
                "Where BillingCountry = 'Germany' \n",
                "    AND Total > 5\n",
                "ORDER BY CustomerId, Total DESC"
            ],
            "metadata": {
                "azdata_cell_guid": "9d7d1da9-773c-439d-87a4-c20aaa2f14d5",
                "language": "sql"
            },
            "outputs": [
                {
                    "output_type": "display_data",
                    "data": {
                        "text/html": "(12 rows affected)"
                    },
                    "metadata": {}
                },
                {
                    "output_type": "display_data",
                    "data": {
                        "text/html": "Total execution time: 00:00:00.010"
                    },
                    "metadata": {}
                },
                {
                    "output_type": "execute_result",
                    "metadata": {},
                    "execution_count": 44,
                    "data": {
                        "application/vnd.dataresource+json": {
                            "schema": {
                                "fields": [
                                    {
                                        "name": "CustomerId"
                                    },
                                    {
                                        "name": "BillingCity"
                                    },
                                    {
                                        "name": "BillingPostalCode"
                                    },
                                    {
                                        "name": "Total"
                                    }
                                ]
                            },
                            "data": [
                                {
                                    "0": "2",
                                    "1": "Stuttgart",
                                    "2": "70174",
                                    "3": "13.86"
                                },
                                {
                                    "0": "2",
                                    "1": "Stuttgart",
                                    "2": "70174",
                                    "3": "8.91"
                                },
                                {
                                    "0": "2",
                                    "1": "Stuttgart",
                                    "2": "70174",
                                    "3": "5.94"
                                },
                                {
                                    "0": "36",
                                    "1": "Berlin",
                                    "2": "10789",
                                    "3": "13.86"
                                },
                                {
                                    "0": "36",
                                    "1": "Berlin",
                                    "2": "10789",
                                    "3": "8.91"
                                },
                                {
                                    "0": "36",
                                    "1": "Berlin",
                                    "2": "10789",
                                    "3": "5.94"
                                },
                                {
                                    "0": "37",
                                    "1": "Frankfurt",
                                    "2": "60316",
                                    "3": "14.91"
                                },
                                {
                                    "0": "37",
                                    "1": "Frankfurt",
                                    "2": "60316",
                                    "3": "13.86"
                                },
                                {
                                    "0": "37",
                                    "1": "Frankfurt",
                                    "2": "60316",
                                    "3": "5.94"
                                },
                                {
                                    "0": "38",
                                    "1": "Berlin",
                                    "2": "10779",
                                    "3": "13.86"
                                },
                                {
                                    "0": "38",
                                    "1": "Berlin",
                                    "2": "10779",
                                    "3": "8.91"
                                },
                                {
                                    "0": "38",
                                    "1": "Berlin",
                                    "2": "10779",
                                    "3": "5.94"
                                }
                            ]
                        },
                        "text/html": [
                            "<table>",
                            "<tr><th>CustomerId</th><th>BillingCity</th><th>BillingPostalCode</th><th>Total</th></tr>",
                            "<tr><td>2</td><td>Stuttgart</td><td>70174</td><td>13.86</td></tr>",
                            "<tr><td>2</td><td>Stuttgart</td><td>70174</td><td>8.91</td></tr>",
                            "<tr><td>2</td><td>Stuttgart</td><td>70174</td><td>5.94</td></tr>",
                            "<tr><td>36</td><td>Berlin</td><td>10789</td><td>13.86</td></tr>",
                            "<tr><td>36</td><td>Berlin</td><td>10789</td><td>8.91</td></tr>",
                            "<tr><td>36</td><td>Berlin</td><td>10789</td><td>5.94</td></tr>",
                            "<tr><td>37</td><td>Frankfurt</td><td>60316</td><td>14.91</td></tr>",
                            "<tr><td>37</td><td>Frankfurt</td><td>60316</td><td>13.86</td></tr>",
                            "<tr><td>37</td><td>Frankfurt</td><td>60316</td><td>5.94</td></tr>",
                            "<tr><td>38</td><td>Berlin</td><td>10779</td><td>13.86</td></tr>",
                            "<tr><td>38</td><td>Berlin</td><td>10779</td><td>8.91</td></tr>",
                            "<tr><td>38</td><td>Berlin</td><td>10779</td><td>5.94</td></tr>",
                            "</table>"
                        ]
                    }
                }
            ],
            "execution_count": 44
        },
        {
            "cell_type": "code",
            "source": [
                "--8\n",
                "USE Chinook\n",
                "SELECT DISTINCT TOP (20)\n",
                "    Country AS [Country Name]\n",
                "    ,State AS [State or Region]\n",
                "FROM Customer\n",
                "ORDER BY Country, State\n",
                ""
            ],
            "metadata": {
                "azdata_cell_guid": "e2180055-345b-45ff-8631-df5ae11644c5",
                "language": "sql"
            },
            "outputs": [
                {
                    "output_type": "display_data",
                    "data": {
                        "text/html": "(20 rows affected)"
                    },
                    "metadata": {}
                },
                {
                    "output_type": "display_data",
                    "data": {
                        "text/html": "Total execution time: 00:00:00.008"
                    },
                    "metadata": {}
                },
                {
                    "output_type": "execute_result",
                    "metadata": {},
                    "execution_count": 45,
                    "data": {
                        "application/vnd.dataresource+json": {
                            "schema": {
                                "fields": [
                                    {
                                        "name": "Country Name"
                                    },
                                    {
                                        "name": "State or Region"
                                    }
                                ]
                            },
                            "data": [
                                {
                                    "0": "Argentina",
                                    "1": "NULL"
                                },
                                {
                                    "0": "Australia",
                                    "1": "NSW"
                                },
                                {
                                    "0": "Austria",
                                    "1": "NULL"
                                },
                                {
                                    "0": "Belgium",
                                    "1": "NULL"
                                },
                                {
                                    "0": "Brazil",
                                    "1": "DF"
                                },
                                {
                                    "0": "Brazil",
                                    "1": "RJ"
                                },
                                {
                                    "0": "Brazil",
                                    "1": "SP"
                                },
                                {
                                    "0": "Canada",
                                    "1": "AB"
                                },
                                {
                                    "0": "Canada",
                                    "1": "BC"
                                },
                                {
                                    "0": "Canada",
                                    "1": "MB"
                                },
                                {
                                    "0": "Canada",
                                    "1": "NS"
                                },
                                {
                                    "0": "Canada",
                                    "1": "NT"
                                },
                                {
                                    "0": "Canada",
                                    "1": "ON"
                                },
                                {
                                    "0": "Canada",
                                    "1": "QC"
                                },
                                {
                                    "0": "Chile",
                                    "1": "NULL"
                                },
                                {
                                    "0": "Czech Republic",
                                    "1": "NULL"
                                },
                                {
                                    "0": "Denmark",
                                    "1": "NULL"
                                },
                                {
                                    "0": "Finland",
                                    "1": "NULL"
                                },
                                {
                                    "0": "France",
                                    "1": "NULL"
                                },
                                {
                                    "0": "Germany",
                                    "1": "NULL"
                                }
                            ]
                        },
                        "text/html": [
                            "<table>",
                            "<tr><th>Country Name</th><th>State or Region</th></tr>",
                            "<tr><td>Argentina</td><td>NULL</td></tr>",
                            "<tr><td>Australia</td><td>NSW</td></tr>",
                            "<tr><td>Austria</td><td>NULL</td></tr>",
                            "<tr><td>Belgium</td><td>NULL</td></tr>",
                            "<tr><td>Brazil</td><td>DF</td></tr>",
                            "<tr><td>Brazil</td><td>RJ</td></tr>",
                            "<tr><td>Brazil</td><td>SP</td></tr>",
                            "<tr><td>Canada</td><td>AB</td></tr>",
                            "<tr><td>Canada</td><td>BC</td></tr>",
                            "<tr><td>Canada</td><td>MB</td></tr>",
                            "<tr><td>Canada</td><td>NS</td></tr>",
                            "<tr><td>Canada</td><td>NT</td></tr>",
                            "<tr><td>Canada</td><td>ON</td></tr>",
                            "<tr><td>Canada</td><td>QC</td></tr>",
                            "<tr><td>Chile</td><td>NULL</td></tr>",
                            "<tr><td>Czech Republic</td><td>NULL</td></tr>",
                            "<tr><td>Denmark</td><td>NULL</td></tr>",
                            "<tr><td>Finland</td><td>NULL</td></tr>",
                            "<tr><td>France</td><td>NULL</td></tr>",
                            "<tr><td>Germany</td><td>NULL</td></tr>",
                            "</table>"
                        ]
                    }
                }
            ],
            "execution_count": 45
        },
        {
            "cell_type": "code",
            "source": [
                "--9\n",
                "Use Chinook\n",
                "SELECT\n",
                "    AlbumId\n",
                "    ,MediaTypeId\n",
                "    ,Name\n",
                "FROM Track\n",
                "WHERE AlbumId <= 5 \n",
                "    OR MediaTypeId = 2\n",
                "ORDER BY AlbumId"
            ],
            "metadata": {
                "azdata_cell_guid": "8583151c-3a72-40c6-a09c-b877ee840123",
                "language": "sql"
            },
            "outputs": [
                {
                    "output_type": "display_data",
                    "data": {
                        "text/html": "(270 rows affected)"
                    },
                    "metadata": {}
                },
                {
                    "output_type": "display_data",
                    "data": {
                        "text/html": "Total execution time: 00:00:00.014"
                    },
                    "metadata": {}
                },
                {
                    "output_type": "execute_result",
                    "metadata": {},
                    "execution_count": 46,
                    "data": {
                        "application/vnd.dataresource+json": {
                            "schema": {
                                "fields": [
                                    {
                                        "name": "AlbumId"
                                    },
                                    {
                                        "name": "MediaTypeId"
                                    },
                                    {
                                        "name": "Name"
                                    }
                                ]
                            },
                            "data": [
                                {
                                    "0": "1",
                                    "1": "1",
                                    "2": "Put The Finger On You"
                                },
                                {
                                    "0": "1",
                                    "1": "1",
                                    "2": "Let's Get It Up"
                                },
                                {
                                    "0": "1",
                                    "1": "1",
                                    "2": "Inject The Venom"
                                },
                                {
                                    "0": "1",
                                    "1": "1",
                                    "2": "Snowballed"
                                },
                                {
                                    "0": "1",
                                    "1": "1",
                                    "2": "Evil Walks"
                                },
                                {
                                    "0": "1",
                                    "1": "1",
                                    "2": "C.O.D."
                                },
                                {
                                    "0": "1",
                                    "1": "1",
                                    "2": "Breaking The Rules"
                                },
                                {
                                    "0": "1",
                                    "1": "1",
                                    "2": "Night Of The Long Knives"
                                },
                                {
                                    "0": "1",
                                    "1": "1",
                                    "2": "Spellbound"
                                },
                                {
                                    "0": "1",
                                    "1": "1",
                                    "2": "For Those About To Rock (We Salute You)"
                                },
                                {
                                    "0": "2",
                                    "1": "2",
                                    "2": "Balls to the Wall"
                                },
                                {
                                    "0": "3",
                                    "1": "2",
                                    "2": "Fast As a Shark"
                                },
                                {
                                    "0": "3",
                                    "1": "2",
                                    "2": "Restless and Wild"
                                },
                                {
                                    "0": "3",
                                    "1": "2",
                                    "2": "Princess of the Dawn"
                                },
                                {
                                    "0": "4",
                                    "1": "1",
                                    "2": "Go Down"
                                },
                                {
                                    "0": "4",
                                    "1": "1",
                                    "2": "Dog Eat Dog"
                                },
                                {
                                    "0": "4",
                                    "1": "1",
                                    "2": "Let There Be Rock"
                                },
                                {
                                    "0": "4",
                                    "1": "1",
                                    "2": "Bad Boy Boogie"
                                },
                                {
                                    "0": "4",
                                    "1": "1",
                                    "2": "Problem Child"
                                },
                                {
                                    "0": "4",
                                    "1": "1",
                                    "2": "Overdose"
                                },
                                {
                                    "0": "4",
                                    "1": "1",
                                    "2": "Hell Ain't A Bad Place To Be"
                                },
                                {
                                    "0": "4",
                                    "1": "1",
                                    "2": "Whole Lotta Rosie"
                                },
                                {
                                    "0": "5",
                                    "1": "1",
                                    "2": "Walk On Water"
                                },
                                {
                                    "0": "5",
                                    "1": "1",
                                    "2": "Love In An Elevator"
                                },
                                {
                                    "0": "5",
                                    "1": "1",
                                    "2": "Rag Doll"
                                },
                                {
                                    "0": "5",
                                    "1": "1",
                                    "2": "What It Takes"
                                },
                                {
                                    "0": "5",
                                    "1": "1",
                                    "2": "Dude (Looks Like A Lady)"
                                },
                                {
                                    "0": "5",
                                    "1": "1",
                                    "2": "Janie's Got A Gun"
                                },
                                {
                                    "0": "5",
                                    "1": "1",
                                    "2": "Cryin'"
                                },
                                {
                                    "0": "5",
                                    "1": "1",
                                    "2": "Amazing"
                                },
                                {
                                    "0": "5",
                                    "1": "1",
                                    "2": "Blind Man"
                                },
                                {
                                    "0": "5",
                                    "1": "1",
                                    "2": "Deuces Are Wild"
                                },
                                {
                                    "0": "5",
                                    "1": "1",
                                    "2": "The Other Side"
                                },
                                {
                                    "0": "5",
                                    "1": "1",
                                    "2": "Crazy"
                                },
                                {
                                    "0": "5",
                                    "1": "1",
                                    "2": "Eat The Rich"
                                },
                                {
                                    "0": "5",
                                    "1": "1",
                                    "2": "Angel"
                                },
                                {
                                    "0": "5",
                                    "1": "1",
                                    "2": "Livin' On The Edge"
                                },
                                {
                                    "0": "90",
                                    "1": "2",
                                    "2": "Welcome to the Jungle"
                                },
                                {
                                    "0": "90",
                                    "1": "2",
                                    "2": "It's So Easy"
                                },
                                {
                                    "0": "90",
                                    "1": "2",
                                    "2": "Nightrain"
                                },
                                {
                                    "0": "90",
                                    "1": "2",
                                    "2": "Out Ta Get Me"
                                },
                                {
                                    "0": "90",
                                    "1": "2",
                                    "2": "Mr. Brownstone"
                                },
                                {
                                    "0": "90",
                                    "1": "2",
                                    "2": "Paradise City"
                                },
                                {
                                    "0": "90",
                                    "1": "2",
                                    "2": "My Michelle"
                                },
                                {
                                    "0": "90",
                                    "1": "2",
                                    "2": "Think About You"
                                },
                                {
                                    "0": "90",
                                    "1": "2",
                                    "2": "Sweet Child O' Mine"
                                },
                                {
                                    "0": "90",
                                    "1": "2",
                                    "2": "You're Crazy"
                                },
                                {
                                    "0": "90",
                                    "1": "2",
                                    "2": "Anything Goes"
                                },
                                {
                                    "0": "90",
                                    "1": "2",
                                    "2": "Rocket Queen"
                                },
                                {
                                    "0": "91",
                                    "1": "2",
                                    "2": "Right Next Door to Hell"
                                },
                                {
                                    "0": "91",
                                    "1": "2",
                                    "2": "Dust N' Bones"
                                },
                                {
                                    "0": "91",
                                    "1": "2",
                                    "2": "Live and Let Die"
                                },
                                {
                                    "0": "91",
                                    "1": "2",
                                    "2": "Don't Cry (Original)"
                                },
                                {
                                    "0": "91",
                                    "1": "2",
                                    "2": "Perfect Crime"
                                },
                                {
                                    "0": "91",
                                    "1": "2",
                                    "2": "You Ain't the First"
                                },
                                {
                                    "0": "91",
                                    "1": "2",
                                    "2": "Bad Obsession"
                                },
                                {
                                    "0": "91",
                                    "1": "2",
                                    "2": "Back off Bitch"
                                },
                                {
                                    "0": "91",
                                    "1": "2",
                                    "2": "Double Talkin' Jive"
                                },
                                {
                                    "0": "91",
                                    "1": "2",
                                    "2": "November Rain"
                                },
                                {
                                    "0": "91",
                                    "1": "2",
                                    "2": "The Garden"
                                },
                                {
                                    "0": "91",
                                    "1": "2",
                                    "2": "Garden of Eden"
                                },
                                {
                                    "0": "91",
                                    "1": "2",
                                    "2": "Don't Damn Me"
                                },
                                {
                                    "0": "91",
                                    "1": "2",
                                    "2": "Bad Apples"
                                },
                                {
                                    "0": "91",
                                    "1": "2",
                                    "2": "Dead Horse"
                                },
                                {
                                    "0": "91",
                                    "1": "2",
                                    "2": "Coma"
                                },
                                {
                                    "0": "94",
                                    "1": "2",
                                    "2": "Different World"
                                },
                                {
                                    "0": "94",
                                    "1": "2",
                                    "2": "These Colours Don't Run"
                                },
                                {
                                    "0": "94",
                                    "1": "2",
                                    "2": "Brighter Than a Thousand Suns"
                                },
                                {
                                    "0": "94",
                                    "1": "2",
                                    "2": "The Pilgrim"
                                },
                                {
                                    "0": "94",
                                    "1": "2",
                                    "2": "The Longest Day"
                                },
                                {
                                    "0": "94",
                                    "1": "2",
                                    "2": "Out of the Shadows"
                                },
                                {
                                    "0": "94",
                                    "1": "2",
                                    "2": "The Reincarnation of Benjamin Breeg"
                                },
                                {
                                    "0": "94",
                                    "1": "2",
                                    "2": "For the Greater Good of God"
                                },
                                {
                                    "0": "94",
                                    "1": "2",
                                    "2": "Lord of Light"
                                },
                                {
                                    "0": "94",
                                    "1": "2",
                                    "2": "The Legacy"
                                },
                                {
                                    "0": "94",
                                    "1": "2",
                                    "2": "Hallowed Be Thy Name (Live) [Non Album Bonus Track]"
                                },
                                {
                                    "0": "121",
                                    "1": "2",
                                    "2": "Surfing with the Alien"
                                },
                                {
                                    "0": "121",
                                    "1": "2",
                                    "2": "Ice 9"
                                },
                                {
                                    "0": "121",
                                    "1": "2",
                                    "2": "Crushing Day"
                                },
                                {
                                    "0": "121",
                                    "1": "2",
                                    "2": "Always With Me, Always With You"
                                },
                                {
                                    "0": "121",
                                    "1": "2",
                                    "2": "Satch Boogie"
                                },
                                {
                                    "0": "121",
                                    "1": "2",
                                    "2": "Hill of the Skull"
                                },
                                {
                                    "0": "121",
                                    "1": "2",
                                    "2": "Circles"
                                },
                                {
                                    "0": "121",
                                    "1": "2",
                                    "2": "Lords of Karma"
                                },
                                {
                                    "0": "121",
                                    "1": "2",
                                    "2": "Midnight"
                                },
                                {
                                    "0": "121",
                                    "1": "2",
                                    "2": "Echo"
                                },
                                {
                                    "0": "170",
                                    "1": "2",
                                    "2": "Bark at the Moon"
                                },
                                {
                                    "0": "171",
                                    "1": "2",
                                    "2": "I Don't Know"
                                },
                                {
                                    "0": "171",
                                    "1": "2",
                                    "2": "Crazy Train"
                                },
                                {
                                    "0": "172",
                                    "1": "2",
                                    "2": "Flying High Again"
                                },
                                {
                                    "0": "173",
                                    "1": "2",
                                    "2": "Mama, I'm Coming Home"
                                },
                                {
                                    "0": "173",
                                    "1": "2",
                                    "2": "No More Tears"
                                },
                                {
                                    "0": "252",
                                    "1": "2",
                                    "2": "Your Time Is Gonna Come"
                                },
                                {
                                    "0": "255",
                                    "1": "2",
                                    "2": "Instant Karma"
                                },
                                {
                                    "0": "255",
                                    "1": "2",
                                    "2": "#9 Dream"
                                },
                                {
                                    "0": "255",
                                    "1": "2",
                                    "2": "Mother"
                                },
                                {
                                    "0": "255",
                                    "1": "2",
                                    "2": "Give Peace a Chance"
                                },
                                {
                                    "0": "255",
                                    "1": "2",
                                    "2": "Cold Turkey"
                                },
                                {
                                    "0": "255",
                                    "1": "2",
                                    "2": "Whatever Gets You Thru the Night"
                                },
                                {
                                    "0": "255",
                                    "1": "2",
                                    "2": "I'm Losing You"
                                },
                                {
                                    "0": "255",
                                    "1": "2",
                                    "2": "Gimme Some Truth"
                                },
                                {
                                    "0": "255",
                                    "1": "2",
                                    "2": "Oh, My Love"
                                },
                                {
                                    "0": "255",
                                    "1": "2",
                                    "2": "Imagine"
                                },
                                {
                                    "0": "255",
                                    "1": "2",
                                    "2": "Nobody Told Me"
                                },
                                {
                                    "0": "255",
                                    "1": "2",
                                    "2": "Jealous Guy"
                                },
                                {
                                    "0": "255",
                                    "1": "2",
                                    "2": "Working Class Hero"
                                },
                                {
                                    "0": "255",
                                    "1": "2",
                                    "2": "Power to the People"
                                },
                                {
                                    "0": "255",
                                    "1": "2",
                                    "2": "Imagine"
                                },
                                {
                                    "0": "255",
                                    "1": "2",
                                    "2": "Beautiful Boy"
                                },
                                {
                                    "0": "255",
                                    "1": "2",
                                    "2": "Isolation"
                                },
                                {
                                    "0": "255",
                                    "1": "2",
                                    "2": "Watching the Wheels"
                                },
                                {
                                    "0": "255",
                                    "1": "2",
                                    "2": "Grow Old With Me"
                                },
                                {
                                    "0": "255",
                                    "1": "2",
                                    "2": "Gimme Some Truth"
                                },
                                {
                                    "0": "255",
                                    "1": "2",
                                    "2": "[Just Like] Starting Over"
                                },
                                {
                                    "0": "255",
                                    "1": "2",
                                    "2": "God"
                                },
                                {
                                    "0": "255",
                                    "1": "2",
                                    "2": "Real Love"
                                },
                                {
                                    "0": "256",
                                    "1": "2",
                                    "2": "Sympton of the Universe"
                                },
                                {
                                    "0": "256",
                                    "1": "2",
                                    "2": "Snowblind"
                                },
                                {
                                    "0": "256",
                                    "1": "2",
                                    "2": "Black Sabbath"
                                },
                                {
                                    "0": "256",
                                    "1": "2",
                                    "2": "Fairies Wear Boots"
                                },
                                {
                                    "0": "256",
                                    "1": "2",
                                    "2": "War Pigs"
                                },
                                {
                                    "0": "256",
                                    "1": "2",
                                    "2": "The Wizard"
                                },
                                {
                                    "0": "256",
                                    "1": "2",
                                    "2": "N.I.B."
                                },
                                {
                                    "0": "256",
                                    "1": "2",
                                    "2": "Sweet Leaf"
                                },
                                {
                                    "0": "256",
                                    "1": "2",
                                    "2": "Never Say Die"
                                },
                                {
                                    "0": "256",
                                    "1": "2",
                                    "2": "Sabbath, Bloody Sabbath"
                                },
                                {
                                    "0": "256",
                                    "1": "2",
                                    "2": "Iron Man/Children of the Grave"
                                },
                                {
                                    "0": "256",
                                    "1": "2",
                                    "2": "Paranoid"
                                },
                                {
                                    "0": "257",
                                    "1": "2",
                                    "2": "Rock You Like a Hurricane"
                                },
                                {
                                    "0": "257",
                                    "1": "2",
                                    "2": "No One Like You"
                                },
                                {
                                    "0": "257",
                                    "1": "2",
                                    "2": "The Zoo"
                                },
                                {
                                    "0": "257",
                                    "1": "2",
                                    "2": "Loving You Sunday Morning"
                                },
                                {
                                    "0": "257",
                                    "1": "2",
                                    "2": "Still Loving You"
                                },
                                {
                                    "0": "257",
                                    "1": "2",
                                    "2": "Big City Nights"
                                },
                                {
                                    "0": "257",
                                    "1": "2",
                                    "2": "Believe in Love"
                                },
                                {
                                    "0": "257",
                                    "1": "2",
                                    "2": "Rhythm of Love"
                                },
                                {
                                    "0": "257",
                                    "1": "2",
                                    "2": "I Can't Explain"
                                },
                                {
                                    "0": "257",
                                    "1": "2",
                                    "2": "Tease Me Please Me"
                                },
                                {
                                    "0": "257",
                                    "1": "2",
                                    "2": "Wind of Change"
                                },
                                {
                                    "0": "257",
                                    "1": "2",
                                    "2": "Send Me an Angel"
                                },
                                {
                                    "0": "269",
                                    "1": "2",
                                    "2": "Say Hello 2 Heaven"
                                },
                                {
                                    "0": "269",
                                    "1": "2",
                                    "2": "Reach Down"
                                },
                                {
                                    "0": "269",
                                    "1": "2",
                                    "2": "Hunger Strike"
                                },
                                {
                                    "0": "269",
                                    "1": "2",
                                    "2": "Pushin Forward Back"
                                },
                                {
                                    "0": "269",
                                    "1": "2",
                                    "2": "Call Me a Dog"
                                },
                                {
                                    "0": "269",
                                    "1": "2",
                                    "2": "Times of Trouble"
                                },
                                {
                                    "0": "269",
                                    "1": "2",
                                    "2": "Wooden Jesus"
                                },
                                {
                                    "0": "269",
                                    "1": "2",
                                    "2": "Your Savior"
                                },
                                {
                                    "0": "269",
                                    "1": "2",
                                    "2": "Four Walled World"
                                },
                                {
                                    "0": "269",
                                    "1": "2",
                                    "2": "All Night Thing"
                                },
                                {
                                    "0": "270",
                                    "1": "2",
                                    "2": "No Such Thing"
                                },
                                {
                                    "0": "270",
                                    "1": "2",
                                    "2": "Poison Eye"
                                },
                                {
                                    "0": "270",
                                    "1": "2",
                                    "2": "Arms Around Your Love"
                                },
                                {
                                    "0": "270",
                                    "1": "2",
                                    "2": "Safe and Sound"
                                },
                                {
                                    "0": "270",
                                    "1": "2",
                                    "2": "She'll Never Be Your Man"
                                },
                                {
                                    "0": "270",
                                    "1": "2",
                                    "2": "Ghosts"
                                },
                                {
                                    "0": "270",
                                    "1": "2",
                                    "2": "Killing Birds"
                                },
                                {
                                    "0": "270",
                                    "1": "2",
                                    "2": "Billie Jean"
                                },
                                {
                                    "0": "270",
                                    "1": "2",
                                    "2": "Scar On the Sky"
                                },
                                {
                                    "0": "270",
                                    "1": "2",
                                    "2": "Your Soul Today"
                                },
                                {
                                    "0": "270",
                                    "1": "2",
                                    "2": "Finally Forever"
                                },
                                {
                                    "0": "270",
                                    "1": "2",
                                    "2": "Silence the Voices"
                                },
                                {
                                    "0": "270",
                                    "1": "2",
                                    "2": "Disappearing Act"
                                },
                                {
                                    "0": "270",
                                    "1": "2",
                                    "2": "You Know My Name"
                                },
                                {
                                    "0": "271",
                                    "1": "2",
                                    "2": "Revelations"
                                },
                                {
                                    "0": "271",
                                    "1": "2",
                                    "2": "One and the Same"
                                },
                                {
                                    "0": "271",
                                    "1": "2",
                                    "2": "Sound of a Gun"
                                },
                                {
                                    "0": "271",
                                    "1": "2",
                                    "2": "Until We Fall"
                                },
                                {
                                    "0": "271",
                                    "1": "2",
                                    "2": "Original Fire"
                                },
                                {
                                    "0": "271",
                                    "1": "2",
                                    "2": "Broken City"
                                },
                                {
                                    "0": "271",
                                    "1": "2",
                                    "2": "Somedays"
                                },
                                {
                                    "0": "271",
                                    "1": "2",
                                    "2": "Shape of Things to Come"
                                },
                                {
                                    "0": "271",
                                    "1": "2",
                                    "2": "Jewel of the Summertime"
                                },
                                {
                                    "0": "271",
                                    "1": "2",
                                    "2": "Wide Awake"
                                },
                                {
                                    "0": "271",
                                    "1": "2",
                                    "2": "Nothing Left to Say But Goodbye"
                                },
                                {
                                    "0": "271",
                                    "1": "2",
                                    "2": "Moth"
                                },
                                {
                                    "0": "271",
                                    "1": "2",
                                    "2": "Show Me How to Live (Live at the Quart Festival)"
                                },
                                {
                                    "0": "272",
                                    "1": "2",
                                    "2": "Intoitus: Adorate Deum"
                                },
                                {
                                    "0": "273",
                                    "1": "2",
                                    "2": "Miserere mei, Deus"
                                },
                                {
                                    "0": "274",
                                    "1": "2",
                                    "2": "Canon and Gigue in D Major: I. Canon"
                                },
                                {
                                    "0": "275",
                                    "1": "2",
                                    "2": "Concerto No. 1 in E Major, RV 269 \"Spring\": I. Allegro"
                                },
                                {
                                    "0": "276",
                                    "1": "2",
                                    "2": "Concerto for 2 Violins in D Minor, BWV 1043: I. Vivace"
                                },
                                {
                                    "0": "277",
                                    "1": "2",
                                    "2": "Aria Mit 30 Veränderungen, BWV 988 \"Goldberg Variations\": Aria"
                                },
                                {
                                    "0": "278",
                                    "1": "2",
                                    "2": "Suite for Solo Cello No. 1 in G Major, BWV 1007: I. Prélude"
                                },
                                {
                                    "0": "279",
                                    "1": "2",
                                    "2": "The Messiah: Behold, I Tell You a Mystery... The Trumpet Shall Sound"
                                },
                                {
                                    "0": "280",
                                    "1": "2",
                                    "2": "Solomon HWV 67: The Arrival of the Queen of Sheba"
                                },
                                {
                                    "0": "280",
                                    "1": "2",
                                    "2": "Fantasia On Greensleeves"
                                },
                                {
                                    "0": "281",
                                    "1": "2",
                                    "2": "\"Eine Kleine Nachtmusik\" Serenade In G, K. 525: I. Allegro"
                                },
                                {
                                    "0": "282",
                                    "1": "2",
                                    "2": "Concerto for Clarinet in A Major, K. 622: II. Adagio"
                                },
                                {
                                    "0": "284",
                                    "1": "2",
                                    "2": "Symphony No.5 in C Minor: I. Allegro con brio"
                                },
                                {
                                    "0": "285",
                                    "1": "2",
                                    "2": "Ave Maria"
                                },
                                {
                                    "0": "286",
                                    "1": "2",
                                    "2": "Nabucco: Chorus, \"Va, Pensiero, Sull'ali Dorate\""
                                },
                                {
                                    "0": "287",
                                    "1": "2",
                                    "2": "Die Walküre: The Ride of the Valkyries"
                                },
                                {
                                    "0": "288",
                                    "1": "2",
                                    "2": "Requiem, Op.48: 4. Pie Jesu"
                                },
                                {
                                    "0": "289",
                                    "1": "2",
                                    "2": "The Nutcracker, Op. 71a, Act II: Scene 14: Pas de deux: Dance of the Prince & the Sugar-Plum Fairy"
                                },
                                {
                                    "0": "290",
                                    "1": "2",
                                    "2": "Nimrod (Adagio) from Variations On an Original Theme, Op. 36 \"Enigma\""
                                },
                                {
                                    "0": "291",
                                    "1": "2",
                                    "2": "Madama Butterfly: Un Bel Dì Vedremo"
                                },
                                {
                                    "0": "292",
                                    "1": "2",
                                    "2": "Jupiter, the Bringer of Jollity"
                                },
                                {
                                    "0": "293",
                                    "1": "2",
                                    "2": "Turandot, Act III, Nessun dorma!"
                                },
                                {
                                    "0": "294",
                                    "1": "2",
                                    "2": "Adagio for Strings from the String Quartet, Op. 11"
                                },
                                {
                                    "0": "295",
                                    "1": "2",
                                    "2": "Carmina Burana: O Fortuna"
                                },
                                {
                                    "0": "296",
                                    "1": "2",
                                    "2": "Fanfare for the Common Man"
                                },
                                {
                                    "0": "297",
                                    "1": "2",
                                    "2": "Toccata and Fugue in D Minor, BWV 565: I. Toccata"
                                },
                                {
                                    "0": "298",
                                    "1": "2",
                                    "2": "Symphony No.1 in D Major, Op.25 \"Classical\", Allegro Con Brio"
                                },
                                {
                                    "0": "299",
                                    "1": "2",
                                    "2": "Scheherazade, Op. 35: I. The Sea and Sindbad's Ship"
                                },
                                {
                                    "0": "300",
                                    "1": "2",
                                    "2": "Concerto No.2 in F Major, BWV1047, I. Allegro"
                                },
                                {
                                    "0": "301",
                                    "1": "2",
                                    "2": "Concerto for Piano No. 2 in F Minor, Op. 21: II. Larghetto"
                                },
                                {
                                    "0": "302",
                                    "1": "2",
                                    "2": "Cavalleria Rusticana \\ Act \\ Intermezzo Sinfonico"
                                },
                                {
                                    "0": "303",
                                    "1": "2",
                                    "2": "Karelia Suite, Op.11: 2. Ballade (Tempo Di Menuetto)"
                                },
                                {
                                    "0": "304",
                                    "1": "2",
                                    "2": "Piano Sonata No. 14 in C Sharp Minor, Op. 27, No. 2, \"Moonlight\": I. Adagio sostenuto"
                                },
                                {
                                    "0": "305",
                                    "1": "2",
                                    "2": "Das Lied Von Der Erde, Von Der Jugend"
                                },
                                {
                                    "0": "306",
                                    "1": "2",
                                    "2": "Concerto for Cello and Orchestra in E minor, Op. 85: I. Adagio - Moderato"
                                },
                                {
                                    "0": "307",
                                    "1": "2",
                                    "2": "Two Fanfares for Orchestra: II. Short Ride in a Fast Machine"
                                },
                                {
                                    "0": "308",
                                    "1": "2",
                                    "2": "Wellington's Victory or the Battle Symphony, Op.91: 2. Symphony of Triumph"
                                },
                                {
                                    "0": "309",
                                    "1": "2",
                                    "2": "Missa Papae Marcelli: Kyrie"
                                },
                                {
                                    "0": "310",
                                    "1": "2",
                                    "2": "Romeo et Juliette: No. 11 - Danse des Chevaliers"
                                },
                                {
                                    "0": "311",
                                    "1": "2",
                                    "2": "On the Beautiful Blue Danube"
                                },
                                {
                                    "0": "312",
                                    "1": "2",
                                    "2": "Symphonie Fantastique, Op. 14: V. Songe d'une nuit du sabbat"
                                },
                                {
                                    "0": "313",
                                    "1": "2",
                                    "2": "Carmen: Overture"
                                },
                                {
                                    "0": "314",
                                    "1": "2",
                                    "2": "Lamentations of Jeremiah, First Set \\ Incipit Lamentatio"
                                },
                                {
                                    "0": "314",
                                    "1": "2",
                                    "2": "Sing Joyfully"
                                },
                                {
                                    "0": "315",
                                    "1": "2",
                                    "2": "Music for the Royal Fireworks, HWV351 (1749): La Réjouissance"
                                },
                                {
                                    "0": "316",
                                    "1": "2",
                                    "2": "Peer Gynt Suite No.1, Op.46: 1. Morning Mood"
                                },
                                {
                                    "0": "317",
                                    "1": "2",
                                    "2": "Die Zauberflöte, K.620: \"Der Hölle Rache Kocht in Meinem Herze\""
                                },
                                {
                                    "0": "319",
                                    "1": "2",
                                    "2": "Pavan, Lachrimae Antiquae"
                                },
                                {
                                    "0": "320",
                                    "1": "2",
                                    "2": "Symphony No. 41 in C Major, K. 551, \"Jupiter\": IV. Molto allegro"
                                },
                                {
                                    "0": "321",
                                    "1": "2",
                                    "2": "Rehab"
                                },
                                {
                                    "0": "321",
                                    "1": "2",
                                    "2": "You Know I'm No Good"
                                },
                                {
                                    "0": "321",
                                    "1": "2",
                                    "2": "Me & Mr. Jones"
                                },
                                {
                                    "0": "321",
                                    "1": "2",
                                    "2": "Just Friends"
                                },
                                {
                                    "0": "321",
                                    "1": "2",
                                    "2": "Back to Black"
                                },
                                {
                                    "0": "321",
                                    "1": "2",
                                    "2": "Love Is a Losing Game"
                                },
                                {
                                    "0": "321",
                                    "1": "2",
                                    "2": "Tears Dry On Their Own"
                                },
                                {
                                    "0": "321",
                                    "1": "2",
                                    "2": "Wake Up Alone"
                                },
                                {
                                    "0": "321",
                                    "1": "2",
                                    "2": "Some Unholy War"
                                },
                                {
                                    "0": "321",
                                    "1": "2",
                                    "2": "He Can Only Hold Her"
                                },
                                {
                                    "0": "321",
                                    "1": "2",
                                    "2": "You Know I'm No Good (feat. Ghostface Killah)"
                                },
                                {
                                    "0": "321",
                                    "1": "2",
                                    "2": "Rehab (Hot Chip Remix)"
                                },
                                {
                                    "0": "322",
                                    "1": "2",
                                    "2": "Intro / Stronger Than Me"
                                },
                                {
                                    "0": "322",
                                    "1": "2",
                                    "2": "You Sent Me Flying / Cherry"
                                },
                                {
                                    "0": "322",
                                    "1": "2",
                                    "2": "F**k Me Pumps"
                                },
                                {
                                    "0": "322",
                                    "1": "2",
                                    "2": "I Heard Love Is Blind"
                                },
                                {
                                    "0": "322",
                                    "1": "2",
                                    "2": "(There Is) No Greater Love (Teo Licks)"
                                },
                                {
                                    "0": "322",
                                    "1": "2",
                                    "2": "In My Bed"
                                },
                                {
                                    "0": "322",
                                    "1": "2",
                                    "2": "Take the Box"
                                },
                                {
                                    "0": "322",
                                    "1": "2",
                                    "2": "October Song"
                                },
                                {
                                    "0": "322",
                                    "1": "2",
                                    "2": "What Is It About Men"
                                },
                                {
                                    "0": "322",
                                    "1": "2",
                                    "2": "Help Yourself"
                                },
                                {
                                    "0": "322",
                                    "1": "2",
                                    "2": "Amy Amy Amy (Outro)"
                                },
                                {
                                    "0": "323",
                                    "1": "2",
                                    "2": "Slowness"
                                },
                                {
                                    "0": "326",
                                    "1": "2",
                                    "2": "A Midsummer Night's Dream, Op.61 Incidental Music: No.7 Notturno"
                                },
                                {
                                    "0": "327",
                                    "1": "2",
                                    "2": "Suite No. 3 in D, BWV 1068: III. Gavotte I & II"
                                },
                                {
                                    "0": "328",
                                    "1": "2",
                                    "2": "Concert pour 4 Parties de V**les, H. 545: I. Prelude"
                                },
                                {
                                    "0": "329",
                                    "1": "2",
                                    "2": "Adios nonino"
                                },
                                {
                                    "0": "330",
                                    "1": "2",
                                    "2": "Symphony No. 3 Op. 36 for Orchestra and Soprano \"Symfonia Piesni Zalosnych\" \\ Lento E Largo - Tranquillissimo"
                                },
                                {
                                    "0": "331",
                                    "1": "2",
                                    "2": "Act IV, Symphony"
                                },
                                {
                                    "0": "332",
                                    "1": "2",
                                    "2": "3 Gymnopédies: No.1 - Lent Et Grave, No.3 - Lent Et Douloureux"
                                },
                                {
                                    "0": "333",
                                    "1": "2",
                                    "2": "Music for the Funeral of Queen Mary: VI. \"Thou Knowest, Lord, the Secrets of Our Hearts\""
                                },
                                {
                                    "0": "334",
                                    "1": "2",
                                    "2": "Symphony No. 2: III. Allegro vivace"
                                },
                                {
                                    "0": "335",
                                    "1": "2",
                                    "2": "Partita in E Major, BWV 1006A: I. Prelude"
                                },
                                {
                                    "0": "336",
                                    "1": "2",
                                    "2": "Le Sacre Du Printemps: I.iv. Spring Rounds"
                                },
                                {
                                    "0": "337",
                                    "1": "2",
                                    "2": "Metopes, Op. 29: Calypso"
                                },
                                {
                                    "0": "338",
                                    "1": "2",
                                    "2": "Symphony No. 2, Op. 16 -  \"The Four Temperaments\": II. Allegro Comodo e Flemmatico"
                                },
                                {
                                    "0": "339",
                                    "1": "2",
                                    "2": "24 Caprices, Op. 1, No. 24, for Solo Violin, in A Minor"
                                },
                                {
                                    "0": "341",
                                    "1": "2",
                                    "2": "Erlkonig, D.328"
                                },
                                {
                                    "0": "343",
                                    "1": "2",
                                    "2": "Pini Di Roma (Pinien Von Rom) \\ I Pini Della Via Appia"
                                },
                                {
                                    "0": "344",
                                    "1": "2",
                                    "2": "String Quartet No. 12 in C Minor, D. 703 \"Quartettsatz\": II. Andante - Allegro assai"
                                },
                                {
                                    "0": "345",
                                    "1": "2",
                                    "2": "L'orfeo, Act 3, Sinfonia (Orchestra)"
                                },
                                {
                                    "0": "346",
                                    "1": "2",
                                    "2": "Quintet for Horn, Violin, 2 Violas, and Cello in E Flat Major, K. 407/386c: III. Allegro"
                                },
                                {
                                    "0": "347",
                                    "1": "2",
                                    "2": "Koyaanisqatsi"
                                }
                            ]
                        },
                        "text/html": [
                            "<table>",
                            "<tr><th>AlbumId</th><th>MediaTypeId</th><th>Name</th></tr>",
                            "<tr><td>1</td><td>1</td><td>Put The Finger On You</td></tr>",
                            "<tr><td>1</td><td>1</td><td>Let's Get It Up</td></tr>",
                            "<tr><td>1</td><td>1</td><td>Inject The Venom</td></tr>",
                            "<tr><td>1</td><td>1</td><td>Snowballed</td></tr>",
                            "<tr><td>1</td><td>1</td><td>Evil Walks</td></tr>",
                            "<tr><td>1</td><td>1</td><td>C.O.D.</td></tr>",
                            "<tr><td>1</td><td>1</td><td>Breaking The Rules</td></tr>",
                            "<tr><td>1</td><td>1</td><td>Night Of The Long Knives</td></tr>",
                            "<tr><td>1</td><td>1</td><td>Spellbound</td></tr>",
                            "<tr><td>1</td><td>1</td><td>For Those About To Rock (We Salute You)</td></tr>",
                            "<tr><td>2</td><td>2</td><td>Balls to the Wall</td></tr>",
                            "<tr><td>3</td><td>2</td><td>Fast As a Shark</td></tr>",
                            "<tr><td>3</td><td>2</td><td>Restless and Wild</td></tr>",
                            "<tr><td>3</td><td>2</td><td>Princess of the Dawn</td></tr>",
                            "<tr><td>4</td><td>1</td><td>Go Down</td></tr>",
                            "<tr><td>4</td><td>1</td><td>Dog Eat Dog</td></tr>",
                            "<tr><td>4</td><td>1</td><td>Let There Be Rock</td></tr>",
                            "<tr><td>4</td><td>1</td><td>Bad Boy Boogie</td></tr>",
                            "<tr><td>4</td><td>1</td><td>Problem Child</td></tr>",
                            "<tr><td>4</td><td>1</td><td>Overdose</td></tr>",
                            "<tr><td>4</td><td>1</td><td>Hell Ain't A Bad Place To Be</td></tr>",
                            "<tr><td>4</td><td>1</td><td>Whole Lotta Rosie</td></tr>",
                            "<tr><td>5</td><td>1</td><td>Walk On Water</td></tr>",
                            "<tr><td>5</td><td>1</td><td>Love In An Elevator</td></tr>",
                            "<tr><td>5</td><td>1</td><td>Rag Doll</td></tr>",
                            "<tr><td>5</td><td>1</td><td>What It Takes</td></tr>",
                            "<tr><td>5</td><td>1</td><td>Dude (Looks Like A Lady)</td></tr>",
                            "<tr><td>5</td><td>1</td><td>Janie's Got A Gun</td></tr>",
                            "<tr><td>5</td><td>1</td><td>Cryin'</td></tr>",
                            "<tr><td>5</td><td>1</td><td>Amazing</td></tr>",
                            "<tr><td>5</td><td>1</td><td>Blind Man</td></tr>",
                            "<tr><td>5</td><td>1</td><td>Deuces Are Wild</td></tr>",
                            "<tr><td>5</td><td>1</td><td>The Other Side</td></tr>",
                            "<tr><td>5</td><td>1</td><td>Crazy</td></tr>",
                            "<tr><td>5</td><td>1</td><td>Eat The Rich</td></tr>",
                            "<tr><td>5</td><td>1</td><td>Angel</td></tr>",
                            "<tr><td>5</td><td>1</td><td>Livin' On The Edge</td></tr>",
                            "<tr><td>90</td><td>2</td><td>Welcome to the Jungle</td></tr>",
                            "<tr><td>90</td><td>2</td><td>It's So Easy</td></tr>",
                            "<tr><td>90</td><td>2</td><td>Nightrain</td></tr>",
                            "<tr><td>90</td><td>2</td><td>Out Ta Get Me</td></tr>",
                            "<tr><td>90</td><td>2</td><td>Mr. Brownstone</td></tr>",
                            "<tr><td>90</td><td>2</td><td>Paradise City</td></tr>",
                            "<tr><td>90</td><td>2</td><td>My Michelle</td></tr>",
                            "<tr><td>90</td><td>2</td><td>Think About You</td></tr>",
                            "<tr><td>90</td><td>2</td><td>Sweet Child O' Mine</td></tr>",
                            "<tr><td>90</td><td>2</td><td>You're Crazy</td></tr>",
                            "<tr><td>90</td><td>2</td><td>Anything Goes</td></tr>",
                            "<tr><td>90</td><td>2</td><td>Rocket Queen</td></tr>",
                            "<tr><td>91</td><td>2</td><td>Right Next Door to Hell</td></tr>",
                            "<tr><td>91</td><td>2</td><td>Dust N' Bones</td></tr>",
                            "<tr><td>91</td><td>2</td><td>Live and Let Die</td></tr>",
                            "<tr><td>91</td><td>2</td><td>Don't Cry (Original)</td></tr>",
                            "<tr><td>91</td><td>2</td><td>Perfect Crime</td></tr>",
                            "<tr><td>91</td><td>2</td><td>You Ain't the First</td></tr>",
                            "<tr><td>91</td><td>2</td><td>Bad Obsession</td></tr>",
                            "<tr><td>91</td><td>2</td><td>Back off Bitch</td></tr>",
                            "<tr><td>91</td><td>2</td><td>Double Talkin' Jive</td></tr>",
                            "<tr><td>91</td><td>2</td><td>November Rain</td></tr>",
                            "<tr><td>91</td><td>2</td><td>The Garden</td></tr>",
                            "<tr><td>91</td><td>2</td><td>Garden of Eden</td></tr>",
                            "<tr><td>91</td><td>2</td><td>Don't Damn Me</td></tr>",
                            "<tr><td>91</td><td>2</td><td>Bad Apples</td></tr>",
                            "<tr><td>91</td><td>2</td><td>Dead Horse</td></tr>",
                            "<tr><td>91</td><td>2</td><td>Coma</td></tr>",
                            "<tr><td>94</td><td>2</td><td>Different World</td></tr>",
                            "<tr><td>94</td><td>2</td><td>These Colours Don't Run</td></tr>",
                            "<tr><td>94</td><td>2</td><td>Brighter Than a Thousand Suns</td></tr>",
                            "<tr><td>94</td><td>2</td><td>The Pilgrim</td></tr>",
                            "<tr><td>94</td><td>2</td><td>The Longest Day</td></tr>",
                            "<tr><td>94</td><td>2</td><td>Out of the Shadows</td></tr>",
                            "<tr><td>94</td><td>2</td><td>The Reincarnation of Benjamin Breeg</td></tr>",
                            "<tr><td>94</td><td>2</td><td>For the Greater Good of God</td></tr>",
                            "<tr><td>94</td><td>2</td><td>Lord of Light</td></tr>",
                            "<tr><td>94</td><td>2</td><td>The Legacy</td></tr>",
                            "<tr><td>94</td><td>2</td><td>Hallowed Be Thy Name (Live) [Non Album Bonus Track]</td></tr>",
                            "<tr><td>121</td><td>2</td><td>Surfing with the Alien</td></tr>",
                            "<tr><td>121</td><td>2</td><td>Ice 9</td></tr>",
                            "<tr><td>121</td><td>2</td><td>Crushing Day</td></tr>",
                            "<tr><td>121</td><td>2</td><td>Always With Me, Always With You</td></tr>",
                            "<tr><td>121</td><td>2</td><td>Satch Boogie</td></tr>",
                            "<tr><td>121</td><td>2</td><td>Hill of the Skull</td></tr>",
                            "<tr><td>121</td><td>2</td><td>Circles</td></tr>",
                            "<tr><td>121</td><td>2</td><td>Lords of Karma</td></tr>",
                            "<tr><td>121</td><td>2</td><td>Midnight</td></tr>",
                            "<tr><td>121</td><td>2</td><td>Echo</td></tr>",
                            "<tr><td>170</td><td>2</td><td>Bark at the Moon</td></tr>",
                            "<tr><td>171</td><td>2</td><td>I Don't Know</td></tr>",
                            "<tr><td>171</td><td>2</td><td>Crazy Train</td></tr>",
                            "<tr><td>172</td><td>2</td><td>Flying High Again</td></tr>",
                            "<tr><td>173</td><td>2</td><td>Mama, I'm Coming Home</td></tr>",
                            "<tr><td>173</td><td>2</td><td>No More Tears</td></tr>",
                            "<tr><td>252</td><td>2</td><td>Your Time Is Gonna Come</td></tr>",
                            "<tr><td>255</td><td>2</td><td>Instant Karma</td></tr>",
                            "<tr><td>255</td><td>2</td><td>#9 Dream</td></tr>",
                            "<tr><td>255</td><td>2</td><td>Mother</td></tr>",
                            "<tr><td>255</td><td>2</td><td>Give Peace a Chance</td></tr>",
                            "<tr><td>255</td><td>2</td><td>Cold Turkey</td></tr>",
                            "<tr><td>255</td><td>2</td><td>Whatever Gets You Thru the Night</td></tr>",
                            "<tr><td>255</td><td>2</td><td>I'm Losing You</td></tr>",
                            "<tr><td>255</td><td>2</td><td>Gimme Some Truth</td></tr>",
                            "<tr><td>255</td><td>2</td><td>Oh, My Love</td></tr>",
                            "<tr><td>255</td><td>2</td><td>Imagine</td></tr>",
                            "<tr><td>255</td><td>2</td><td>Nobody Told Me</td></tr>",
                            "<tr><td>255</td><td>2</td><td>Jealous Guy</td></tr>",
                            "<tr><td>255</td><td>2</td><td>Working Class Hero</td></tr>",
                            "<tr><td>255</td><td>2</td><td>Power to the People</td></tr>",
                            "<tr><td>255</td><td>2</td><td>Imagine</td></tr>",
                            "<tr><td>255</td><td>2</td><td>Beautiful Boy</td></tr>",
                            "<tr><td>255</td><td>2</td><td>Isolation</td></tr>",
                            "<tr><td>255</td><td>2</td><td>Watching the Wheels</td></tr>",
                            "<tr><td>255</td><td>2</td><td>Grow Old With Me</td></tr>",
                            "<tr><td>255</td><td>2</td><td>Gimme Some Truth</td></tr>",
                            "<tr><td>255</td><td>2</td><td>[Just Like] Starting Over</td></tr>",
                            "<tr><td>255</td><td>2</td><td>God</td></tr>",
                            "<tr><td>255</td><td>2</td><td>Real Love</td></tr>",
                            "<tr><td>256</td><td>2</td><td>Sympton of the Universe</td></tr>",
                            "<tr><td>256</td><td>2</td><td>Snowblind</td></tr>",
                            "<tr><td>256</td><td>2</td><td>Black Sabbath</td></tr>",
                            "<tr><td>256</td><td>2</td><td>Fairies Wear Boots</td></tr>",
                            "<tr><td>256</td><td>2</td><td>War Pigs</td></tr>",
                            "<tr><td>256</td><td>2</td><td>The Wizard</td></tr>",
                            "<tr><td>256</td><td>2</td><td>N.I.B.</td></tr>",
                            "<tr><td>256</td><td>2</td><td>Sweet Leaf</td></tr>",
                            "<tr><td>256</td><td>2</td><td>Never Say Die</td></tr>",
                            "<tr><td>256</td><td>2</td><td>Sabbath, Bloody Sabbath</td></tr>",
                            "<tr><td>256</td><td>2</td><td>Iron Man/Children of the Grave</td></tr>",
                            "<tr><td>256</td><td>2</td><td>Paranoid</td></tr>",
                            "<tr><td>257</td><td>2</td><td>Rock You Like a Hurricane</td></tr>",
                            "<tr><td>257</td><td>2</td><td>No One Like You</td></tr>",
                            "<tr><td>257</td><td>2</td><td>The Zoo</td></tr>",
                            "<tr><td>257</td><td>2</td><td>Loving You Sunday Morning</td></tr>",
                            "<tr><td>257</td><td>2</td><td>Still Loving You</td></tr>",
                            "<tr><td>257</td><td>2</td><td>Big City Nights</td></tr>",
                            "<tr><td>257</td><td>2</td><td>Believe in Love</td></tr>",
                            "<tr><td>257</td><td>2</td><td>Rhythm of Love</td></tr>",
                            "<tr><td>257</td><td>2</td><td>I Can't Explain</td></tr>",
                            "<tr><td>257</td><td>2</td><td>Tease Me Please Me</td></tr>",
                            "<tr><td>257</td><td>2</td><td>Wind of Change</td></tr>",
                            "<tr><td>257</td><td>2</td><td>Send Me an Angel</td></tr>",
                            "<tr><td>269</td><td>2</td><td>Say Hello 2 Heaven</td></tr>",
                            "<tr><td>269</td><td>2</td><td>Reach Down</td></tr>",
                            "<tr><td>269</td><td>2</td><td>Hunger Strike</td></tr>",
                            "<tr><td>269</td><td>2</td><td>Pushin Forward Back</td></tr>",
                            "<tr><td>269</td><td>2</td><td>Call Me a Dog</td></tr>",
                            "<tr><td>269</td><td>2</td><td>Times of Trouble</td></tr>",
                            "<tr><td>269</td><td>2</td><td>Wooden Jesus</td></tr>",
                            "<tr><td>269</td><td>2</td><td>Your Savior</td></tr>",
                            "<tr><td>269</td><td>2</td><td>Four Walled World</td></tr>",
                            "<tr><td>269</td><td>2</td><td>All Night Thing</td></tr>",
                            "<tr><td>270</td><td>2</td><td>No Such Thing</td></tr>",
                            "<tr><td>270</td><td>2</td><td>Poison Eye</td></tr>",
                            "<tr><td>270</td><td>2</td><td>Arms Around Your Love</td></tr>",
                            "<tr><td>270</td><td>2</td><td>Safe and Sound</td></tr>",
                            "<tr><td>270</td><td>2</td><td>She'll Never Be Your Man</td></tr>",
                            "<tr><td>270</td><td>2</td><td>Ghosts</td></tr>",
                            "<tr><td>270</td><td>2</td><td>Killing Birds</td></tr>",
                            "<tr><td>270</td><td>2</td><td>Billie Jean</td></tr>",
                            "<tr><td>270</td><td>2</td><td>Scar On the Sky</td></tr>",
                            "<tr><td>270</td><td>2</td><td>Your Soul Today</td></tr>",
                            "<tr><td>270</td><td>2</td><td>Finally Forever</td></tr>",
                            "<tr><td>270</td><td>2</td><td>Silence the Voices</td></tr>",
                            "<tr><td>270</td><td>2</td><td>Disappearing Act</td></tr>",
                            "<tr><td>270</td><td>2</td><td>You Know My Name</td></tr>",
                            "<tr><td>271</td><td>2</td><td>Revelations</td></tr>",
                            "<tr><td>271</td><td>2</td><td>One and the Same</td></tr>",
                            "<tr><td>271</td><td>2</td><td>Sound of a Gun</td></tr>",
                            "<tr><td>271</td><td>2</td><td>Until We Fall</td></tr>",
                            "<tr><td>271</td><td>2</td><td>Original Fire</td></tr>",
                            "<tr><td>271</td><td>2</td><td>Broken City</td></tr>",
                            "<tr><td>271</td><td>2</td><td>Somedays</td></tr>",
                            "<tr><td>271</td><td>2</td><td>Shape of Things to Come</td></tr>",
                            "<tr><td>271</td><td>2</td><td>Jewel of the Summertime</td></tr>",
                            "<tr><td>271</td><td>2</td><td>Wide Awake</td></tr>",
                            "<tr><td>271</td><td>2</td><td>Nothing Left to Say But Goodbye</td></tr>",
                            "<tr><td>271</td><td>2</td><td>Moth</td></tr>",
                            "<tr><td>271</td><td>2</td><td>Show Me How to Live (Live at the Quart Festival)</td></tr>",
                            "<tr><td>272</td><td>2</td><td>Intoitus: Adorate Deum</td></tr>",
                            "<tr><td>273</td><td>2</td><td>Miserere mei, Deus</td></tr>",
                            "<tr><td>274</td><td>2</td><td>Canon and Gigue in D Major: I. Canon</td></tr>",
                            "<tr><td>275</td><td>2</td><td>Concerto No. 1 in E Major, RV 269 &quot;Spring&quot;: I. Allegro</td></tr>",
                            "<tr><td>276</td><td>2</td><td>Concerto for 2 Violins in D Minor, BWV 1043: I. Vivace</td></tr>",
                            "<tr><td>277</td><td>2</td><td>Aria Mit 30 Veränderungen, BWV 988 &quot;Goldberg Variations&quot;: Aria</td></tr>",
                            "<tr><td>278</td><td>2</td><td>Suite for Solo Cello No. 1 in G Major, BWV 1007: I. Prélude</td></tr>",
                            "<tr><td>279</td><td>2</td><td>The Messiah: Behold, I Tell You a Mystery... The Trumpet Shall Sound</td></tr>",
                            "<tr><td>280</td><td>2</td><td>Solomon HWV 67: The Arrival of the Queen of Sheba</td></tr>",
                            "<tr><td>280</td><td>2</td><td>Fantasia On Greensleeves</td></tr>",
                            "<tr><td>281</td><td>2</td><td>&quot;Eine Kleine Nachtmusik&quot; Serenade In G, K. 525: I. Allegro</td></tr>",
                            "<tr><td>282</td><td>2</td><td>Concerto for Clarinet in A Major, K. 622: II. Adagio</td></tr>",
                            "<tr><td>284</td><td>2</td><td>Symphony No.5 in C Minor: I. Allegro con brio</td></tr>",
                            "<tr><td>285</td><td>2</td><td>Ave Maria</td></tr>",
                            "<tr><td>286</td><td>2</td><td>Nabucco: Chorus, &quot;Va, Pensiero, Sull'ali Dorate&quot;</td></tr>",
                            "<tr><td>287</td><td>2</td><td>Die Walküre: The Ride of the Valkyries</td></tr>",
                            "<tr><td>288</td><td>2</td><td>Requiem, Op.48: 4. Pie Jesu</td></tr>",
                            "<tr><td>289</td><td>2</td><td>The Nutcracker, Op. 71a, Act II: Scene 14: Pas de deux: Dance of the Prince &amp; the Sugar-Plum Fairy</td></tr>",
                            "<tr><td>290</td><td>2</td><td>Nimrod (Adagio) from Variations On an Original Theme, Op. 36 &quot;Enigma&quot;</td></tr>",
                            "<tr><td>291</td><td>2</td><td>Madama Butterfly: Un Bel Dì Vedremo</td></tr>",
                            "<tr><td>292</td><td>2</td><td>Jupiter, the Bringer of Jollity</td></tr>",
                            "<tr><td>293</td><td>2</td><td>Turandot, Act III, Nessun dorma!</td></tr>",
                            "<tr><td>294</td><td>2</td><td>Adagio for Strings from the String Quartet, Op. 11</td></tr>",
                            "<tr><td>295</td><td>2</td><td>Carmina Burana: O Fortuna</td></tr>",
                            "<tr><td>296</td><td>2</td><td>Fanfare for the Common Man</td></tr>",
                            "<tr><td>297</td><td>2</td><td>Toccata and Fugue in D Minor, BWV 565: I. Toccata</td></tr>",
                            "<tr><td>298</td><td>2</td><td>Symphony No.1 in D Major, Op.25 &quot;Classical&quot;, Allegro Con Brio</td></tr>",
                            "<tr><td>299</td><td>2</td><td>Scheherazade, Op. 35: I. The Sea and Sindbad's Ship</td></tr>",
                            "<tr><td>300</td><td>2</td><td>Concerto No.2 in F Major, BWV1047, I. Allegro</td></tr>",
                            "<tr><td>301</td><td>2</td><td>Concerto for Piano No. 2 in F Minor, Op. 21: II. Larghetto</td></tr>",
                            "<tr><td>302</td><td>2</td><td>Cavalleria Rusticana \\ Act \\ Intermezzo Sinfonico</td></tr>",
                            "<tr><td>303</td><td>2</td><td>Karelia Suite, Op.11: 2. Ballade (Tempo Di Menuetto)</td></tr>",
                            "<tr><td>304</td><td>2</td><td>Piano Sonata No. 14 in C Sharp Minor, Op. 27, No. 2, &quot;Moonlight&quot;: I. Adagio sostenuto</td></tr>",
                            "<tr><td>305</td><td>2</td><td>Das Lied Von Der Erde, Von Der Jugend</td></tr>",
                            "<tr><td>306</td><td>2</td><td>Concerto for Cello and Orchestra in E minor, Op. 85: I. Adagio - Moderato</td></tr>",
                            "<tr><td>307</td><td>2</td><td>Two Fanfares for Orchestra: II. Short Ride in a Fast Machine</td></tr>",
                            "<tr><td>308</td><td>2</td><td>Wellington's Victory or the Battle Symphony, Op.91: 2. Symphony of Triumph</td></tr>",
                            "<tr><td>309</td><td>2</td><td>Missa Papae Marcelli: Kyrie</td></tr>",
                            "<tr><td>310</td><td>2</td><td>Romeo et Juliette: No. 11 - Danse des Chevaliers</td></tr>",
                            "<tr><td>311</td><td>2</td><td>On the Beautiful Blue Danube</td></tr>",
                            "<tr><td>312</td><td>2</td><td>Symphonie Fantastique, Op. 14: V. Songe d'une nuit du sabbat</td></tr>",
                            "<tr><td>313</td><td>2</td><td>Carmen: Overture</td></tr>",
                            "<tr><td>314</td><td>2</td><td>Lamentations of Jeremiah, First Set \\ Incipit Lamentatio</td></tr>",
                            "<tr><td>314</td><td>2</td><td>Sing Joyfully</td></tr>",
                            "<tr><td>315</td><td>2</td><td>Music for the Royal Fireworks, HWV351 (1749): La Réjouissance</td></tr>",
                            "<tr><td>316</td><td>2</td><td>Peer Gynt Suite No.1, Op.46: 1. Morning Mood</td></tr>",
                            "<tr><td>317</td><td>2</td><td>Die Zauberflöte, K.620: &quot;Der Hölle Rache Kocht in Meinem Herze&quot;</td></tr>",
                            "<tr><td>319</td><td>2</td><td>Pavan, Lachrimae Antiquae</td></tr>",
                            "<tr><td>320</td><td>2</td><td>Symphony No. 41 in C Major, K. 551, &quot;Jupiter&quot;: IV. Molto allegro</td></tr>",
                            "<tr><td>321</td><td>2</td><td>Rehab</td></tr>",
                            "<tr><td>321</td><td>2</td><td>You Know I'm No Good</td></tr>",
                            "<tr><td>321</td><td>2</td><td>Me &amp; Mr. Jones</td></tr>",
                            "<tr><td>321</td><td>2</td><td>Just Friends</td></tr>",
                            "<tr><td>321</td><td>2</td><td>Back to Black</td></tr>",
                            "<tr><td>321</td><td>2</td><td>Love Is a Losing Game</td></tr>",
                            "<tr><td>321</td><td>2</td><td>Tears Dry On Their Own</td></tr>",
                            "<tr><td>321</td><td>2</td><td>Wake Up Alone</td></tr>",
                            "<tr><td>321</td><td>2</td><td>Some Unholy War</td></tr>",
                            "<tr><td>321</td><td>2</td><td>He Can Only Hold Her</td></tr>",
                            "<tr><td>321</td><td>2</td><td>You Know I'm No Good (feat. Ghostface Killah)</td></tr>",
                            "<tr><td>321</td><td>2</td><td>Rehab (Hot Chip Remix)</td></tr>",
                            "<tr><td>322</td><td>2</td><td>Intro / Stronger Than Me</td></tr>",
                            "<tr><td>322</td><td>2</td><td>You Sent Me Flying / Cherry</td></tr>",
                            "<tr><td>322</td><td>2</td><td>F**k Me Pumps</td></tr>",
                            "<tr><td>322</td><td>2</td><td>I Heard Love Is Blind</td></tr>",
                            "<tr><td>322</td><td>2</td><td>(There Is) No Greater Love (Teo Licks)</td></tr>",
                            "<tr><td>322</td><td>2</td><td>In My Bed</td></tr>",
                            "<tr><td>322</td><td>2</td><td>Take the Box</td></tr>",
                            "<tr><td>322</td><td>2</td><td>October Song</td></tr>",
                            "<tr><td>322</td><td>2</td><td>What Is It About Men</td></tr>",
                            "<tr><td>322</td><td>2</td><td>Help Yourself</td></tr>",
                            "<tr><td>322</td><td>2</td><td>Amy Amy Amy (Outro)</td></tr>",
                            "<tr><td>323</td><td>2</td><td>Slowness</td></tr>",
                            "<tr><td>326</td><td>2</td><td>A Midsummer Night's Dream, Op.61 Incidental Music: No.7 Notturno</td></tr>",
                            "<tr><td>327</td><td>2</td><td>Suite No. 3 in D, BWV 1068: III. Gavotte I &amp; II</td></tr>",
                            "<tr><td>328</td><td>2</td><td>Concert pour 4 Parties de V**les, H. 545: I. Prelude</td></tr>",
                            "<tr><td>329</td><td>2</td><td>Adios nonino</td></tr>",
                            "<tr><td>330</td><td>2</td><td>Symphony No. 3 Op. 36 for Orchestra and Soprano &quot;Symfonia Piesni Zalosnych&quot; \\ Lento E Largo - Tranquillissimo</td></tr>",
                            "<tr><td>331</td><td>2</td><td>Act IV, Symphony</td></tr>",
                            "<tr><td>332</td><td>2</td><td>3 Gymnopédies: No.1 - Lent Et Grave, No.3 - Lent Et Douloureux</td></tr>",
                            "<tr><td>333</td><td>2</td><td>Music for the Funeral of Queen Mary: VI. &quot;Thou Knowest, Lord, the Secrets of Our Hearts&quot;</td></tr>",
                            "<tr><td>334</td><td>2</td><td>Symphony No. 2: III. Allegro vivace</td></tr>",
                            "<tr><td>335</td><td>2</td><td>Partita in E Major, BWV 1006A: I. Prelude</td></tr>",
                            "<tr><td>336</td><td>2</td><td>Le Sacre Du Printemps: I.iv. Spring Rounds</td></tr>",
                            "<tr><td>337</td><td>2</td><td>Metopes, Op. 29: Calypso</td></tr>",
                            "<tr><td>338</td><td>2</td><td>Symphony No. 2, Op. 16 -  &quot;The Four Temperaments&quot;: II. Allegro Comodo e Flemmatico</td></tr>",
                            "<tr><td>339</td><td>2</td><td>24 Caprices, Op. 1, No. 24, for Solo Violin, in A Minor</td></tr>",
                            "<tr><td>341</td><td>2</td><td>Erlkonig, D.328</td></tr>",
                            "<tr><td>343</td><td>2</td><td>Pini Di Roma (Pinien Von Rom) \\ I Pini Della Via Appia</td></tr>",
                            "<tr><td>344</td><td>2</td><td>String Quartet No. 12 in C Minor, D. 703 &quot;Quartettsatz&quot;: II. Andante - Allegro assai</td></tr>",
                            "<tr><td>345</td><td>2</td><td>L'orfeo, Act 3, Sinfonia (Orchestra)</td></tr>",
                            "<tr><td>346</td><td>2</td><td>Quintet for Horn, Violin, 2 Violas, and Cello in E Flat Major, K. 407/386c: III. Allegro</td></tr>",
                            "<tr><td>347</td><td>2</td><td>Koyaanisqatsi</td></tr>",
                            "</table>"
                        ]
                    }
                }
            ],
            "execution_count": 46
        },
        {
            "cell_type": "code",
            "source": [
                "--10\n",
                "Use Chinook\n",
                "SELECT\n",
                "    AlbumId\n",
                "    ,Name\n",
                "    ,Milliseconds\n",
                "    ,UnitPrice\n",
                "FROM Track\n",
                "WHERE (AlbumId = 5 AND Milliseconds > 300000) \n",
                "    OR UnitPrice > 0.99\n",
                "ORDER BY AlbumId, Milliseconds"
            ],
            "metadata": {
                "azdata_cell_guid": "260d291a-4830-4aac-996b-c7e51fc7fef2",
                "language": "sql"
            },
            "outputs": [
                {
                    "output_type": "display_data",
                    "data": {
                        "text/html": "(221 rows affected)"
                    },
                    "metadata": {}
                },
                {
                    "output_type": "display_data",
                    "data": {
                        "text/html": "Total execution time: 00:00:00.014"
                    },
                    "metadata": {}
                },
                {
                    "output_type": "execute_result",
                    "metadata": {},
                    "execution_count": 47,
                    "data": {
                        "application/vnd.dataresource+json": {
                            "schema": {
                                "fields": [
                                    {
                                        "name": "AlbumId"
                                    },
                                    {
                                        "name": "Name"
                                    },
                                    {
                                        "name": "Milliseconds"
                                    },
                                    {
                                        "name": "UnitPrice"
                                    }
                                ]
                            },
                            "data": [
                                {
                                    "0": "5",
                                    "1": "Angel",
                                    "2": "307617",
                                    "3": "0.99"
                                },
                                {
                                    "0": "5",
                                    "1": "Cryin'",
                                    "2": "309263",
                                    "3": "0.99"
                                },
                                {
                                    "0": "5",
                                    "1": "What It Takes",
                                    "2": "310622",
                                    "3": "0.99"
                                },
                                {
                                    "0": "5",
                                    "1": "Crazy",
                                    "2": "316656",
                                    "3": "0.99"
                                },
                                {
                                    "0": "5",
                                    "1": "Love In An Elevator",
                                    "2": "321828",
                                    "3": "0.99"
                                },
                                {
                                    "0": "5",
                                    "1": "Janie's Got A Gun",
                                    "2": "330736",
                                    "3": "0.99"
                                },
                                {
                                    "0": "5",
                                    "1": "Amazing",
                                    "2": "356519",
                                    "3": "0.99"
                                },
                                {
                                    "0": "5",
                                    "1": "Livin' On The Edge",
                                    "2": "381231",
                                    "3": "0.99"
                                },
                                {
                                    "0": "226",
                                    "1": "Battlestar Galactica: The Story So Far",
                                    "2": "2622250",
                                    "3": "1.99"
                                },
                                {
                                    "0": "227",
                                    "1": "A Measure of Salvation",
                                    "2": "2563938",
                                    "3": "1.99"
                                },
                                {
                                    "0": "227",
                                    "1": "Exodus, Pt. 2",
                                    "2": "2618000",
                                    "3": "1.99"
                                },
                                {
                                    "0": "227",
                                    "1": "The Eye of Jupiter",
                                    "2": "2618750",
                                    "3": "1.99"
                                },
                                {
                                    "0": "227",
                                    "1": "A Day In the Life",
                                    "2": "2620245",
                                    "3": "1.99"
                                },
                                {
                                    "0": "227",
                                    "1": "Exodus, Pt. 1",
                                    "2": "2621708",
                                    "3": "1.99"
                                },
                                {
                                    "0": "227",
                                    "1": "The Son Also Rises",
                                    "2": "2621830",
                                    "3": "1.99"
                                },
                                {
                                    "0": "227",
                                    "1": "Unfinished Business",
                                    "2": "2622038",
                                    "3": "1.99"
                                },
                                {
                                    "0": "227",
                                    "1": "Maelstrom",
                                    "2": "2622372",
                                    "3": "1.99"
                                },
                                {
                                    "0": "227",
                                    "1": "Crossroads, Pt. 1",
                                    "2": "2622622",
                                    "3": "1.99"
                                },
                                {
                                    "0": "227",
                                    "1": "The Passage",
                                    "2": "2623875",
                                    "3": "1.99"
                                },
                                {
                                    "0": "227",
                                    "1": "Taking a Break from All Your Worries",
                                    "2": "2624207",
                                    "3": "1.99"
                                },
                                {
                                    "0": "227",
                                    "1": "Rapture",
                                    "2": "2624541",
                                    "3": "1.99"
                                },
                                {
                                    "0": "227",
                                    "1": "The Woman King",
                                    "2": "2626376",
                                    "3": "1.99"
                                },
                                {
                                    "0": "227",
                                    "1": "Collaborators",
                                    "2": "2626626",
                                    "3": "1.99"
                                },
                                {
                                    "0": "227",
                                    "1": "Dirty Hands",
                                    "2": "2627961",
                                    "3": "1.99"
                                },
                                {
                                    "0": "227",
                                    "1": "Torn",
                                    "2": "2631291",
                                    "3": "1.99"
                                },
                                {
                                    "0": "227",
                                    "1": "Hero",
                                    "2": "2713755",
                                    "3": "1.99"
                                },
                                {
                                    "0": "227",
                                    "1": "Crossroads, Pt. 2",
                                    "2": "2869953",
                                    "3": "1.99"
                                },
                                {
                                    "0": "227",
                                    "1": "Occupation / Precipice",
                                    "2": "5286953",
                                    "3": "1.99"
                                },
                                {
                                    "0": "228",
                                    "1": "Hiros",
                                    "2": "2533575",
                                    "3": "1.99"
                                },
                                {
                                    "0": "228",
                                    "1": "Don't Look Back",
                                    "2": "2571154",
                                    "3": "1.99"
                                },
                                {
                                    "0": "228",
                                    "1": "Better Halves",
                                    "2": "2573031",
                                    "3": "1.99"
                                },
                                {
                                    "0": "228",
                                    "1": ".07%",
                                    "2": "2585794",
                                    "3": "1.99"
                                },
                                {
                                    "0": "228",
                                    "1": "Five Years Gone",
                                    "2": "2587712",
                                    "3": "1.99"
                                },
                                {
                                    "0": "228",
                                    "1": "Distractions",
                                    "2": "2590382",
                                    "3": "1.99"
                                },
                                {
                                    "0": "228",
                                    "1": "Fallout",
                                    "2": "2594761",
                                    "3": "1.99"
                                },
                                {
                                    "0": "228",
                                    "1": "Unexpected",
                                    "2": "2598139",
                                    "3": "1.99"
                                },
                                {
                                    "0": "228",
                                    "1": "The Fix",
                                    "2": "2600266",
                                    "3": "1.99"
                                },
                                {
                                    "0": "228",
                                    "1": "Landslide",
                                    "2": "2600725",
                                    "3": "1.99"
                                },
                                {
                                    "0": "228",
                                    "1": "The Hard Part",
                                    "2": "2601017",
                                    "3": "1.99"
                                },
                                {
                                    "0": "228",
                                    "1": "Company Man",
                                    "2": "2601101",
                                    "3": "1.99"
                                },
                                {
                                    "0": "228",
                                    "1": "Company Man",
                                    "2": "2601226",
                                    "3": "1.99"
                                },
                                {
                                    "0": "228",
                                    "1": "Homecoming",
                                    "2": "2601351",
                                    "3": "1.99"
                                },
                                {
                                    "0": "228",
                                    "1": "Run!",
                                    "2": "2602602",
                                    "3": "1.99"
                                },
                                {
                                    "0": "228",
                                    "1": "Parasite",
                                    "2": "2602727",
                                    "3": "1.99"
                                },
                                {
                                    "0": "228",
                                    "1": "Six Months Ago",
                                    "2": "2602852",
                                    "3": "1.99"
                                },
                                {
                                    "0": "228",
                                    "1": "Collision",
                                    "2": "2605480",
                                    "3": "1.99"
                                },
                                {
                                    "0": "228",
                                    "1": "Nothing to Hide",
                                    "2": "2605647",
                                    "3": "1.99"
                                },
                                {
                                    "0": "228",
                                    "1": "One Giant Leap",
                                    "2": "2607649",
                                    "3": "1.99"
                                },
                                {
                                    "0": "228",
                                    "1": "Genesis",
                                    "2": "2611986",
                                    "3": "1.99"
                                },
                                {
                                    "0": "228",
                                    "1": "Seven Minutes to Midnight",
                                    "2": "2613988",
                                    "3": "1.99"
                                },
                                {
                                    "0": "228",
                                    "1": "How to Stop an Exploding Man",
                                    "2": "2687103",
                                    "3": "1.99"
                                },
                                {
                                    "0": "229",
                                    "1": "Catch-22",
                                    "2": "2561394",
                                    "3": "1.99"
                                },
                                {
                                    "0": "229",
                                    "1": "Further Instructions",
                                    "2": "2563980",
                                    "3": "1.99"
                                },
                                {
                                    "0": "229",
                                    "1": "Exposé",
                                    "2": "2593760",
                                    "3": "1.99"
                                },
                                {
                                    "0": "229",
                                    "1": "Through the Looking Glass, Pt. 1",
                                    "2": "2610860",
                                    "3": "1.99"
                                },
                                {
                                    "0": "229",
                                    "1": "The Man Behind the Curtain",
                                    "2": "2615990",
                                    "3": "1.99"
                                },
                                {
                                    "0": "229",
                                    "1": "D.O.C.",
                                    "2": "2616032",
                                    "3": "1.99"
                                },
                                {
                                    "0": "229",
                                    "1": "Greatest Hits",
                                    "2": "2617117",
                                    "3": "1.99"
                                },
                                {
                                    "0": "229",
                                    "1": "Through the Looking Glass, Pt. 2",
                                    "2": "2617117",
                                    "3": "1.99"
                                },
                                {
                                    "0": "229",
                                    "1": "The Brig",
                                    "2": "2617325",
                                    "3": "1.99"
                                },
                                {
                                    "0": "229",
                                    "1": "I Do",
                                    "2": "2627791",
                                    "3": "1.99"
                                },
                                {
                                    "0": "229",
                                    "1": "Enter 77",
                                    "2": "2629796",
                                    "3": "1.99"
                                },
                                {
                                    "0": "229",
                                    "1": "Par Avion",
                                    "2": "2629879",
                                    "3": "1.99"
                                },
                                {
                                    "0": "229",
                                    "1": "Lost Survival Guide",
                                    "2": "2632590",
                                    "3": "1.99"
                                },
                                {
                                    "0": "229",
                                    "1": "Tricia Tanaka Is Dead",
                                    "2": "2635010",
                                    "3": "1.99"
                                },
                                {
                                    "0": "229",
                                    "1": "Left Behind",
                                    "2": "2635343",
                                    "3": "1.99"
                                },
                                {
                                    "0": "229",
                                    "1": "Stranger In a Strange Land",
                                    "2": "2636428",
                                    "3": "1.99"
                                },
                                {
                                    "0": "229",
                                    "1": "Flashes Before Your Eyes",
                                    "2": "2636636",
                                    "3": "1.99"
                                },
                                {
                                    "0": "229",
                                    "1": "A Tale of Two Cities",
                                    "2": "2636970",
                                    "3": "1.99"
                                },
                                {
                                    "0": "229",
                                    "1": "Not In Portland",
                                    "2": "2637303",
                                    "3": "1.99"
                                },
                                {
                                    "0": "229",
                                    "1": "Not In Portland",
                                    "2": "2637345",
                                    "3": "1.99"
                                },
                                {
                                    "0": "229",
                                    "1": "Every Man for Himself",
                                    "2": "2637387",
                                    "3": "1.99"
                                },
                                {
                                    "0": "229",
                                    "1": "The Glass Ballerina",
                                    "2": "2637458",
                                    "3": "1.99"
                                },
                                {
                                    "0": "229",
                                    "1": "The Cost of Living",
                                    "2": "2637500",
                                    "3": "1.99"
                                },
                                {
                                    "0": "229",
                                    "1": "The Man from Tallahassee",
                                    "2": "2637637",
                                    "3": "1.99"
                                },
                                {
                                    "0": "229",
                                    "1": "One of Us",
                                    "2": "2638096",
                                    "3": "1.99"
                                },
                                {
                                    "0": "229",
                                    "1": "Through a Looking Glass",
                                    "2": "5088838",
                                    "3": "1.99"
                                },
                                {
                                    "0": "230",
                                    "1": "Lost (Pilot, Part 2)",
                                    "2": "2436583",
                                    "3": "1.99"
                                },
                                {
                                    "0": "230",
                                    "1": "Homecoming",
                                    "2": "2515882",
                                    "3": "1.99"
                                },
                                {
                                    "0": "230",
                                    "1": "Lost (Pilot, Part 1) [Premiere]",
                                    "2": "2548875",
                                    "3": "1.99"
                                },
                                {
                                    "0": "230",
                                    "1": "All the Best Cowboys Have Daddy Issues",
                                    "2": "2555492",
                                    "3": "1.99"
                                },
                                {
                                    "0": "230",
                                    "1": "White Rabbit",
                                    "2": "2571965",
                                    "3": "1.99"
                                },
                                {
                                    "0": "230",
                                    "1": "Deus Ex Machina",
                                    "2": "2582009",
                                    "3": "1.99"
                                },
                                {
                                    "0": "230",
                                    "1": "Walkabout",
                                    "2": "2587370",
                                    "3": "1.99"
                                },
                                {
                                    "0": "230",
                                    "1": "House of the Rising Sun",
                                    "2": "2590032",
                                    "3": "1.99"
                                },
                                {
                                    "0": "230",
                                    "1": "Raised By Another",
                                    "2": "2590459",
                                    "3": "1.99"
                                },
                                {
                                    "0": "230",
                                    "1": "...In Translation",
                                    "2": "2604575",
                                    "3": "1.99"
                                },
                                {
                                    "0": "230",
                                    "1": "Exodus (Part 2) [Season Finale]",
                                    "2": "2605557",
                                    "3": "1.99"
                                },
                                {
                                    "0": "230",
                                    "1": "Numbers",
                                    "2": "2609772",
                                    "3": "1.99"
                                },
                                {
                                    "0": "230",
                                    "1": "Solitary",
                                    "2": "2612894",
                                    "3": "1.99"
                                },
                                {
                                    "0": "230",
                                    "1": "Confidence Man",
                                    "2": "2615244",
                                    "3": "1.99"
                                },
                                {
                                    "0": "230",
                                    "1": "Whatever the Case May Be",
                                    "2": "2616410",
                                    "3": "1.99"
                                },
                                {
                                    "0": "230",
                                    "1": "The Greater Good",
                                    "2": "2617784",
                                    "3": "1.99"
                                },
                                {
                                    "0": "230",
                                    "1": "Do No Harm",
                                    "2": "2618487",
                                    "3": "1.99"
                                },
                                {
                                    "0": "230",
                                    "1": "Special",
                                    "2": "2618530",
                                    "3": "1.99"
                                },
                                {
                                    "0": "230",
                                    "1": "Born to Run",
                                    "2": "2618619",
                                    "3": "1.99"
                                },
                                {
                                    "0": "230",
                                    "1": "Hearts and Minds",
                                    "2": "2619462",
                                    "3": "1.99"
                                },
                                {
                                    "0": "230",
                                    "1": "Exodus (Part 3) [Season Finale]",
                                    "2": "2619869",
                                    "3": "1.99"
                                },
                                {
                                    "0": "230",
                                    "1": "Outlaws",
                                    "2": "2619887",
                                    "3": "1.99"
                                },
                                {
                                    "0": "230",
                                    "1": "Exodus (Part 1)",
                                    "2": "2620747",
                                    "3": "1.99"
                                },
                                {
                                    "0": "230",
                                    "1": "Tabula Rasa",
                                    "2": "2627105",
                                    "3": "1.99"
                                },
                                {
                                    "0": "230",
                                    "1": "The Moth",
                                    "2": "2631327",
                                    "3": "1.99"
                                },
                                {
                                    "0": "231",
                                    "1": "Live Together, Die Alone, Pt. 1",
                                    "2": "2478041",
                                    "3": "1.99"
                                },
                                {
                                    "0": "231",
                                    "1": "...And Found",
                                    "2": "2563833",
                                    "3": "1.99"
                                },
                                {
                                    "0": "231",
                                    "1": "Collision",
                                    "2": "2564916",
                                    "3": "1.99"
                                },
                                {
                                    "0": "231",
                                    "1": "Adrift",
                                    "2": "2564958",
                                    "3": "1.99"
                                },
                                {
                                    "0": "231",
                                    "1": "Abandoned",
                                    "2": "2587041",
                                    "3": "1.99"
                                },
                                {
                                    "0": "231",
                                    "1": "Fire + Water",
                                    "2": "2600333",
                                    "3": "1.99"
                                },
                                {
                                    "0": "231",
                                    "1": "Orientation",
                                    "2": "2609083",
                                    "3": "1.99"
                                },
                                {
                                    "0": "231",
                                    "1": "Everybody Hates Hugo",
                                    "2": "2609192",
                                    "3": "1.99"
                                },
                                {
                                    "0": "231",
                                    "1": "The Whole Truth",
                                    "2": "2610125",
                                    "3": "1.99"
                                },
                                {
                                    "0": "231",
                                    "1": "Lockdown",
                                    "2": "2610250",
                                    "3": "1.99"
                                },
                                {
                                    "0": "231",
                                    "1": "What Kate Did",
                                    "2": "2610250",
                                    "3": "1.99"
                                },
                                {
                                    "0": "231",
                                    "1": "The 23rd Psalm",
                                    "2": "2610416",
                                    "3": "1.99"
                                },
                                {
                                    "0": "231",
                                    "1": "The Other 48 Days",
                                    "2": "2610625",
                                    "3": "1.99"
                                },
                                {
                                    "0": "231",
                                    "1": "Two for the Road",
                                    "2": "2610958",
                                    "3": "1.99"
                                },
                                {
                                    "0": "231",
                                    "1": "The Hunting Party",
                                    "2": "2611333",
                                    "3": "1.99"
                                },
                                {
                                    "0": "231",
                                    "1": "Man of Science, Man of Faith (Premiere)",
                                    "2": "2612250",
                                    "3": "1.99"
                                },
                                {
                                    "0": "231",
                                    "1": "S.O.S.",
                                    "2": "2639541",
                                    "3": "1.99"
                                },
                                {
                                    "0": "231",
                                    "1": "Live Together, Die Alone, Pt. 2",
                                    "2": "2656531",
                                    "3": "1.99"
                                },
                                {
                                    "0": "231",
                                    "1": "The Long Con",
                                    "2": "2679583",
                                    "3": "1.99"
                                },
                                {
                                    "0": "231",
                                    "1": "One of Them",
                                    "2": "2698791",
                                    "3": "1.99"
                                },
                                {
                                    "0": "231",
                                    "1": "Three Minutes",
                                    "2": "2763666",
                                    "3": "1.99"
                                },
                                {
                                    "0": "231",
                                    "1": "Maternity Leave",
                                    "2": "2780416",
                                    "3": "1.99"
                                },
                                {
                                    "0": "231",
                                    "1": "\"?\"",
                                    "2": "2782333",
                                    "3": "1.99"
                                },
                                {
                                    "0": "231",
                                    "1": "Dave",
                                    "2": "2825166",
                                    "3": "1.99"
                                },
                                {
                                    "0": "249",
                                    "1": "Diversity Day",
                                    "2": "1306416",
                                    "3": "1.99"
                                },
                                {
                                    "0": "249",
                                    "1": "The Alliance",
                                    "2": "1317125",
                                    "3": "1.99"
                                },
                                {
                                    "0": "249",
                                    "1": "Health Care",
                                    "2": "1321791",
                                    "3": "1.99"
                                },
                                {
                                    "0": "249",
                                    "1": "Basketball",
                                    "2": "1323541",
                                    "3": "1.99"
                                },
                                {
                                    "0": "249",
                                    "1": "Hot Girl",
                                    "2": "1325458",
                                    "3": "1.99"
                                },
                                {
                                    "0": "249",
                                    "1": "The Office: An American Workplace (Pilot)",
                                    "2": "1380833",
                                    "3": "1.99"
                                },
                                {
                                    "0": "250",
                                    "1": "Michael's Birthday",
                                    "2": "1237791",
                                    "3": "1.99"
                                },
                                {
                                    "0": "250",
                                    "1": "The Dundies",
                                    "2": "1253541",
                                    "3": "1.99"
                                },
                                {
                                    "0": "250",
                                    "1": "The Carpet",
                                    "2": "1264375",
                                    "3": "1.99"
                                },
                                {
                                    "0": "250",
                                    "1": "The Secret",
                                    "2": "1264875",
                                    "3": "1.99"
                                },
                                {
                                    "0": "250",
                                    "1": "Booze Cruise",
                                    "2": "1267958",
                                    "3": "1.99"
                                },
                                {
                                    "0": "250",
                                    "1": "Take Your Daughter to Work Day",
                                    "2": "1268333",
                                    "3": "1.99"
                                },
                                {
                                    "0": "250",
                                    "1": "Valentine's Day",
                                    "2": "1270375",
                                    "3": "1.99"
                                },
                                {
                                    "0": "250",
                                    "1": "Conflict Resolution",
                                    "2": "1274583",
                                    "3": "1.99"
                                },
                                {
                                    "0": "250",
                                    "1": "The Injury",
                                    "2": "1275275",
                                    "3": "1.99"
                                },
                                {
                                    "0": "250",
                                    "1": "Dwight's Speech",
                                    "2": "1278041",
                                    "3": "1.99"
                                },
                                {
                                    "0": "250",
                                    "1": "Boys and Girls",
                                    "2": "1278333",
                                    "3": "1.99"
                                },
                                {
                                    "0": "250",
                                    "1": "Drug Testing",
                                    "2": "1278625",
                                    "3": "1.99"
                                },
                                {
                                    "0": "250",
                                    "1": "Christmas Party",
                                    "2": "1282115",
                                    "3": "1.99"
                                },
                                {
                                    "0": "250",
                                    "1": "The Fire",
                                    "2": "1288166",
                                    "3": "1.99"
                                },
                                {
                                    "0": "250",
                                    "1": "Office Olympics",
                                    "2": "1290458",
                                    "3": "1.99"
                                },
                                {
                                    "0": "250",
                                    "1": "Performance Review",
                                    "2": "1292458",
                                    "3": "1.99"
                                },
                                {
                                    "0": "250",
                                    "1": "Sexual Harassment",
                                    "2": "1294541",
                                    "3": "1.99"
                                },
                                {
                                    "0": "250",
                                    "1": "The Client",
                                    "2": "1299341",
                                    "3": "1.99"
                                },
                                {
                                    "0": "250",
                                    "1": "Halloween",
                                    "2": "1315333",
                                    "3": "1.99"
                                },
                                {
                                    "0": "250",
                                    "1": "The Fight",
                                    "2": "1320028",
                                    "3": "1.99"
                                },
                                {
                                    "0": "250",
                                    "1": "Email Surveillance",
                                    "2": "1328870",
                                    "3": "1.99"
                                },
                                {
                                    "0": "250",
                                    "1": "Casino Night - Season Finale",
                                    "2": "1712791",
                                    "3": "1.99"
                                },
                                {
                                    "0": "251",
                                    "1": "Product Recall",
                                    "2": "1268268",
                                    "3": "1.99"
                                },
                                {
                                    "0": "251",
                                    "1": "Safety Training",
                                    "2": "1271229",
                                    "3": "1.99"
                                },
                                {
                                    "0": "251",
                                    "1": "Phyllis's Wedding",
                                    "2": "1271521",
                                    "3": "1.99"
                                },
                                {
                                    "0": "251",
                                    "1": "Back from Vacation",
                                    "2": "1271688",
                                    "3": "1.99"
                                },
                                {
                                    "0": "251",
                                    "1": "Ben Franklin",
                                    "2": "1271938",
                                    "3": "1.99"
                                },
                                {
                                    "0": "251",
                                    "1": "Cocktails",
                                    "2": "1272522",
                                    "3": "1.99"
                                },
                                {
                                    "0": "251",
                                    "1": "The Convict",
                                    "2": "1273064",
                                    "3": "1.99"
                                },
                                {
                                    "0": "251",
                                    "1": "The Coup",
                                    "2": "1276526",
                                    "3": "1.99"
                                },
                                {
                                    "0": "251",
                                    "1": "Diwali",
                                    "2": "1279904",
                                    "3": "1.99"
                                },
                                {
                                    "0": "251",
                                    "1": "The Initiation",
                                    "2": "1280113",
                                    "3": "1.99"
                                },
                                {
                                    "0": "251",
                                    "1": "Grief Counseling",
                                    "2": "1282615",
                                    "3": "1.99"
                                },
                                {
                                    "0": "251",
                                    "1": "Traveling Salesmen",
                                    "2": "1289039",
                                    "3": "1.99"
                                },
                                {
                                    "0": "251",
                                    "1": "The Convention",
                                    "2": "1297213",
                                    "3": "1.99"
                                },
                                {
                                    "0": "251",
                                    "1": "Business School",
                                    "2": "1302093",
                                    "3": "1.99"
                                },
                                {
                                    "0": "251",
                                    "1": "Gay Witch Hunt",
                                    "2": "1326534",
                                    "3": "1.99"
                                },
                                {
                                    "0": "251",
                                    "1": "Beach Games",
                                    "2": "1676134",
                                    "3": "1.99"
                                },
                                {
                                    "0": "251",
                                    "1": "Producer's Cut: The Return",
                                    "2": "1700241",
                                    "3": "1.99"
                                },
                                {
                                    "0": "251",
                                    "1": "The Return",
                                    "2": "1705080",
                                    "3": "1.99"
                                },
                                {
                                    "0": "251",
                                    "1": "Women's Appreciation",
                                    "2": "1732649",
                                    "3": "1.99"
                                },
                                {
                                    "0": "251",
                                    "1": "The Negotiation",
                                    "2": "1767851",
                                    "3": "1.99"
                                },
                                {
                                    "0": "251",
                                    "1": "The Merger",
                                    "2": "1801926",
                                    "3": "1.99"
                                },
                                {
                                    "0": "251",
                                    "1": "Branch Closing",
                                    "2": "1814855",
                                    "3": "1.99"
                                },
                                {
                                    "0": "251",
                                    "1": "Branch Closing",
                                    "2": "1822781",
                                    "3": "1.99"
                                },
                                {
                                    "0": "251",
                                    "1": "A Benihana Christmas, Pts. 1 & 2",
                                    "2": "2519436",
                                    "3": "1.99"
                                },
                                {
                                    "0": "251",
                                    "1": "The Job",
                                    "2": "2541875",
                                    "3": "1.99"
                                },
                                {
                                    "0": "253",
                                    "1": "The Young Lords",
                                    "2": "2863571",
                                    "3": "1.99"
                                },
                                {
                                    "0": "253",
                                    "1": "Greetings from Earth, Pt. 2",
                                    "2": "2903778",
                                    "3": "1.99"
                                },
                                {
                                    "0": "253",
                                    "1": "The Gun On Ice Planet Zero, Pt. 1",
                                    "2": "2907615",
                                    "3": "1.99"
                                },
                                {
                                    "0": "253",
                                    "1": "Lost Planet of the Gods, Pt. 2",
                                    "2": "2914664",
                                    "3": "1.99"
                                },
                                {
                                    "0": "253",
                                    "1": "The Lost Warrior",
                                    "2": "2920045",
                                    "3": "1.99"
                                },
                                {
                                    "0": "253",
                                    "1": "Baltar's Escape",
                                    "2": "2922088",
                                    "3": "1.99"
                                },
                                {
                                    "0": "253",
                                    "1": "Lost Planet of the Gods, Pt. 1",
                                    "2": "2922547",
                                    "3": "1.99"
                                },
                                {
                                    "0": "253",
                                    "1": "War of the Gods, Pt. 1",
                                    "2": "2922630",
                                    "3": "1.99"
                                },
                                {
                                    "0": "253",
                                    "1": "The Living Legend, Pt. 2",
                                    "2": "2923298",
                                    "3": "1.99"
                                },
                                {
                                    "0": "253",
                                    "1": "War of the Gods, Pt. 2",
                                    "2": "2923381",
                                    "3": "1.99"
                                },
                                {
                                    "0": "253",
                                    "1": "Experiment In Terra",
                                    "2": "2923548",
                                    "3": "1.99"
                                },
                                {
                                    "0": "253",
                                    "1": "The Hand of God",
                                    "2": "2924007",
                                    "3": "1.99"
                                },
                                {
                                    "0": "253",
                                    "1": "The Gun On Ice Planet Zero, Pt. 2",
                                    "2": "2924341",
                                    "3": "1.99"
                                },
                                {
                                    "0": "253",
                                    "1": "The Living Legend, Pt. 1",
                                    "2": "2924507",
                                    "3": "1.99"
                                },
                                {
                                    "0": "253",
                                    "1": "The Magnificent Warriors",
                                    "2": "2924716",
                                    "3": "1.99"
                                },
                                {
                                    "0": "253",
                                    "1": "The Long Patrol",
                                    "2": "2925008",
                                    "3": "1.99"
                                },
                                {
                                    "0": "253",
                                    "1": "Fire In Space",
                                    "2": "2926593",
                                    "3": "1.99"
                                },
                                {
                                    "0": "253",
                                    "1": "Take the Celestra",
                                    "2": "2927677",
                                    "3": "1.99"
                                },
                                {
                                    "0": "253",
                                    "1": "Battlestar Galactica, Pt. 3",
                                    "2": "2927802",
                                    "3": "1.99"
                                },
                                {
                                    "0": "253",
                                    "1": "Murder On the Rising Star",
                                    "2": "2935894",
                                    "3": "1.99"
                                },
                                {
                                    "0": "253",
                                    "1": "Battlestar Galactica, Pt. 1",
                                    "2": "2952702",
                                    "3": "1.99"
                                },
                                {
                                    "0": "253",
                                    "1": "Battlestar Galactica, Pt. 2",
                                    "2": "2956081",
                                    "3": "1.99"
                                },
                                {
                                    "0": "253",
                                    "1": "The Man With Nine Lives",
                                    "2": "2956998",
                                    "3": "1.99"
                                },
                                {
                                    "0": "253",
                                    "1": "Greetings from Earth, Pt. 1",
                                    "2": "2960293",
                                    "3": "1.99"
                                },
                                {
                                    "0": "254",
                                    "1": "Pilot",
                                    "2": "2484567",
                                    "3": "1.99"
                                },
                                {
                                    "0": "261",
                                    "1": "LOST Season 4 Trailer",
                                    "2": "112712",
                                    "3": "1.99"
                                },
                                {
                                    "0": "261",
                                    "1": "LOST In 8:15",
                                    "2": "497163",
                                    "3": "1.99"
                                },
                                {
                                    "0": "261",
                                    "1": "Past, Present, and Future",
                                    "2": "2492867",
                                    "3": "1.99"
                                },
                                {
                                    "0": "261",
                                    "1": "There's No Place Like Home, Pt. 2",
                                    "2": "2497956",
                                    "3": "1.99"
                                },
                                {
                                    "0": "261",
                                    "1": "There's No Place Like Home, Pt. 3",
                                    "2": "2582957",
                                    "3": "1.99"
                                },
                                {
                                    "0": "261",
                                    "1": "Ji Yeon",
                                    "2": "2588797",
                                    "3": "1.99"
                                },
                                {
                                    "0": "261",
                                    "1": "The Shape of Things to Come",
                                    "2": "2591299",
                                    "3": "1.99"
                                },
                                {
                                    "0": "261",
                                    "1": "The Other Woman",
                                    "2": "2605021",
                                    "3": "1.99"
                                },
                                {
                                    "0": "261",
                                    "1": "Eggtown",
                                    "2": "2608817",
                                    "3": "1.99"
                                },
                                {
                                    "0": "261",
                                    "1": "The Economist",
                                    "2": "2609025",
                                    "3": "1.99"
                                },
                                {
                                    "0": "261",
                                    "1": "There's No Place Like Home, Pt. 1",
                                    "2": "2609526",
                                    "3": "1.99"
                                },
                                {
                                    "0": "261",
                                    "1": "The Constant",
                                    "2": "2611569",
                                    "3": "1.99"
                                },
                                {
                                    "0": "261",
                                    "1": "The Beginning of the End",
                                    "2": "2611903",
                                    "3": "1.99"
                                },
                                {
                                    "0": "261",
                                    "1": "Confirmed Dead",
                                    "2": "2611986",
                                    "3": "1.99"
                                },
                                {
                                    "0": "261",
                                    "1": "Cabin Fever",
                                    "2": "2612028",
                                    "3": "1.99"
                                },
                                {
                                    "0": "261",
                                    "1": "Meet Kevin Johnson",
                                    "2": "2612028",
                                    "3": "1.99"
                                },
                                {
                                    "0": "261",
                                    "1": "Something Nice Back Home",
                                    "2": "2612779",
                                    "3": "1.99"
                                }
                            ]
                        },
                        "text/html": [
                            "<table>",
                            "<tr><th>AlbumId</th><th>Name</th><th>Milliseconds</th><th>UnitPrice</th></tr>",
                            "<tr><td>5</td><td>Angel</td><td>307617</td><td>0.99</td></tr>",
                            "<tr><td>5</td><td>Cryin'</td><td>309263</td><td>0.99</td></tr>",
                            "<tr><td>5</td><td>What It Takes</td><td>310622</td><td>0.99</td></tr>",
                            "<tr><td>5</td><td>Crazy</td><td>316656</td><td>0.99</td></tr>",
                            "<tr><td>5</td><td>Love In An Elevator</td><td>321828</td><td>0.99</td></tr>",
                            "<tr><td>5</td><td>Janie's Got A Gun</td><td>330736</td><td>0.99</td></tr>",
                            "<tr><td>5</td><td>Amazing</td><td>356519</td><td>0.99</td></tr>",
                            "<tr><td>5</td><td>Livin' On The Edge</td><td>381231</td><td>0.99</td></tr>",
                            "<tr><td>226</td><td>Battlestar Galactica: The Story So Far</td><td>2622250</td><td>1.99</td></tr>",
                            "<tr><td>227</td><td>A Measure of Salvation</td><td>2563938</td><td>1.99</td></tr>",
                            "<tr><td>227</td><td>Exodus, Pt. 2</td><td>2618000</td><td>1.99</td></tr>",
                            "<tr><td>227</td><td>The Eye of Jupiter</td><td>2618750</td><td>1.99</td></tr>",
                            "<tr><td>227</td><td>A Day In the Life</td><td>2620245</td><td>1.99</td></tr>",
                            "<tr><td>227</td><td>Exodus, Pt. 1</td><td>2621708</td><td>1.99</td></tr>",
                            "<tr><td>227</td><td>The Son Also Rises</td><td>2621830</td><td>1.99</td></tr>",
                            "<tr><td>227</td><td>Unfinished Business</td><td>2622038</td><td>1.99</td></tr>",
                            "<tr><td>227</td><td>Maelstrom</td><td>2622372</td><td>1.99</td></tr>",
                            "<tr><td>227</td><td>Crossroads, Pt. 1</td><td>2622622</td><td>1.99</td></tr>",
                            "<tr><td>227</td><td>The Passage</td><td>2623875</td><td>1.99</td></tr>",
                            "<tr><td>227</td><td>Taking a Break from All Your Worries</td><td>2624207</td><td>1.99</td></tr>",
                            "<tr><td>227</td><td>Rapture</td><td>2624541</td><td>1.99</td></tr>",
                            "<tr><td>227</td><td>The Woman King</td><td>2626376</td><td>1.99</td></tr>",
                            "<tr><td>227</td><td>Collaborators</td><td>2626626</td><td>1.99</td></tr>",
                            "<tr><td>227</td><td>Dirty Hands</td><td>2627961</td><td>1.99</td></tr>",
                            "<tr><td>227</td><td>Torn</td><td>2631291</td><td>1.99</td></tr>",
                            "<tr><td>227</td><td>Hero</td><td>2713755</td><td>1.99</td></tr>",
                            "<tr><td>227</td><td>Crossroads, Pt. 2</td><td>2869953</td><td>1.99</td></tr>",
                            "<tr><td>227</td><td>Occupation / Precipice</td><td>5286953</td><td>1.99</td></tr>",
                            "<tr><td>228</td><td>Hiros</td><td>2533575</td><td>1.99</td></tr>",
                            "<tr><td>228</td><td>Don't Look Back</td><td>2571154</td><td>1.99</td></tr>",
                            "<tr><td>228</td><td>Better Halves</td><td>2573031</td><td>1.99</td></tr>",
                            "<tr><td>228</td><td>.07%</td><td>2585794</td><td>1.99</td></tr>",
                            "<tr><td>228</td><td>Five Years Gone</td><td>2587712</td><td>1.99</td></tr>",
                            "<tr><td>228</td><td>Distractions</td><td>2590382</td><td>1.99</td></tr>",
                            "<tr><td>228</td><td>Fallout</td><td>2594761</td><td>1.99</td></tr>",
                            "<tr><td>228</td><td>Unexpected</td><td>2598139</td><td>1.99</td></tr>",
                            "<tr><td>228</td><td>The Fix</td><td>2600266</td><td>1.99</td></tr>",
                            "<tr><td>228</td><td>Landslide</td><td>2600725</td><td>1.99</td></tr>",
                            "<tr><td>228</td><td>The Hard Part</td><td>2601017</td><td>1.99</td></tr>",
                            "<tr><td>228</td><td>Company Man</td><td>2601101</td><td>1.99</td></tr>",
                            "<tr><td>228</td><td>Company Man</td><td>2601226</td><td>1.99</td></tr>",
                            "<tr><td>228</td><td>Homecoming</td><td>2601351</td><td>1.99</td></tr>",
                            "<tr><td>228</td><td>Run!</td><td>2602602</td><td>1.99</td></tr>",
                            "<tr><td>228</td><td>Parasite</td><td>2602727</td><td>1.99</td></tr>",
                            "<tr><td>228</td><td>Six Months Ago</td><td>2602852</td><td>1.99</td></tr>",
                            "<tr><td>228</td><td>Collision</td><td>2605480</td><td>1.99</td></tr>",
                            "<tr><td>228</td><td>Nothing to Hide</td><td>2605647</td><td>1.99</td></tr>",
                            "<tr><td>228</td><td>One Giant Leap</td><td>2607649</td><td>1.99</td></tr>",
                            "<tr><td>228</td><td>Genesis</td><td>2611986</td><td>1.99</td></tr>",
                            "<tr><td>228</td><td>Seven Minutes to Midnight</td><td>2613988</td><td>1.99</td></tr>",
                            "<tr><td>228</td><td>How to Stop an Exploding Man</td><td>2687103</td><td>1.99</td></tr>",
                            "<tr><td>229</td><td>Catch-22</td><td>2561394</td><td>1.99</td></tr>",
                            "<tr><td>229</td><td>Further Instructions</td><td>2563980</td><td>1.99</td></tr>",
                            "<tr><td>229</td><td>Exposé</td><td>2593760</td><td>1.99</td></tr>",
                            "<tr><td>229</td><td>Through the Looking Glass, Pt. 1</td><td>2610860</td><td>1.99</td></tr>",
                            "<tr><td>229</td><td>The Man Behind the Curtain</td><td>2615990</td><td>1.99</td></tr>",
                            "<tr><td>229</td><td>D.O.C.</td><td>2616032</td><td>1.99</td></tr>",
                            "<tr><td>229</td><td>Greatest Hits</td><td>2617117</td><td>1.99</td></tr>",
                            "<tr><td>229</td><td>Through the Looking Glass, Pt. 2</td><td>2617117</td><td>1.99</td></tr>",
                            "<tr><td>229</td><td>The Brig</td><td>2617325</td><td>1.99</td></tr>",
                            "<tr><td>229</td><td>I Do</td><td>2627791</td><td>1.99</td></tr>",
                            "<tr><td>229</td><td>Enter 77</td><td>2629796</td><td>1.99</td></tr>",
                            "<tr><td>229</td><td>Par Avion</td><td>2629879</td><td>1.99</td></tr>",
                            "<tr><td>229</td><td>Lost Survival Guide</td><td>2632590</td><td>1.99</td></tr>",
                            "<tr><td>229</td><td>Tricia Tanaka Is Dead</td><td>2635010</td><td>1.99</td></tr>",
                            "<tr><td>229</td><td>Left Behind</td><td>2635343</td><td>1.99</td></tr>",
                            "<tr><td>229</td><td>Stranger In a Strange Land</td><td>2636428</td><td>1.99</td></tr>",
                            "<tr><td>229</td><td>Flashes Before Your Eyes</td><td>2636636</td><td>1.99</td></tr>",
                            "<tr><td>229</td><td>A Tale of Two Cities</td><td>2636970</td><td>1.99</td></tr>",
                            "<tr><td>229</td><td>Not In Portland</td><td>2637303</td><td>1.99</td></tr>",
                            "<tr><td>229</td><td>Not In Portland</td><td>2637345</td><td>1.99</td></tr>",
                            "<tr><td>229</td><td>Every Man for Himself</td><td>2637387</td><td>1.99</td></tr>",
                            "<tr><td>229</td><td>The Glass Ballerina</td><td>2637458</td><td>1.99</td></tr>",
                            "<tr><td>229</td><td>The Cost of Living</td><td>2637500</td><td>1.99</td></tr>",
                            "<tr><td>229</td><td>The Man from Tallahassee</td><td>2637637</td><td>1.99</td></tr>",
                            "<tr><td>229</td><td>One of Us</td><td>2638096</td><td>1.99</td></tr>",
                            "<tr><td>229</td><td>Through a Looking Glass</td><td>5088838</td><td>1.99</td></tr>",
                            "<tr><td>230</td><td>Lost (Pilot, Part 2)</td><td>2436583</td><td>1.99</td></tr>",
                            "<tr><td>230</td><td>Homecoming</td><td>2515882</td><td>1.99</td></tr>",
                            "<tr><td>230</td><td>Lost (Pilot, Part 1) [Premiere]</td><td>2548875</td><td>1.99</td></tr>",
                            "<tr><td>230</td><td>All the Best Cowboys Have Daddy Issues</td><td>2555492</td><td>1.99</td></tr>",
                            "<tr><td>230</td><td>White Rabbit</td><td>2571965</td><td>1.99</td></tr>",
                            "<tr><td>230</td><td>Deus Ex Machina</td><td>2582009</td><td>1.99</td></tr>",
                            "<tr><td>230</td><td>Walkabout</td><td>2587370</td><td>1.99</td></tr>",
                            "<tr><td>230</td><td>House of the Rising Sun</td><td>2590032</td><td>1.99</td></tr>",
                            "<tr><td>230</td><td>Raised By Another</td><td>2590459</td><td>1.99</td></tr>",
                            "<tr><td>230</td><td>...In Translation</td><td>2604575</td><td>1.99</td></tr>",
                            "<tr><td>230</td><td>Exodus (Part 2) [Season Finale]</td><td>2605557</td><td>1.99</td></tr>",
                            "<tr><td>230</td><td>Numbers</td><td>2609772</td><td>1.99</td></tr>",
                            "<tr><td>230</td><td>Solitary</td><td>2612894</td><td>1.99</td></tr>",
                            "<tr><td>230</td><td>Confidence Man</td><td>2615244</td><td>1.99</td></tr>",
                            "<tr><td>230</td><td>Whatever the Case May Be</td><td>2616410</td><td>1.99</td></tr>",
                            "<tr><td>230</td><td>The Greater Good</td><td>2617784</td><td>1.99</td></tr>",
                            "<tr><td>230</td><td>Do No Harm</td><td>2618487</td><td>1.99</td></tr>",
                            "<tr><td>230</td><td>Special</td><td>2618530</td><td>1.99</td></tr>",
                            "<tr><td>230</td><td>Born to Run</td><td>2618619</td><td>1.99</td></tr>",
                            "<tr><td>230</td><td>Hearts and Minds</td><td>2619462</td><td>1.99</td></tr>",
                            "<tr><td>230</td><td>Exodus (Part 3) [Season Finale]</td><td>2619869</td><td>1.99</td></tr>",
                            "<tr><td>230</td><td>Outlaws</td><td>2619887</td><td>1.99</td></tr>",
                            "<tr><td>230</td><td>Exodus (Part 1)</td><td>2620747</td><td>1.99</td></tr>",
                            "<tr><td>230</td><td>Tabula Rasa</td><td>2627105</td><td>1.99</td></tr>",
                            "<tr><td>230</td><td>The Moth</td><td>2631327</td><td>1.99</td></tr>",
                            "<tr><td>231</td><td>Live Together, Die Alone, Pt. 1</td><td>2478041</td><td>1.99</td></tr>",
                            "<tr><td>231</td><td>...And Found</td><td>2563833</td><td>1.99</td></tr>",
                            "<tr><td>231</td><td>Collision</td><td>2564916</td><td>1.99</td></tr>",
                            "<tr><td>231</td><td>Adrift</td><td>2564958</td><td>1.99</td></tr>",
                            "<tr><td>231</td><td>Abandoned</td><td>2587041</td><td>1.99</td></tr>",
                            "<tr><td>231</td><td>Fire + Water</td><td>2600333</td><td>1.99</td></tr>",
                            "<tr><td>231</td><td>Orientation</td><td>2609083</td><td>1.99</td></tr>",
                            "<tr><td>231</td><td>Everybody Hates Hugo</td><td>2609192</td><td>1.99</td></tr>",
                            "<tr><td>231</td><td>The Whole Truth</td><td>2610125</td><td>1.99</td></tr>",
                            "<tr><td>231</td><td>Lockdown</td><td>2610250</td><td>1.99</td></tr>",
                            "<tr><td>231</td><td>What Kate Did</td><td>2610250</td><td>1.99</td></tr>",
                            "<tr><td>231</td><td>The 23rd Psalm</td><td>2610416</td><td>1.99</td></tr>",
                            "<tr><td>231</td><td>The Other 48 Days</td><td>2610625</td><td>1.99</td></tr>",
                            "<tr><td>231</td><td>Two for the Road</td><td>2610958</td><td>1.99</td></tr>",
                            "<tr><td>231</td><td>The Hunting Party</td><td>2611333</td><td>1.99</td></tr>",
                            "<tr><td>231</td><td>Man of Science, Man of Faith (Premiere)</td><td>2612250</td><td>1.99</td></tr>",
                            "<tr><td>231</td><td>S.O.S.</td><td>2639541</td><td>1.99</td></tr>",
                            "<tr><td>231</td><td>Live Together, Die Alone, Pt. 2</td><td>2656531</td><td>1.99</td></tr>",
                            "<tr><td>231</td><td>The Long Con</td><td>2679583</td><td>1.99</td></tr>",
                            "<tr><td>231</td><td>One of Them</td><td>2698791</td><td>1.99</td></tr>",
                            "<tr><td>231</td><td>Three Minutes</td><td>2763666</td><td>1.99</td></tr>",
                            "<tr><td>231</td><td>Maternity Leave</td><td>2780416</td><td>1.99</td></tr>",
                            "<tr><td>231</td><td>&quot;?&quot;</td><td>2782333</td><td>1.99</td></tr>",
                            "<tr><td>231</td><td>Dave</td><td>2825166</td><td>1.99</td></tr>",
                            "<tr><td>249</td><td>Diversity Day</td><td>1306416</td><td>1.99</td></tr>",
                            "<tr><td>249</td><td>The Alliance</td><td>1317125</td><td>1.99</td></tr>",
                            "<tr><td>249</td><td>Health Care</td><td>1321791</td><td>1.99</td></tr>",
                            "<tr><td>249</td><td>Basketball</td><td>1323541</td><td>1.99</td></tr>",
                            "<tr><td>249</td><td>Hot Girl</td><td>1325458</td><td>1.99</td></tr>",
                            "<tr><td>249</td><td>The Office: An American Workplace (Pilot)</td><td>1380833</td><td>1.99</td></tr>",
                            "<tr><td>250</td><td>Michael's Birthday</td><td>1237791</td><td>1.99</td></tr>",
                            "<tr><td>250</td><td>The Dundies</td><td>1253541</td><td>1.99</td></tr>",
                            "<tr><td>250</td><td>The Carpet</td><td>1264375</td><td>1.99</td></tr>",
                            "<tr><td>250</td><td>The Secret</td><td>1264875</td><td>1.99</td></tr>",
                            "<tr><td>250</td><td>Booze Cruise</td><td>1267958</td><td>1.99</td></tr>",
                            "<tr><td>250</td><td>Take Your Daughter to Work Day</td><td>1268333</td><td>1.99</td></tr>",
                            "<tr><td>250</td><td>Valentine's Day</td><td>1270375</td><td>1.99</td></tr>",
                            "<tr><td>250</td><td>Conflict Resolution</td><td>1274583</td><td>1.99</td></tr>",
                            "<tr><td>250</td><td>The Injury</td><td>1275275</td><td>1.99</td></tr>",
                            "<tr><td>250</td><td>Dwight's Speech</td><td>1278041</td><td>1.99</td></tr>",
                            "<tr><td>250</td><td>Boys and Girls</td><td>1278333</td><td>1.99</td></tr>",
                            "<tr><td>250</td><td>Drug Testing</td><td>1278625</td><td>1.99</td></tr>",
                            "<tr><td>250</td><td>Christmas Party</td><td>1282115</td><td>1.99</td></tr>",
                            "<tr><td>250</td><td>The Fire</td><td>1288166</td><td>1.99</td></tr>",
                            "<tr><td>250</td><td>Office Olympics</td><td>1290458</td><td>1.99</td></tr>",
                            "<tr><td>250</td><td>Performance Review</td><td>1292458</td><td>1.99</td></tr>",
                            "<tr><td>250</td><td>Sexual Harassment</td><td>1294541</td><td>1.99</td></tr>",
                            "<tr><td>250</td><td>The Client</td><td>1299341</td><td>1.99</td></tr>",
                            "<tr><td>250</td><td>Halloween</td><td>1315333</td><td>1.99</td></tr>",
                            "<tr><td>250</td><td>The Fight</td><td>1320028</td><td>1.99</td></tr>",
                            "<tr><td>250</td><td>Email Surveillance</td><td>1328870</td><td>1.99</td></tr>",
                            "<tr><td>250</td><td>Casino Night - Season Finale</td><td>1712791</td><td>1.99</td></tr>",
                            "<tr><td>251</td><td>Product Recall</td><td>1268268</td><td>1.99</td></tr>",
                            "<tr><td>251</td><td>Safety Training</td><td>1271229</td><td>1.99</td></tr>",
                            "<tr><td>251</td><td>Phyllis's Wedding</td><td>1271521</td><td>1.99</td></tr>",
                            "<tr><td>251</td><td>Back from Vacation</td><td>1271688</td><td>1.99</td></tr>",
                            "<tr><td>251</td><td>Ben Franklin</td><td>1271938</td><td>1.99</td></tr>",
                            "<tr><td>251</td><td>Cocktails</td><td>1272522</td><td>1.99</td></tr>",
                            "<tr><td>251</td><td>The Convict</td><td>1273064</td><td>1.99</td></tr>",
                            "<tr><td>251</td><td>The Coup</td><td>1276526</td><td>1.99</td></tr>",
                            "<tr><td>251</td><td>Diwali</td><td>1279904</td><td>1.99</td></tr>",
                            "<tr><td>251</td><td>The Initiation</td><td>1280113</td><td>1.99</td></tr>",
                            "<tr><td>251</td><td>Grief Counseling</td><td>1282615</td><td>1.99</td></tr>",
                            "<tr><td>251</td><td>Traveling Salesmen</td><td>1289039</td><td>1.99</td></tr>",
                            "<tr><td>251</td><td>The Convention</td><td>1297213</td><td>1.99</td></tr>",
                            "<tr><td>251</td><td>Business School</td><td>1302093</td><td>1.99</td></tr>",
                            "<tr><td>251</td><td>Gay Witch Hunt</td><td>1326534</td><td>1.99</td></tr>",
                            "<tr><td>251</td><td>Beach Games</td><td>1676134</td><td>1.99</td></tr>",
                            "<tr><td>251</td><td>Producer's Cut: The Return</td><td>1700241</td><td>1.99</td></tr>",
                            "<tr><td>251</td><td>The Return</td><td>1705080</td><td>1.99</td></tr>",
                            "<tr><td>251</td><td>Women's Appreciation</td><td>1732649</td><td>1.99</td></tr>",
                            "<tr><td>251</td><td>The Negotiation</td><td>1767851</td><td>1.99</td></tr>",
                            "<tr><td>251</td><td>The Merger</td><td>1801926</td><td>1.99</td></tr>",
                            "<tr><td>251</td><td>Branch Closing</td><td>1814855</td><td>1.99</td></tr>",
                            "<tr><td>251</td><td>Branch Closing</td><td>1822781</td><td>1.99</td></tr>",
                            "<tr><td>251</td><td>A Benihana Christmas, Pts. 1 &amp; 2</td><td>2519436</td><td>1.99</td></tr>",
                            "<tr><td>251</td><td>The Job</td><td>2541875</td><td>1.99</td></tr>",
                            "<tr><td>253</td><td>The Young Lords</td><td>2863571</td><td>1.99</td></tr>",
                            "<tr><td>253</td><td>Greetings from Earth, Pt. 2</td><td>2903778</td><td>1.99</td></tr>",
                            "<tr><td>253</td><td>The Gun On Ice Planet Zero, Pt. 1</td><td>2907615</td><td>1.99</td></tr>",
                            "<tr><td>253</td><td>Lost Planet of the Gods, Pt. 2</td><td>2914664</td><td>1.99</td></tr>",
                            "<tr><td>253</td><td>The Lost Warrior</td><td>2920045</td><td>1.99</td></tr>",
                            "<tr><td>253</td><td>Baltar's Escape</td><td>2922088</td><td>1.99</td></tr>",
                            "<tr><td>253</td><td>Lost Planet of the Gods, Pt. 1</td><td>2922547</td><td>1.99</td></tr>",
                            "<tr><td>253</td><td>War of the Gods, Pt. 1</td><td>2922630</td><td>1.99</td></tr>",
                            "<tr><td>253</td><td>The Living Legend, Pt. 2</td><td>2923298</td><td>1.99</td></tr>",
                            "<tr><td>253</td><td>War of the Gods, Pt. 2</td><td>2923381</td><td>1.99</td></tr>",
                            "<tr><td>253</td><td>Experiment In Terra</td><td>2923548</td><td>1.99</td></tr>",
                            "<tr><td>253</td><td>The Hand of God</td><td>2924007</td><td>1.99</td></tr>",
                            "<tr><td>253</td><td>The Gun On Ice Planet Zero, Pt. 2</td><td>2924341</td><td>1.99</td></tr>",
                            "<tr><td>253</td><td>The Living Legend, Pt. 1</td><td>2924507</td><td>1.99</td></tr>",
                            "<tr><td>253</td><td>The Magnificent Warriors</td><td>2924716</td><td>1.99</td></tr>",
                            "<tr><td>253</td><td>The Long Patrol</td><td>2925008</td><td>1.99</td></tr>",
                            "<tr><td>253</td><td>Fire In Space</td><td>2926593</td><td>1.99</td></tr>",
                            "<tr><td>253</td><td>Take the Celestra</td><td>2927677</td><td>1.99</td></tr>",
                            "<tr><td>253</td><td>Battlestar Galactica, Pt. 3</td><td>2927802</td><td>1.99</td></tr>",
                            "<tr><td>253</td><td>Murder On the Rising Star</td><td>2935894</td><td>1.99</td></tr>",
                            "<tr><td>253</td><td>Battlestar Galactica, Pt. 1</td><td>2952702</td><td>1.99</td></tr>",
                            "<tr><td>253</td><td>Battlestar Galactica, Pt. 2</td><td>2956081</td><td>1.99</td></tr>",
                            "<tr><td>253</td><td>The Man With Nine Lives</td><td>2956998</td><td>1.99</td></tr>",
                            "<tr><td>253</td><td>Greetings from Earth, Pt. 1</td><td>2960293</td><td>1.99</td></tr>",
                            "<tr><td>254</td><td>Pilot</td><td>2484567</td><td>1.99</td></tr>",
                            "<tr><td>261</td><td>LOST Season 4 Trailer</td><td>112712</td><td>1.99</td></tr>",
                            "<tr><td>261</td><td>LOST In 8:15</td><td>497163</td><td>1.99</td></tr>",
                            "<tr><td>261</td><td>Past, Present, and Future</td><td>2492867</td><td>1.99</td></tr>",
                            "<tr><td>261</td><td>There's No Place Like Home, Pt. 2</td><td>2497956</td><td>1.99</td></tr>",
                            "<tr><td>261</td><td>There's No Place Like Home, Pt. 3</td><td>2582957</td><td>1.99</td></tr>",
                            "<tr><td>261</td><td>Ji Yeon</td><td>2588797</td><td>1.99</td></tr>",
                            "<tr><td>261</td><td>The Shape of Things to Come</td><td>2591299</td><td>1.99</td></tr>",
                            "<tr><td>261</td><td>The Other Woman</td><td>2605021</td><td>1.99</td></tr>",
                            "<tr><td>261</td><td>Eggtown</td><td>2608817</td><td>1.99</td></tr>",
                            "<tr><td>261</td><td>The Economist</td><td>2609025</td><td>1.99</td></tr>",
                            "<tr><td>261</td><td>There's No Place Like Home, Pt. 1</td><td>2609526</td><td>1.99</td></tr>",
                            "<tr><td>261</td><td>The Constant</td><td>2611569</td><td>1.99</td></tr>",
                            "<tr><td>261</td><td>The Beginning of the End</td><td>2611903</td><td>1.99</td></tr>",
                            "<tr><td>261</td><td>Confirmed Dead</td><td>2611986</td><td>1.99</td></tr>",
                            "<tr><td>261</td><td>Cabin Fever</td><td>2612028</td><td>1.99</td></tr>",
                            "<tr><td>261</td><td>Meet Kevin Johnson</td><td>2612028</td><td>1.99</td></tr>",
                            "<tr><td>261</td><td>Something Nice Back Home</td><td>2612779</td><td>1.99</td></tr>",
                            "</table>"
                        ]
                    }
                }
            ],
            "execution_count": 47
        }
    ]
}